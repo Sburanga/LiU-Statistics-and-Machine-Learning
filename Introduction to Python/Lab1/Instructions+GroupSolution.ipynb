{
 "cells": [
  {
   "cell_type": "markdown",
   "metadata": {},
   "source": [
    "# Lab 1: Python basics"
   ]
  },
  {
   "cell_type": "markdown",
   "metadata": {},
   "source": [
    "__Student I:__ steto820 (Stefano Toffol)\n",
    "\n",
    "__Student II:__ mimte666 (Mim Kemal Tekin)"
   ]
  },
  {
   "cell_type": "markdown",
   "metadata": {},
   "source": [
    "### A word of caution\n",
    "\n",
    "There are currently two versions of Python in common use, Python 2 and Python 3, which are not 100% compatible. Python 2 is slowly being phased out but has a large enough install base to still be relevant. This course uses the more modern Python 3 but while searching for help online it is not uncommon to find help for Python 2. Especially older posts on sources such as Stack Exchange might refer to Python 2 as simply \"Python\". This should not cause any serious problems but keep it in mind whenever googling. With regards to this lab, the largest differences are how `print` works and the best practice recommendations for string formatting."
   ]
  },
  {
   "cell_type": "markdown",
   "metadata": {},
   "source": [
    "### References to R\n",
    "\n",
    "Most students taking this course who are not already familiar with Python will probably have some experience of the R programming language. For this reason, there will be intermittent references to R throughout this lab. For those of you with a background in R (or MATLAB/Octave, or Julia) the most important thing to remember is that indexing starts at 0, not at 1."
   ]
  },
  {
   "cell_type": "markdown",
   "metadata": {},
   "source": [
    "### Recommended Reading\n",
    "\n",
    "This course is not built on any specific source and no specific litterature is required. However, for those who prefer to have a printed reference book, we recommended the books by Mark Lutz:\n",
    "\n",
    "* Learning Python by Mark Lutz, 5th edition, O'Reilly. Recommended for those who have no experience of Python. This book is called LP in the text below.\n",
    "\n",
    "* Programming Python by Mark Lutz, 4th edition, O'Reilly. Recommended for those who have some experience with Python, it generally covers more advanced topics than what is included in this course but gives you a chance to dig a bit deeper if you're already comfortable with the basics. This book is called PP in the text.\n",
    "\n",
    "For the student interested in Python as a language, it is worth mentioning\n",
    "* Fluent Python by Luciano Ramalho (also O'Reilly). Note that it is - at the time of writing - still in its first edition, from 2015. Thus newer features will be missing."
   ]
  },
  {
   "cell_type": "markdown",
   "metadata": {},
   "source": [
    "### A note about notebooks\n",
    "\n",
    "When using this notebook, you can enter python code in the empty cells, then press ctrl-enter. The code in the cell is executed and if any output occurs it will be displayed below the square. Code executed in this manner will use the same environment regardless of where in the notebook document it is placed. This means that variables and functions assigned values in one cell will thereafter be accessible from all other cells in your notebook session.\n",
    "\n",
    "Note that the programming environments described in section 1 of LP is not applicable when you run python in this notebook."
   ]
  },
  {
   "cell_type": "markdown",
   "metadata": {},
   "source": [
    "### A note about the structure of this lab\n",
    "\n",
    "This lab will contain tasks of varying difficulty. There might be cases when the solution seems too simple to be true (in retrospect), and cases where you have seen similar material elsewhere in the course. Don't be fooled by this. In many cases, the task might just serve to remind us of things that are worthwhile to check out, or to find out how to use a specific method.\n",
    "\n",
    "We will be returning to, and using, several of the concepts in this lab."
   ]
  },
  {
   "cell_type": "markdown",
   "metadata": {},
   "source": [
    "### 1. Strings and string handling\n",
    "\n",
    "The primary datatype for storing raw text in Python is the string. Note that there is no character datatype, only strings of length 1. This can be compared to how there are no atomic numbers in R, only vectors of length 1. A reference to the string datatype can be found __[here](https://docs.python.org/3/library/stdtypes.html#text-sequence-type-str)__.\n",
    "\n",
    "[Litterature: LP: Part II, especially Chapter 4, 7.]"
   ]
  },
  {
   "cell_type": "markdown",
   "metadata": {},
   "source": [
    "a) Define the variable `parrot` as the string containing the sentence _It is dead, that is what is wrong with it. This is an ex-\"Parrot\"._. \n",
    "\n",
    "[Note: If you have been programming in a language such as C or Java, you might be a bit confused about the term \"define\". Different languages use different terms when creating variables, such as \"define\", \"declare\", \"initialize\", etc. with slightly different meanings. In statically typed languages such as C or Java, declaring a variable creates a name connected to a container which can contain data of a specific type, but does not put a value in that container. Initialization is then the act of putting an initial value in such a container. Defining a variable is often used as a synonym to declaring a variable in statically typed languages but as Python is dynamically typed, i.e. variables can contain values of any type, there is no need to declare variables before initializing them. Thus, defining a variable in python entails simply assigning a value to a new name, at which point the variable is both declared and initialized. This works exactly as in R.]"
   ]
  },
  {
   "cell_type": "code",
   "execution_count": 23,
   "metadata": {},
   "outputs": [
    {
     "data": {
      "text/plain": [
       "'It is dead, that is what is wrong with it. This is an ex-\"Parrot\".'"
      ]
     },
     "execution_count": 23,
     "metadata": {},
     "output_type": "execute_result"
    }
   ],
   "source": [
    "parrot = 'It is dead, that is what is wrong with it. This is an ex-\"Parrot\".'\n",
    "parrot"
   ]
  },
  {
   "cell_type": "markdown",
   "metadata": {},
   "source": [
    "b) What methods does the string now called `parrot` (or indeed any string) seem to support? Write Python commands below to find out."
   ]
  },
  {
   "cell_type": "code",
   "execution_count": 24,
   "metadata": {},
   "outputs": [
    {
     "name": "stdout",
     "output_type": "stream",
     "text": [
      "It is dead, that is what is wrong with it. this is an ex-\"parrot\".\n",
      "it is dead, that is what is wrong with it. this is an ex-\"parrot\".\n",
      "                 It is dead, that is what is wrong with it. This is an ex-\"Parrot\".                 \n",
      "5\n",
      "b'It is dead, that is what is wrong with it. This is an ex-\"Parrot\".'\n",
      "True\n",
      "It is dead, that is what is wrong with it. This is an ex-\"Parrot\".\n",
      "6\n",
      "It is dead, that is what is wrong with it. This is an ex-\"Parrot\".\n",
      "It is dead, that is what is wrong with it. This is an ex-\"Parrot\".\n",
      "28\n",
      "False\n",
      "False\n",
      "True\n",
      "False\n",
      "False\n",
      "False\n",
      "False\n",
      "True\n",
      "False\n",
      "False\n",
      "False\n",
      "::TEST::It is dead, that is what is wrong with it. This is an ex-\"Parrot\".::TEST::\n",
      "It is dead, that is what is wrong with it. This is an ex-\"Parrot\".                                  \n",
      "it is dead, that is what is wrong with it. this is an ex-\"parrot\".\n",
      "dead, that is what is wrong with it. This is an ex-\"Parrot\".\n",
      "{80: 'C'}\n",
      "('It ', 'is', ' dead, that is what is wrong with it. This is an ex-\"Parrot\".')\n",
      "It is dead, that is what is wrong with it. This is an ex-\"Carrot\".\n",
      "48\n",
      "48\n",
      "                                  It is dead, that is what is wrong with it. This is an ex-\"Parrot\".\n",
      "('It is dead, that is what is wrong with it. This ', 'is', ' an ex-\"Parrot\".')\n",
      "Rsplit ['It ', ' dead, that ', ' what ', ' wrong with it. Th', ' ', ' an ex-\"Parrot\".']\n",
      "It is dead, that is what is wrong with it. This is an ex\n",
      "['It ', ' dead, that ', ' what ', ' wrong with it. Th', ' ', ' an ex-\"Parrot\".']\n",
      "['It is dead, that is what is wrong with it. This is an ex-\"Parrot\".']\n",
      "True\n",
      " is dead, that is what is wrong with it. This is an ex\n",
      "iT IS DEAD, THAT IS WHAT IS WRONG WITH IT. tHIS IS AN EX-\"pARROT\".\n",
      "It Is Dead, That Is What Is Wrong With It. This Is An Ex-\"Parrot\".\n",
      "It is dead, that is what is wrong with it. This is an ex-\"carrot\".\n",
      "IT IS DEAD, THAT IS WHAT IS WRONG WITH IT. THIS IS AN EX-\"PARROT\".\n",
      "0000000000000000000000000000000000It is dead, that is what is wrong with it. This is an ex-\"Parrot\".\n"
     ]
    }
   ],
   "source": [
    "print(parrot.capitalize())\n",
    "print(parrot.casefold())\n",
    "print(parrot.center(100))\n",
    "print(parrot.count(\"is\"))\n",
    "print(parrot.encode(encoding='UTF-8'))\n",
    "print(parrot.endswith('ex-\"Parrot\"', len(parrot)-12, len(parrot)-1))\n",
    "print(parrot.expandtabs(2))\n",
    "print(parrot.find(\"dead\"))\n",
    "print(parrot.format())\n",
    "print(parrot.format_map({}))\n",
    "print(parrot.index(\"wrong\"))\n",
    "print(parrot.isalnum())\n",
    "print(parrot.isalpha())\n",
    "print(parrot.isascii())\n",
    "print(parrot.isdecimal())\n",
    "print(parrot.isidentifier())\n",
    "print(parrot.islower())\n",
    "print(parrot.isnumeric())\n",
    "print(parrot.isprintable())\n",
    "print(parrot.isspace())\n",
    "print(parrot.istitle())\n",
    "print(parrot.isupper())\n",
    "print(parrot.join(['::TEST::', '::TEST::']))\n",
    "print(parrot.ljust(100))\n",
    "print(parrot.lower())\n",
    "print(parrot.lstrip('It is'))\n",
    "print(parrot.maketrans({\"P\":\"C\"}))\n",
    "print(parrot.partition(\"is\"))\n",
    "print(parrot.replace(\"Parrot\", \"Carrot\"))\n",
    "print(parrot.rfind(\"is\"))\n",
    "print(parrot.rindex(\"is\"))\n",
    "print(parrot.rjust(100))\n",
    "print(parrot.rpartition(\"is\"))\n",
    "print(\"Rsplit\", parrot.rsplit(\"is\"))\n",
    "print(parrot.rstrip('-\"Parrot\".'))\n",
    "print(parrot.split(\"is\"))\n",
    "print(parrot.splitlines(2))\n",
    "print(parrot.startswith(\" is dead\", 2))\n",
    "print(parrot.strip('It-\"Parrot\".'))\n",
    "print(parrot.swapcase())\n",
    "print(parrot.title())\n",
    "print(parrot.translate({80:\"c\"}))\n",
    "print(parrot.upper())\n",
    "print(parrot.zfill(100))"
   ]
  },
  {
   "cell_type": "markdown",
   "metadata": {},
   "source": [
    "c) Count the number of characters (letters, blank space, commas, periods\n",
    "etc) in the sentence."
   ]
  },
  {
   "cell_type": "code",
   "execution_count": 25,
   "metadata": {},
   "outputs": [
    {
     "name": "stdout",
     "output_type": "stream",
     "text": [
      "66\n"
     ]
    }
   ],
   "source": [
    "print(len(parrot))"
   ]
  },
  {
   "cell_type": "markdown",
   "metadata": {},
   "source": [
    "e) If we type `parrot + parrot`, should it change the string itself, or merely produce a new string? How would you test your intuition? Write expressions below."
   ]
  },
  {
   "cell_type": "code",
   "execution_count": 26,
   "metadata": {
    "scrolled": false
   },
   "outputs": [
    {
     "name": "stdout",
     "output_type": "stream",
     "text": [
      "It is dead, that is what is wrong with it. This is an ex-\"Parrot\". ::COMBINE STRINGS:: It is dead, that is what is wrong with it. This is an ex-\"Parrot\".\n",
      "139951212002520\n",
      "139951442815368\n",
      "False\n"
     ]
    }
   ],
   "source": [
    "# The summation of string create a new string, combinatgion of the addends, such as here:\n",
    "print(parrot + \" ::COMBINE STRINGS:: \" + parrot)\n",
    "\n",
    "# To check if our hypothesis is correct we can memorize the combined string and see if\n",
    "# its memory address is the same of the original parrot string.\n",
    "parrot_test = parrot + parrot\n",
    "print(id(parrot))\n",
    "print(id(parrot_test))\n",
    "print(id(parrot) == id(parrot_test))\n",
    "# They are indeed different objects."
   ]
  },
  {
   "cell_type": "markdown",
   "metadata": {},
   "source": [
    "f) Separate the sentence into a list of words (possibly including separators) using a built-in method. Call the list `parrot_words`."
   ]
  },
  {
   "cell_type": "code",
   "execution_count": 27,
   "metadata": {},
   "outputs": [
    {
     "data": {
      "text/plain": [
       "['It',\n",
       " 'is',\n",
       " 'dead,',\n",
       " 'that',\n",
       " 'is',\n",
       " 'what',\n",
       " 'is',\n",
       " 'wrong',\n",
       " 'with',\n",
       " 'it.',\n",
       " 'This',\n",
       " 'is',\n",
       " 'an',\n",
       " 'ex-\"Parrot\".']"
      ]
     },
     "execution_count": 27,
     "metadata": {},
     "output_type": "execute_result"
    }
   ],
   "source": [
    "parrot_words = parrot.split(\" \")\n",
    "# Do we also need to retain the blanck spaces? If yes, this is a possible way to go:\n",
    "'''\n",
    "parrot_words = [x+\" \" if x != 'ex-\"Parrot\".' else x for x in parrot_words ]\n",
    "parrot_words\n",
    "'''\n",
    "parrot_words"
   ]
  },
  {
   "cell_type": "markdown",
   "metadata": {},
   "source": [
    "e) Merge (concatenate) `parrot_words` into a string again."
   ]
  },
  {
   "cell_type": "code",
   "execution_count": 28,
   "metadata": {},
   "outputs": [
    {
     "data": {
      "text/plain": [
       "'It is dead, that is what is wrong with it. This is an ex-\"Parrot\".'"
      ]
     },
     "execution_count": 28,
     "metadata": {},
     "output_type": "execute_result"
    }
   ],
   "source": [
    "' '.join(parrot_words)\n",
    "# OR, for our alternative solution:\n",
    "# ''.join(parrot_words)"
   ]
  },
  {
   "cell_type": "markdown",
   "metadata": {},
   "source": [
    "### 2. Iteration, sequences and string formatting\n",
    "\n",
    "Loops are not as painfully slow in Python as they are in R and thus, not as critical to avoid. However, for many use cases, _comprehensions_, like _list comprehensions_ or _dict comprehensions_ are faster. In this assignment we will see both traditional loop constructs and comprehensions. For an introduction to comprehensions, __[this](https://python-3-patterns-idioms-test.readthedocs.io/en/latest/Comprehensions.html)__ might be a good place to start.\n",
    "\n",
    "It should also be noted that what Python calls lists are unnamed sequences. As in R, a Python list can contain elements of many types, however, these can only be accessed by indexing or sequence, not by name as in R."
   ]
  },
  {
   "cell_type": "markdown",
   "metadata": {},
   "source": [
    "a) Write a `for`-loop that produces the following output on the screen:<br>\n",
    "> `The next number in the loop is 5`<br>\n",
    "> `The next number in the loop is 6`<br>\n",
    "> ...<br>\n",
    "> `The next number in the loop is 10`<br>\n",
    "\n",
    "[Hint: the `range` function has more than one argument.]<br>\n",
    "[Literature: For the range construct see LP part II chapter 4 (p.112).]"
   ]
  },
  {
   "cell_type": "code",
   "execution_count": 29,
   "metadata": {},
   "outputs": [
    {
     "name": "stdout",
     "output_type": "stream",
     "text": [
      "The next number in the loop is 5\n",
      "The next number in the loop is 6\n",
      "The next number in the loop is 7\n",
      "The next number in the loop is 8\n",
      "The next number in the loop is 9\n",
      "The next number in the loop is 10\n"
     ]
    }
   ],
   "source": [
    "for x in range(5, 11):\n",
    "    print(\"The next number in the loop is %d\" % x)"
   ]
  },
  {
   "cell_type": "markdown",
   "metadata": {},
   "source": [
    "b) Write a `for`-loop that for a given`n` sets `first_n_squared` to the sum of squares of the first `n` numbers (0..n-1)."
   ]
  },
  {
   "cell_type": "code",
   "execution_count": 30,
   "metadata": {},
   "outputs": [
    {
     "data": {
      "text/plain": [
       "4950"
      ]
     },
     "execution_count": 30,
     "metadata": {},
     "output_type": "execute_result"
    }
   ],
   "source": [
    "n = 100  # If we change this and run the code, the value of first_n_squared should change afterwards!\n",
    "# your code goes here\n",
    "\n",
    "first_n_squared = 0\n",
    "for i in range(0, n):\n",
    "    first_n_squared += i**2 \n",
    "first_n_squared   # should return 0^2 + 1^2 + ... + 99^2 = 328350 if n = 100"
   ]
  },
  {
   "cell_type": "markdown",
   "metadata": {},
   "source": [
    "c) Write a code snippet that counts the number of __letters__ in `parrot` (as defined above). Use a `for` loop."
   ]
  },
  {
   "cell_type": "code",
   "execution_count": 31,
   "metadata": {},
   "outputs": [
    {
     "data": {
      "text/plain": [
       "47"
      ]
     },
     "execution_count": 31,
     "metadata": {},
     "output_type": "execute_result"
    }
   ],
   "source": [
    "letter_count = 0\n",
    "for c in parrot:\n",
    "    if c.isalpha():\n",
    "        letter_count += 1\n",
    "letter_count"
   ]
  },
  {
   "cell_type": "markdown",
   "metadata": {},
   "source": [
    "d) Write a for-loop that iterates over the list `names` below and presents them on the screen in the following fashion:\n",
    "\n",
    "> `The name Tesco is nice`<br>\n",
    "> ...<br>\n",
    "> `The name Zeno is nice`<br>\n",
    "\n",
    "Use Python's string formatting capabilities (the `format` function in the string class) to solve the problem.\n",
    "\n",
    "[Warning: The best practices for how to do string formatting differs from Python 2 and 3, make sure you use the Python 3 approach.]<br>\n",
    "[Literature: String formatting is covered in LP part II chapter 7.]"
   ]
  },
  {
   "cell_type": "code",
   "execution_count": 32,
   "metadata": {},
   "outputs": [
    {
     "name": "stdout",
     "output_type": "stream",
     "text": [
      "The name Tesco is nice\n",
      "The name Forex is nice\n",
      "The name Alonzo is nice\n",
      "The name Zeno is nice\n"
     ]
    }
   ],
   "source": [
    "names = ['Tesco', 'Forex', 'Alonzo', 'Zeno']\n",
    "for name in names:\n",
    "    print(\"The name {name} is nice\".format(name=name))"
   ]
  },
  {
   "cell_type": "markdown",
   "metadata": {},
   "source": [
    "e) Write a for-loop that iterates over the list `names` and produces the list `n_letters` (`[5,5,6,4]`) with the length of each name."
   ]
  },
  {
   "cell_type": "code",
   "execution_count": 33,
   "metadata": {},
   "outputs": [
    {
     "data": {
      "text/plain": [
       "[5, 5, 6, 4]"
      ]
     },
     "execution_count": 33,
     "metadata": {},
     "output_type": "execute_result"
    }
   ],
   "source": [
    "n_letters = []\n",
    "for name in names:\n",
    "    n_letters.append(len(name))\n",
    "n_letters"
   ]
  },
  {
   "cell_type": "markdown",
   "metadata": {},
   "source": [
    "f) How would you - in a Python interpreter/REPL or in this Notebook - retrieve the help for the built-in function `max`?"
   ]
  },
  {
   "cell_type": "code",
   "execution_count": 34,
   "metadata": {},
   "outputs": [],
   "source": [
    "?max"
   ]
  },
  {
   "cell_type": "markdown",
   "metadata": {},
   "source": [
    "g) Show an example of how `max` can be used with an iterable of your choice."
   ]
  },
  {
   "cell_type": "code",
   "execution_count": 35,
   "metadata": {},
   "outputs": [
    {
     "data": {
      "text/plain": [
       "10000000"
      ]
     },
     "execution_count": 35,
     "metadata": {},
     "output_type": "execute_result"
    }
   ],
   "source": [
    "max([5.0, 3, 2**20, 100, 10000000])"
   ]
  },
  {
   "cell_type": "markdown",
   "metadata": {
    "collapsed": true
   },
   "source": [
    "h) Use a comprehension (or generator) to calculate the sum 0^2 + ... + (n-1)^2 as above."
   ]
  },
  {
   "cell_type": "code",
   "execution_count": 36,
   "metadata": {},
   "outputs": [
    {
     "data": {
      "text/plain": [
       "328350"
      ]
     },
     "execution_count": 36,
     "metadata": {},
     "output_type": "execute_result"
    }
   ],
   "source": [
    "# We are confused: a comprehension of an iterable return an iterable of the same lenght\n",
    "# We solved it using the sum() function for iterables\n",
    "n = 100\n",
    "first_n_squared = sum(x**2 for x in range(0,n))\n",
    "first_n_squared # Should return the same result as your for-loop."
   ]
  },
  {
   "cell_type": "markdown",
   "metadata": {},
   "source": [
    "i) Solve assignment e) using a list comprehension.\n",
    "\n",
    "[Literature: Comprehensions are covered in LP part II chapter 4.]"
   ]
  },
  {
   "cell_type": "code",
   "execution_count": 37,
   "metadata": {},
   "outputs": [
    {
     "data": {
      "text/plain": [
       "[5, 5, 6, 4]"
      ]
     },
     "execution_count": 37,
     "metadata": {},
     "output_type": "execute_result"
    }
   ],
   "source": [
    "n_letters = [len(name) for name in names]\n",
    "n_letters"
   ]
  },
  {
   "cell_type": "markdown",
   "metadata": {},
   "source": [
    "j) Use a list comprehension to produce a list `short_long` that indicates if the name (in the list `names`) has more than four letters. The answer should be `['long', 'long', 'long', 'short']`."
   ]
  },
  {
   "cell_type": "code",
   "execution_count": 38,
   "metadata": {},
   "outputs": [
    {
     "data": {
      "text/plain": [
       "['long', 'long', 'long', 'short']"
      ]
     },
     "execution_count": 38,
     "metadata": {},
     "output_type": "execute_result"
    }
   ],
   "source": [
    "short_long = [\"short\" if len(name)<=4 else \"long\" for name in names]\n",
    "short_long"
   ]
  },
  {
   "cell_type": "markdown",
   "metadata": {},
   "source": [
    "k) Use a comprehension to count the number of letters in `parrot`. You may not use a `for`-loop. (The comprehension will contain the word `for`, but it isn't a `for ... in ...:`-statement.)"
   ]
  },
  {
   "cell_type": "code",
   "execution_count": 39,
   "metadata": {},
   "outputs": [
    {
     "data": {
      "text/plain": [
       "47"
      ]
     },
     "execution_count": 39,
     "metadata": {},
     "output_type": "execute_result"
    }
   ],
   "source": [
    "letters_parrot = sum(letter.isalpha() for letter in parrot)\n",
    "letters_parrot"
   ]
  },
  {
   "cell_type": "markdown",
   "metadata": {},
   "source": [
    "[Note: this is fairly similar to the long/short task, but note how we access member functions of the values.]"
   ]
  },
  {
   "cell_type": "markdown",
   "metadata": {},
   "source": [
    "l) Below we have the string `datadump`. Retrieve the substring string starting at character 27 and ending at character 34 by means of slicing."
   ]
  },
  {
   "cell_type": "code",
   "execution_count": 40,
   "metadata": {
    "scrolled": true
   },
   "outputs": [
    {
     "data": {
      "text/plain": [
       "'old html'"
      ]
     },
     "execution_count": 40,
     "metadata": {},
     "output_type": "execute_result"
    }
   ],
   "source": [
    "# Assuming the numbering of characters starts from 0, as in Python itself.\n",
    "datadump = \"The name of the game is <b>old html</b>. That is <b>so cool</b>.\"\n",
    "datadump[27:35]"
   ]
  },
  {
   "cell_type": "markdown",
   "metadata": {},
   "source": [
    "l) Write a loop that uses indices to __simultaneously__ loop over the lists `names` and `short_long` to write the following to the screen:\n",
    "\n",
    "> `The name Tesco is a long name`<br>\n",
    "> ...<br>\n",
    "> `The name Zeno is a short name`<br>"
   ]
  },
  {
   "cell_type": "code",
   "execution_count": 41,
   "metadata": {},
   "outputs": [
    {
     "name": "stdout",
     "output_type": "stream",
     "text": [
      "The name Tesco is a long name\n",
      "The name Forex is a long name\n",
      "The name Alonzo is a long name\n",
      "The name Zeno is a short name\n"
     ]
    }
   ],
   "source": [
    "for i in range(len(short_long)):\n",
    "    print(\"The name %s is a %s name\"%(names[i], short_long[i]))"
   ]
  },
  {
   "cell_type": "markdown",
   "metadata": {},
   "source": [
    "Note: this is a common programming pattern, though not particularly Pythonic in this use case. We do however need to know how to use indices in lists to work properly with Python."
   ]
  },
  {
   "cell_type": "markdown",
   "metadata": {},
   "source": [
    "m) Do the task above once more, but this time without the use of indices."
   ]
  },
  {
   "cell_type": "code",
   "execution_count": 48,
   "metadata": {
    "scrolled": false
   },
   "outputs": [
    {
     "name": "stdout",
     "output_type": "stream",
     "text": [
      "The name Tesco is a long name\n",
      "The name Forex is a long name\n",
      "The name Alonzo is a long name\n",
      "The name Zeno is a short name\n"
     ]
    }
   ],
   "source": [
    "list_print = [\"The name \" + el[0] + \" is a \" + el[1] + \" name\" for el in zip(names, short_long)]\n",
    "print(*list_print, sep=\"\\n\")"
   ]
  },
  {
   "cell_type": "markdown",
   "metadata": {},
   "source": [
    "[Hint: Use the `zip` function.]<br>\n",
    "[Literature: zip usage with dictionary is found in LP part II chapter 8 and dictionary comprehensions in the same place.]"
   ]
  },
  {
   "cell_type": "markdown",
   "metadata": {},
   "source": [
    "n) Among the built-in datatypes, it is also worth mentioning the tuple. Construct two tuples, `one` containing the number one and `two` containing the number 1 and the number 2. What happens if you add them? Name some method that a list with similar content (such as `two_list` below) would support, that `two` doesn't and explain why this makes sense."
   ]
  },
  {
   "cell_type": "code",
   "execution_count": 95,
   "metadata": {},
   "outputs": [
    {
     "data": {
      "text/plain": [
       "'\\nThe tuple cannot be modified, nor elements can be added to them. \\nIt makes sense if the elements of the tuple are referring to permanent, fixed order items,\\nsuch as keys, password, or other fixed fields of interviews/documents.\\nAdding or subtracting tuples with other tuples is not possible because of the just mentioned reasons.\\n'"
      ]
     },
     "execution_count": 95,
     "metadata": {},
     "output_type": "execute_result"
    }
   ],
   "source": [
    "one = (1)    # Change this.\n",
    "two = (1, 2)    # Change this\n",
    "two_list = [1, 2]\n",
    "\n",
    "\"\"\"\n",
    "The tuple cannot be modified, nor elements can be added to them. \n",
    "It makes sense if the elements of the tuple are referring to permanent, fixed order items,\n",
    "such as keys, password, or other fixed fields of interviews/documents.\n",
    "Adding or subtracting tuples with other tuples is not possible (error) because of the just mentioned reasons.\n",
    "\"\"\""
   ]
  },
  {
   "cell_type": "markdown",
   "metadata": {},
   "source": [
    "### 3. Conditionals, logic and while loops"
   ]
  },
  {
   "cell_type": "markdown",
   "metadata": {},
   "source": [
    "a) Below we have an integer called `n`. Write code that prints \"It's even!\" if it is even, and \"It's odd!\" if it's not."
   ]
  },
  {
   "cell_type": "code",
   "execution_count": 1,
   "metadata": {},
   "outputs": [
    {
     "name": "stdout",
     "output_type": "stream",
     "text": [
      "\n",
      "Test 1:\n",
      "It's odd!\n",
      "\n",
      "Test 2:\n",
      "It's even!\n",
      "\n",
      "Test 3:\n",
      "It's odd!\n"
     ]
    }
   ],
   "source": [
    "n = 3 # Change this to other values and run your code to test.\n",
    "\n",
    "print(\"\\nTest 1:\")\n",
    "if(n%2==1):\n",
    "    print(\"It's odd!\")\n",
    "else:\n",
    "    print(\"It's even!\")\n",
    "        \n",
    "print(\"\\nTest 2:\")\n",
    "n = 2\n",
    "if(n%2==1):\n",
    "    print(\"It's odd!\")\n",
    "else:\n",
    "    print(\"It's even!\")\n",
    "\n",
    "print(\"\\nTest 3:\")\n",
    "n = 11\n",
    "if(n%2==1):\n",
    "    print(\"It's odd!\")\n",
    "else:\n",
    "    print(\"It's even!\")"
   ]
  },
  {
   "cell_type": "markdown",
   "metadata": {},
   "source": [
    "b) Below we have the list `options`. Write code (including an `if` statement) that ensures that the boolean variable `OPTIMIZE` is True _if and only if_ the list contains the string `--optimize` (exactly like that)."
   ]
  },
  {
   "cell_type": "code",
   "execution_count": 97,
   "metadata": {},
   "outputs": [
    {
     "name": "stdout",
     "output_type": "stream",
     "text": [
      "True\n",
      "None\n"
     ]
    }
   ],
   "source": [
    "OPTIMIZE = None       # Or some value which we are unsure of.\n",
    "options = ['--print-results', '--optimize', '-x']  # This might have been generated by a GUI or command line option\n",
    "\n",
    "if '--optimize' in options:\n",
    "    OPTIMIZE = True\n",
    "\n",
    "print(OPTIMIZE)\n",
    "\n",
    "OPTIMIZE = None       # Or some value which we are unsure of.\n",
    "options = ['--print-results', '-optimize', '-x']  # This might have been generated by a GUI or command line option\n",
    "\n",
    "if '--optimize' in options:\n",
    "    OPTIMIZE = True\n",
    "\n",
    "print(OPTIMIZE)"
   ]
  },
  {
   "cell_type": "markdown",
   "metadata": {},
   "source": [
    "Note: It might be tempting to use a `for` loop. In this case, we will not be needing this, and you may _not_ use it. Python has some useful built-ins to test for membership.\n",
    "\n",
    "You may use an `else`-free `if` statement if you like."
   ]
  },
  {
   "cell_type": "markdown",
   "metadata": {},
   "source": [
    "c) Redo the task above, but now consider the case where the boolean `OPTIMIZE` is True _if and only if_ the `options` list contains either `--optimize` or `-o` (or both)."
   ]
  },
  {
   "cell_type": "code",
   "execution_count": 98,
   "metadata": {},
   "outputs": [
    {
     "name": "stdout",
     "output_type": "stream",
     "text": [
      "True\n",
      "True\n"
     ]
    }
   ],
   "source": [
    "OPTIMIZE = None       # Or some value which we are unsure of.\n",
    "options = ['--print-results', '-o', '-x']  # This might have been generated by a GUI or command line option\n",
    "\n",
    "if ('--optimize' in options) | ('-o' in options):\n",
    "    OPTIMIZE = True\n",
    "\n",
    "print(OPTIMIZE)\n",
    "\n",
    "OPTIMIZE = None       # Or some value which we are unsure of.\n",
    "options = ['--print-results', '--optimize', '-o', '-x']  \n",
    "\n",
    "if ('--optimize' in options) | ('-o' in options):\n",
    "    OPTIMIZE = True\n",
    "\n",
    "print(OPTIMIZE)"
   ]
  },
  {
   "cell_type": "markdown",
   "metadata": {},
   "source": [
    "[Hint: Don't forget to test your code with different versions of the options list! \n",
    "\n",
    "If you find something that seems strange, you might want to check what the value of the _condition itself_ is.]\n",
    "\n",
    "[Note: This extension of the task is included as it includes a common source of hard-to-spot bugs.]"
   ]
  },
  {
   "cell_type": "markdown",
   "metadata": {},
   "source": [
    "d) Write out *a few* good tests that should (in an *extremely* informal sense) illustrate the correctness of your solution. Make sure that you actually try them out with your code. \n",
    "\n",
    "Also make sure to write what the cases actually tell you, and why they are useful inputs to your set of tests. If you already have the test `options = [\"hey\"]`, adding the test `options = [\"hello\"]` doesn't add any possible ways of failing (or any coverage)."
   ]
  },
  {
   "cell_type": "code",
   "execution_count": 59,
   "metadata": {},
   "outputs": [
    {
     "name": "stdout",
     "output_type": "stream",
     "text": [
      "None\n",
      "True\n",
      "None\n",
      "True\n",
      "True\n"
     ]
    }
   ],
   "source": [
    "# Test 0: if options is the list below, OPTIMIZE should be True after. \n",
    "# This test demonstrates that the code is able to detect the absence of \"--optimize\"\n",
    "options0 = [None]       \n",
    "OPTIMIZE = None  \n",
    "if ('--optimize' in options0) | ('-o' in options0):\n",
    "    OPTIMIZE = True\n",
    "\n",
    "print(OPTIMIZE)\n",
    "\n",
    "options0.append(\"--optimize\")\n",
    "\n",
    "if ('--optimize' in options0) | ('-o' in options0):\n",
    "    OPTIMIZE = True\n",
    "\n",
    "print(OPTIMIZE)\n",
    "\n",
    "# Test 1: if -o is the list below, OPTIMIZE should be True after. \n",
    "# This test demonstrates that the code is able to detect the absence of \"-o\"\n",
    "options0 = [\"random\", \"words\", 42, \"One ring to rule them all\"]       \n",
    "OPTIMIZE = None  \n",
    "if ('--optimize' in options0) | ('-o' in options0):\n",
    "    OPTIMIZE = True\n",
    "\n",
    "print(OPTIMIZE)\n",
    "\n",
    "options0.append(\"-o\")\n",
    "\n",
    "if ('--optimize' in options0) | ('-o' in options0):\n",
    "    OPTIMIZE = True\n",
    "\n",
    "print(OPTIMIZE)\n",
    "\n",
    "options0.append(\"--optimize\")\n",
    "\n",
    "if ('--optimize' in options0) | ('-o' in options0):\n",
    "    OPTIMIZE = True\n",
    "\n",
    "print(OPTIMIZE)"
   ]
  },
  {
   "cell_type": "markdown",
   "metadata": {},
   "source": [
    "[Note: This way of testing your code is very primitive, but it's good to get used to constructing test cases. We will be discussing procedures and functions in the next lab.]"
   ]
  },
  {
   "cell_type": "markdown",
   "metadata": {},
   "source": [
    "d) Sometimes we can avoid using an `if` statement altogether. The task above is a prime example of this (and was introduced to get some practice with the `if` statement). Solve the task above in a one-liner without resorting to an `if` statement. (You may use an `if` expression, but you don't have to.)"
   ]
  },
  {
   "cell_type": "code",
   "execution_count": 100,
   "metadata": {},
   "outputs": [
    {
     "name": "stdout",
     "output_type": "stream",
     "text": [
      "True\n"
     ]
    }
   ],
   "source": [
    "options = ['--print-results', '-o', '-x']  # This might have been generated by a GUI or command line option\n",
    "\n",
    "OPTIMIZE = (\"-o\" in options) | (\"--optimize\" in options)\n",
    "\n",
    "print(OPTIMIZE)\n",
    "\n",
    "# Here OPTIMIZE should be True if and only if we found '--optimize' or '-o' in the list."
   ]
  },
  {
   "cell_type": "markdown",
   "metadata": {},
   "source": [
    "[Hint: What should the value of the condition be when you enter the then-branch of the `if`? When you enter the else-branch?]"
   ]
  },
  {
   "cell_type": "markdown",
   "metadata": {},
   "source": [
    "e) Write a `while`-loop that repeatedly generates a random number from a uniform distribution over the interval [0,1], and prints the sentence 'The random number is smaller than 0.9' on the screen until the generated random number is greater than 0.9.\n",
    "\n",
    "[Hint: Python has a `random` module with basic random number generators.]<br/>\n",
    "\n",
    "[Literature: Introduction to the Random module can be found in LP part III chapter 5 (Numeric Types). Importing modules is introduced in part I chapter 3  and covered in depth in part IV.]"
   ]
  },
  {
   "cell_type": "code",
   "execution_count": 101,
   "metadata": {},
   "outputs": [
    {
     "name": "stdout",
     "output_type": "stream",
     "text": [
      "The random number is smaller than 0.9\n",
      "The random number is smaller than 0.9\n",
      "The random number is smaller than 0.9\n",
      "The random number is smaller than 0.9\n",
      "The random number is smaller than 0.9\n",
      "The random number is smaller than 0.9\n",
      "The random number is smaller than 0.9\n",
      "The random number is smaller than 0.9\n",
      "The random number is smaller than 0.9\n",
      "The random number is smaller than 0.9\n",
      "The random number is smaller than 0.9\n",
      "The random number is smaller than 0.9\n",
      "The random number is smaller than 0.9\n",
      "The random number is smaller than 0.9\n",
      "The random number is smaller than 0.9\n",
      "The random number is smaller than 0.9\n",
      "The random number is smaller than 0.9\n",
      "The random number is smaller than 0.9\n",
      "The random number is smaller than 0.9\n",
      "The random number is smaller than 0.9\n",
      "The random number is smaller than 0.9\n",
      "The random number is smaller than 0.9\n",
      "The random number is smaller than 0.9\n",
      "The random number is smaller than 0.9\n",
      "The random number is smaller than 0.9\n",
      "The random number is smaller than 0.9\n",
      "The random number is smaller than 0.9\n",
      "The random number is smaller than 0.9\n",
      "The random number is smaller than 0.9\n",
      "The random number is smaller than 0.9\n"
     ]
    }
   ],
   "source": [
    "import random\n",
    "num = random.uniform(0,1)\n",
    "while(num<=0.9):\n",
    "    num = random.uniform(0,1)\n",
    "    print('The random number is smaller than 0.9')"
   ]
  },
  {
   "cell_type": "markdown",
   "metadata": {},
   "source": [
    "### 4. Dictionaries\n",
    "\n",
    "Dictionaries are association tables, or maps, connecting a key to a value. For instance a name represented by a string as key with a number representing some attribute as a value. Dictionaries can themselves be values in other dictionaries, creating nested or hierarchical data structures. This is similar to named lists in R but keys in Python dictionaries can be more complex than just strings.\n",
    "\n",
    "[Literature: Dictionaries are found in LP section II chapter 4.]"
   ]
  },
  {
   "cell_type": "markdown",
   "metadata": {},
   "source": [
    "a) Make a dictionary named `amadeus` containing the information that the student Amadeus is a male, scored 8 on the Algebra exam and 13 on the History exam. The dictionary should NOT include a name entry."
   ]
  },
  {
   "cell_type": "code",
   "execution_count": 102,
   "metadata": {},
   "outputs": [],
   "source": [
    "amadeus = {\"Sex\":\"Male\", \"Algebra\":8, \"History\":13}"
   ]
  },
  {
   "cell_type": "markdown",
   "metadata": {},
   "source": [
    "b) Make three more dictionaries, one for each of the students: Rosa, Mona and Ludwig, from the information in the following table:\n",
    "\n",
    "| Name          | Gender        | Algebra       | History | \n",
    "| :-----------: | :-----------: |:-------------:| :------:|\n",
    "| Rosa          | Female        | 19            | 22      |\n",
    "| Mona          | Female        | 6             | 27      |\n",
    "| Ludwig        | Other         | 12            | 18      |"
   ]
  },
  {
   "cell_type": "code",
   "execution_count": 103,
   "metadata": {},
   "outputs": [],
   "source": [
    "rosa = {\"Sex\":\"Female\", \"Algebra\":19, \"History\":22}\n",
    "mona = {\"Sex\":\"Female\", \"Algebra\":6, \"History\":27}\n",
    "ludwig = {\"Sex\":\"Other\", \"Algebra\":12, \"History\":18}"
   ]
  },
  {
   "cell_type": "markdown",
   "metadata": {},
   "source": [
    "c) Combine the four students in a dictionary named `students` such that a user of your dictionary can type `students['Amadeus']['History']` to retrive Amadeus score on the history test.\n",
    "\n",
    "[HINT: The values in a dictionary can be dictionaries.]"
   ]
  },
  {
   "cell_type": "code",
   "execution_count": 104,
   "metadata": {},
   "outputs": [],
   "source": [
    "students = {\"Amadeus\":amadeus, \"Rosa\":rosa, \"Mona\":mona, \"Ludwig\":ludwig}"
   ]
  },
  {
   "cell_type": "markdown",
   "metadata": {},
   "source": [
    "d) Add the new male student Karl to the dictionary `students`. Karl scored 14 on the Algebra exam and 10 on the History exam."
   ]
  },
  {
   "cell_type": "code",
   "execution_count": 105,
   "metadata": {},
   "outputs": [],
   "source": [
    "students[\"Karl\"] = {\"Sex\":\"Male\", \"Algebra\":14, \"History\":10}"
   ]
  },
  {
   "cell_type": "markdown",
   "metadata": {},
   "source": [
    "e) Use a `for`-loop to print out the names and scores of all students on the screen. The output should look like something this (the order of the students doesn't matter):\n",
    "\n",
    "> `Student Amadeus scored 8 on the Algebra exam and 13 on the History exam`<br>\n",
    "> `Student Rosa scored 19 on the Algebra exam and 22 on the History exam`<br>\n",
    "> ...\n",
    "\n",
    "[Hint: Dictionaries are iterables, also, check out the `items` function for dictionaries.]"
   ]
  },
  {
   "cell_type": "code",
   "execution_count": 106,
   "metadata": {},
   "outputs": [
    {
     "name": "stdout",
     "output_type": "stream",
     "text": [
      "Student Amadeus scored 8 on the Algebra exam and 13 on the History exam\n",
      "Student Rosa scored 19 on the Algebra exam and 22 on the History exam\n",
      "Student Mona scored 6 on the Algebra exam and 27 on the History exam\n",
      "Student Ludwig scored 12 on the Algebra exam and 18 on the History exam\n",
      "Student Karl scored 14 on the Algebra exam and 10 on the History exam\n"
     ]
    }
   ],
   "source": [
    "for k, v in students.items():\n",
    "    print(\"Student %s scored %d on the Algebra exam and %d on the History exam\"%(k, v[\"Algebra\"], v[\"History\"]))\n",
    "    "
   ]
  },
  {
   "cell_type": "markdown",
   "metadata": {},
   "source": [
    "f) Use a dict comprehension and the lists `names` and `short_long` from assignment 2 to create a dictionary of names and wether they are short or long. The result should be a dictionary equivalent to {'Forex':'long', 'Tesco':'long', ...}.\n",
    "\n",
    "[Note: Remember that dictionaries in Python are unordered and that the order of the pairs in the above dictionary is arbitrary, you might not get the same order, this is fine.]<br>"
   ]
  },
  {
   "cell_type": "code",
   "execution_count": 109,
   "metadata": {},
   "outputs": [
    {
     "data": {
      "text/plain": [
       "['Tesco', 'Forex', 'Alonzo', 'Zeno']"
      ]
     },
     "execution_count": 109,
     "metadata": {},
     "output_type": "execute_result"
    }
   ],
   "source": [
    "names"
   ]
  },
  {
   "cell_type": "code",
   "execution_count": 110,
   "metadata": {},
   "outputs": [
    {
     "data": {
      "text/plain": [
       "['long', 'long', 'long', 'short']"
      ]
     },
     "execution_count": 110,
     "metadata": {},
     "output_type": "execute_result"
    }
   ],
   "source": [
    "short_long"
   ]
  },
  {
   "cell_type": "code",
   "execution_count": 111,
   "metadata": {},
   "outputs": [
    {
     "data": {
      "text/plain": [
       "{'Tesco': 'long', 'Forex': 'long', 'Alonzo': 'long', 'Zeno': 'short'}"
      ]
     },
     "execution_count": 111,
     "metadata": {},
     "output_type": "execute_result"
    }
   ],
   "source": [
    "dict_short_long = {t[0]:t[1] for t in zip(names, short_long)}\n",
    "dict_short_long"
   ]
  },
  {
   "cell_type": "markdown",
   "metadata": {},
   "source": [
    "### 5. Introductory file I/O\n",
    "\n",
    "File I/O in Python is a bit more general than what most R programmers are used to. In R, reading and writing files are usually performed using file type specific functions such as `read.csv` while in Python we usually start with reading standard text files. However, there are lots of specialized functions for different file types in Python as well, especially when using the __[pandas](http://pandas.pydata.org/)__ library which is built around a datatype similar to R DataFrames. Pandas will not be covered in this course though.\n",
    "\n",
    "[Literature: Files are introduced in LP part II chapter 4 and chapter 9.]"
   ]
  },
  {
   "cell_type": "markdown",
   "metadata": {},
   "source": [
    "The file `students.tsv` contains tab separated values corresponding to the students in previous assigments.\n",
    "\n",
    "a) Iterate over the file, line by line, and print each line. The result should be something like this:\n",
    "\n",
    "> `Amadeus\tMale\t8\t13`<br>\n",
    "> `Rosa\tFemale\t19\t22`<br>\n",
    "> ...\n",
    "\n",
    "The file should be closed when reading is complete.\n",
    "\n",
    "[Hint: Files are iterable in Python.]"
   ]
  },
  {
   "cell_type": "code",
   "execution_count": 57,
   "metadata": {
    "scrolled": true
   },
   "outputs": [
    {
     "name": "stdout",
     "output_type": "stream",
     "text": [
      "Amadeus\tMale\t8\t13\n",
      "Rosa\tFemale\t19\t22\n",
      "Mona\tFemale\t6\t27\n",
      "Ludwig\tOther\t12\t18\n",
      "Karl\tMale\t14\t10\n"
     ]
    }
   ],
   "source": [
    "student_file = open(\"students.tsv\",\"r\")\n",
    "student_contents = student_file.read().split(\"\\n\")\n",
    "print(student_contents)\n",
    "for line in student_contents:\n",
    "    print(line)\n",
    "student_file.close()\n",
    "\n",
    "# OR, without iterating:\n",
    "#student_contents = student_file.read()\n",
    "#print(student_contents)\n",
    "#student_file.close()"
   ]
  },
  {
   "cell_type": "markdown",
   "metadata": {},
   "source": [
    "b) Working with many files can be problematic, especially when you forget to close files or errors interrupt programs before files are closed. Python thus has a special `with` statement which automatically closes files for you, even if an error occurs. Redo the assignment above using the `with` statement.\n",
    "\n",
    "[Literature: With is introduced in LP part II chapter 9 page 294.]"
   ]
  },
  {
   "cell_type": "code",
   "execution_count": 119,
   "metadata": {},
   "outputs": [
    {
     "name": "stdout",
     "output_type": "stream",
     "text": [
      "Amadeus\tMale\t8\t13\n",
      "Rosa\tFemale\t19\t22\n",
      "Mona\tFemale\t6\t27\n",
      "Ludwig\tOther\t12\t18\n",
      "Karl\tMale\t14\t10\n"
     ]
    }
   ],
   "source": [
    "with open(\"students.tsv\", \"r\") as student_file:\n",
    "    print(student_contents)"
   ]
  },
  {
   "cell_type": "markdown",
   "metadata": {},
   "source": [
    "c) Recreate the dictionary from assignment the previous assignment by reading the data from the file. Using a dedicated csv-reader is not permitted."
   ]
  },
  {
   "cell_type": "code",
   "execution_count": 122,
   "metadata": {},
   "outputs": [
    {
     "data": {
      "text/plain": [
       "{'Amadeus': {'Sex': 'Male', 'Algebra': '8', 'History': '13'},\n",
       " 'Rosa': {'Sex': 'Female', 'Algebra': '19', 'History': '22'},\n",
       " 'Mona': {'Sex': 'Female', 'Algebra': '6', 'History': '27'},\n",
       " 'Ludwig': {'Sex': 'Other', 'Algebra': '12', 'History': '18'},\n",
       " 'Karl': {'Sex': 'Male', 'Algebra': '14', 'History': '10'}}"
      ]
     },
     "execution_count": 122,
     "metadata": {},
     "output_type": "execute_result"
    }
   ],
   "source": [
    "with open(\"students.tsv\", \"r\") as student_file:\n",
    "    student_dict = {}\n",
    "    for line in student_file:\n",
    "        line = line.split()\n",
    "        student_dict[line[0]] = {\"Sex\":line[1], \"Algebra\":line[2], \"History\":line[3]}\n",
    "\n",
    "student_dict"
   ]
  },
  {
   "cell_type": "markdown",
   "metadata": {},
   "source": [
    "d) Using the dictionary above, write sentences from task 4e above to a new file, called `students.txt`."
   ]
  },
  {
   "cell_type": "code",
   "execution_count": 126,
   "metadata": {},
   "outputs": [],
   "source": [
    "with open(\"students.txt\", \"w+\") as student_file:\n",
    "    for k, v in student_dict.items():\n",
    "        student_file.write(str(k) + ' ' + str(v[\"Sex\"]) + ' ' + str(v[\"Algebra\"]) + ' ' + str(v[\"History\"]) + '\\n')"
   ]
  }
 ],
 "metadata": {
  "kernelspec": {
   "display_name": "Python 3",
   "language": "python",
   "name": "python3"
  },
  "language_info": {
   "codemirror_mode": {
    "name": "ipython",
    "version": 3
   },
   "file_extension": ".py",
   "mimetype": "text/x-python",
   "name": "python",
   "nbconvert_exporter": "python",
   "pygments_lexer": "ipython3",
   "version": "3.7.1"
  }
 },
 "nbformat": 4,
 "nbformat_minor": 2
}
