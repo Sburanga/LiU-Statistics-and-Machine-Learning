{
 "cells": [
  {
   "cell_type": "markdown",
   "metadata": {},
   "source": [
    "# Laboration 2A"
   ]
  },
  {
   "cell_type": "markdown",
   "metadata": {},
   "source": [
    "---\n",
    "**Student:** steto820 (Stefano Toffol)\n",
    "\n",
    "**Student:** mimke666 (Mim Tekin Kemal)\n",
    "\n",
    "---"
   ]
  },
  {
   "cell_type": "markdown",
   "metadata": {},
   "source": [
    "# Introduction \n",
    "In this first part of the lab, we will be exploring \n",
    "* Functions\n",
    "    * How functions are called.\n",
    "    * Argument passing\n",
    "    * Return values.\n",
    "* Function usage\n",
    "    * Construction of simple multi-function programs.\n",
    "    * Functions that work on several kinds of inputs (ie simple polymorphism via duck typing).\n",
    "\n",
    "Additionally we will touch upon\n",
    "* Exceptions and \n",
    "* simple assertion testing and debugging."
   ]
  },
  {
   "cell_type": "markdown",
   "metadata": {},
   "source": [
    "This lab might require you to search for information on your own to a larger extent than in lab 1. As in the last lab, Lutz' Learning Python and the [official documentation](https://docs.python.org) might be helpful. Also make sure to make use of the available lab assistance!"
   ]
  },
  {
   "cell_type": "markdown",
   "metadata": {},
   "source": [
    "# Handin instruction"
   ]
  },
  {
   "cell_type": "markdown",
   "metadata": {},
   "source": [
    "This lab consists of two parts, 2A and 2B (on functional and declarative patterns). After you've finished lab 2A, hand it in straight away (using the name 2a as the lab name). You do not need to wait until you've finished lab 2B."
   ]
  },
  {
   "cell_type": "markdown",
   "metadata": {},
   "source": [
    "## Functions in Python"
   ]
  },
  {
   "cell_type": "markdown",
   "metadata": {},
   "source": [
    "a) Write a function that takes a radius and returns area of a circle with that radius. What would be a good name for the function and the argument? Python has a value for $\\pi$ in a certain standard library module. Which might that be? Don't type in the constant yourself."
   ]
  },
  {
   "cell_type": "code",
   "execution_count": 13,
   "metadata": {},
   "outputs": [
    {
     "data": {
      "text/plain": [
       "3.141592653589793"
      ]
     },
     "execution_count": 13,
     "metadata": {},
     "output_type": "execute_result"
    }
   ],
   "source": [
    "import math\n",
    "math.pi"
   ]
  },
  {
   "cell_type": "code",
   "execution_count": 14,
   "metadata": {},
   "outputs": [],
   "source": [
    "def circle_area(radius):\n",
    "    from math import pi\n",
    "    return(pi*radius**2)"
   ]
  },
  {
   "cell_type": "markdown",
   "metadata": {},
   "source": [
    "[Hint: Google. Or consider modules we have `import`ed previously.]"
   ]
  },
  {
   "cell_type": "markdown",
   "metadata": {},
   "source": [
    "b) How would you call the function, if you wanted to calculate the area of a circle with radius 10cm?"
   ]
  },
  {
   "cell_type": "code",
   "execution_count": 15,
   "metadata": {},
   "outputs": [
    {
     "data": {
      "text/plain": [
       "314.1592653589793"
      ]
     },
     "execution_count": 15,
     "metadata": {},
     "output_type": "execute_result"
    }
   ],
   "source": [
    "circle_area(10)"
   ]
  },
  {
   "cell_type": "markdown",
   "metadata": {},
   "source": [
    "c) How would you call the function using named arguments/keyword arguments?"
   ]
  },
  {
   "cell_type": "code",
   "execution_count": 16,
   "metadata": {},
   "outputs": [
    {
     "data": {
      "text/plain": [
       "314.1592653589793"
      ]
     },
     "execution_count": 16,
     "metadata": {},
     "output_type": "execute_result"
    }
   ],
   "source": [
    "radius = 10\n",
    "circle_area(radius)"
   ]
  },
  {
   "cell_type": "markdown",
   "metadata": {},
   "source": [
    "[Note: In this case, the calling of the function is somewhat artificial. When writing scripts or working with programs that take several parameters, this style can be quite useful. This sidesteps questions of if this particular library takes the input or the output as the first argument, or the like. The code of course becomes more verbose.]"
   ]
  },
  {
   "cell_type": "code",
   "execution_count": null,
   "metadata": {},
   "outputs": [],
   "source": []
  },
  {
   "cell_type": "markdown",
   "metadata": {},
   "source": [
    "d) Write a function `circle_area_safe(radius)` which uses an if statement to check that the radius is positive and prints `The radius must be positive` to the screen if it is not, and otherwise calls the `circle_area` function. Also, if the radius is not positive the `circle_area_safe` function should signal to the code calling it that it has failed by returning `None`."
   ]
  },
  {
   "cell_type": "code",
   "execution_count": 17,
   "metadata": {},
   "outputs": [
    {
     "data": {
      "text/plain": [
       "314.1592653589793"
      ]
     },
     "execution_count": 17,
     "metadata": {},
     "output_type": "execute_result"
    }
   ],
   "source": [
    "def circle_area_safe(radius):\n",
    "    if radius<0:\n",
    "        print(\"The radius must be positive\")\n",
    "        return(None)\n",
    "    else:\n",
    "        from math import pi\n",
    "        return(pi*radius**2)\n",
    "    \n",
    "circle_area_safe(radius)"
   ]
  },
  {
   "cell_type": "markdown",
   "metadata": {},
   "source": [
    "e) Recreate the `circle_area_safe` function (call this version `circle_area_safer`) but instead of printing a message to the screen and returning `None` if the radius is negative, _raise_ a ValueError exception with suitable error message as argument."
   ]
  },
  {
   "cell_type": "code",
   "execution_count": 18,
   "metadata": {},
   "outputs": [
    {
     "data": {
      "text/plain": [
       "314.1592653589793"
      ]
     },
     "execution_count": 18,
     "metadata": {},
     "output_type": "execute_result"
    }
   ],
   "source": [
    "def circle_area_safe(radius):\n",
    "    if radius<0:\n",
    "        raise ValueError(\"The radius must be positive\")\n",
    "    else:\n",
    "        from math import pi\n",
    "        return(pi*radius**2)\n",
    "    \n",
    "circle_area_safe(radius)\n",
    "#circle_area_safe(-radius)"
   ]
  },
  {
   "cell_type": "markdown",
   "metadata": {},
   "source": [
    "f) To test out how functions are called in Python, create a function `print_num_args` that prints the number of arguments it has been called with. The count should not include keyword arguments."
   ]
  },
  {
   "cell_type": "code",
   "execution_count": 19,
   "metadata": {
    "scrolled": true
   },
   "outputs": [
    {
     "name": "stdout",
     "output_type": "stream",
     "text": [
      "3\n"
     ]
    }
   ],
   "source": [
    "# Your definition goes here.\n",
    "def print_num_args(*args):\n",
    "    print(len([*args]))\n",
    "\n",
    "print_num_args(1,2,3)  # Should print the number 3."
   ]
  },
  {
   "cell_type": "markdown",
   "metadata": {},
   "source": [
    "g) Write a function `print_kwargs` that prints all the keyword arguments."
   ]
  },
  {
   "cell_type": "code",
   "execution_count": 20,
   "metadata": {
    "scrolled": true
   },
   "outputs": [
    {
     "name": "stdout",
     "output_type": "stream",
     "text": [
      "The 2 regular arguments are\n",
      "0: alonzo\n",
      "1: zeno\n",
      "\n",
      "And the keyword arguments are (the ordering here is arbitrary):\n",
      "foo is set to 2\n",
      "bar is set to 99\n"
     ]
    },
    {
     "data": {
      "text/plain": [
       "'Should print:\\n\\nThe 2 regular arguments are:\\n0: alonzo\\n1: zeno\\n\\nAnd the keyword arguments are (the ordering here is arbitrary):\\nfoo is set to 2\\nbar is set to 99\\n'"
      ]
     },
     "execution_count": 20,
     "metadata": {},
     "output_type": "execute_result"
    }
   ],
   "source": [
    "# Your definition goes here\n",
    "def print_kwargs(*args, **kwargs):\n",
    "    \n",
    "    print(\"The {} regular arguments are\".format(len([*args])))\n",
    "    i = 0\n",
    "    for arg in args:\n",
    "        print(\"{}: {}\".format(i, arg))\n",
    "        i += 1\n",
    "    \n",
    "    print(\"\\nAnd the keyword arguments are (the ordering here is arbitrary):\")\n",
    "    for key, value in kwargs.items():\n",
    "        print(\"{} is set to {}\".format(key, value))\n",
    "\n",
    "print_kwargs(\"alonzo\", \"zeno\", foo=1+1,bar = 99)\n",
    "\n",
    "\"\"\"Should print:\n",
    "\n",
    "The 2 regular arguments are:\n",
    "0: alonzo\n",
    "1: zeno\n",
    "\n",
    "And the keyword arguments are (the ordering here is arbitrary):\n",
    "foo is set to 2\n",
    "bar is set to 99\n",
    "\"\"\"\n"
   ]
  },
  {
   "cell_type": "markdown",
   "metadata": {},
   "source": [
    "h) Below we have a very simple program. Run the first cell. It will succeed. What happens when you run the second cell, and why? In particular, consider the error produced. What does it mean. What value has been returned from the function, and how would you modify the function in order for it to work?"
   ]
  },
  {
   "cell_type": "code",
   "execution_count": 21,
   "metadata": {},
   "outputs": [
    {
     "name": "stdout",
     "output_type": "stream",
     "text": [
      "10255\n"
     ]
    }
   ],
   "source": [
    "def my_polynomial(x):\n",
    "    print(x**2 + 30 + 225)\n",
    "\n",
    "polyval = my_polynomial(100)"
   ]
  },
  {
   "cell_type": "code",
   "execution_count": 22,
   "metadata": {},
   "outputs": [
    {
     "name": "stdout",
     "output_type": "stream",
     "text": [
      "10255\n"
     ]
    },
    {
     "ename": "TypeError",
     "evalue": "unsupported operand type(s) for *: 'int' and 'NoneType'",
     "output_type": "error",
     "traceback": [
      "\u001b[0;31m---------------------------------------------------------------------------\u001b[0m",
      "\u001b[0;31mTypeError\u001b[0m                                 Traceback (most recent call last)",
      "\u001b[0;32m<ipython-input-22-b3cd279745e9>\u001b[0m in \u001b[0;36m<module>\u001b[0;34m\u001b[0m\n\u001b[0;32m----> 1\u001b[0;31m \u001b[0mdouble_the_polyval\u001b[0m \u001b[0;34m=\u001b[0m \u001b[0;36m2\u001b[0m\u001b[0;34m*\u001b[0m\u001b[0mmy_polynomial\u001b[0m\u001b[0;34m(\u001b[0m\u001b[0;36m100\u001b[0m\u001b[0;34m)\u001b[0m\u001b[0;34m\u001b[0m\u001b[0;34m\u001b[0m\u001b[0m\n\u001b[0m",
      "\u001b[0;31mTypeError\u001b[0m: unsupported operand type(s) for *: 'int' and 'NoneType'"
     ]
    }
   ],
   "source": [
    "double_the_polyval = 2*my_polynomial(100)"
   ]
  },
  {
   "cell_type": "code",
   "execution_count": null,
   "metadata": {},
   "outputs": [],
   "source": [
    "# Write your answer as a code comment here. \n",
    "# The function exclusively print a value on the screen: without any specification the print() function\n",
    "# returns None, therefore raising errors when attempts to multiply it with a number are done.\n",
    "# It will be sufficient to add at the end of the function return(x**2 + 30 + 225)"
   ]
  },
  {
   "cell_type": "markdown",
   "metadata": {},
   "source": [
    "## Script/program construction (a tiny example)"
   ]
  },
  {
   "cell_type": "markdown",
   "metadata": {},
   "source": [
    "Regardless of which programming language we use, we will likely construct programs or scripts that consist of several functions that work in concert. Below we will create a very simple Monte Carlo simulation as a basis for breaking down a larger (though small) problem into sensible, (re)usable discrete pieces. The resulting program will likely utilise control structures that you have read about before."
   ]
  },
  {
   "cell_type": "markdown",
   "metadata": {},
   "source": [
    "a) The following is a well-known procedure for approximating $\\pi$: pick $n$ uniformly randomly selected coordinates in an $2R\\times 2R$ square. Count the number of the points that fall within the circle of radius $R$ with its center at $(R,R)$. The fraction of these points to the total number of points is used to approximate $\\pi$ (exactly how is for you to figure out). (Note that this is not to be confused with MCMC.)\n",
    "\n",
    "Write a program consisting of several (aptly selected and named) functions, that present the user with the following simple text user interface. The <span style=\"background: yellow;\">yellow</span> text is an example of user input (the user is prompted, and enters the value). It then prints the results of the simulations:"
   ]
  },
  {
   "cell_type": "markdown",
   "metadata": {},
   "source": [
    "`pi_simulation()`\n",
    "\n",
    "<p style=\"font-family: console, monospace\">Welcome to the Monty Carlo PI program!</p>\n",
    "\n",
    "<p style=\"font-family: console, monospace\">\n",
    "Please enter a number of points (or the letter \"q\" to quit): <span style=\"background: yellow;\">100</span><br/>\n",
    "Using 100 points we (this time) got the following value for pi: 3.08<br/>\n",
    "This would mean that tau (2xPI) would be: 6.16\n",
    "</p>\n",
    "\n",
    "<p style=\"font-family: console, monospace\">\n",
    "Please enter a number of points (or the letter \"q\" to quit): <span style=\"background: yellow;\">100</span><br/>\n",
    "Using 100 points we (this time) got the following value for pi: 3.12<br/>\n",
    "This would mean that tau (2xPI) would be: 6.24\n",
    "</p>\n",
    "\n",
    "<p style=\"font-family: console, monospace\">\n",
    "Please enter a number of points (or the letter \"q\" to quit): <span style=\"background: yellow;\">q</span>\n",
    "</p>\n",
    "\n",
    "<p style=\"font-family: console, monospace\">\n",
    "Thank you for choosing Monty Carlo.\n",
    "</p>"
   ]
  },
  {
   "cell_type": "markdown",
   "metadata": {},
   "source": [
    "[**Note**: This is a task largely about program structure. Unless there are substantial performance drawbacks, prefer readability over optimisation.]"
   ]
  },
  {
   "cell_type": "markdown",
   "metadata": {},
   "source": [
    "---\n",
    "** REMEMBER: YOU DO NOT WRITE CODE FOR THE INTERPRETER. YOU WRITE IT FOR OTHER HUMAN READERS. **\n",
    "\n",
    "---\n",
    "\n",
    "An important part of programming is to allow a reader who is perhaps unfamiliar with the code to be able to understand it, and convince themselves that it is correct with respect to specification. There should also be as few surprises as possible."
   ]
  },
  {
   "cell_type": "code",
   "execution_count": 23,
   "metadata": {},
   "outputs": [
    {
     "name": "stdout",
     "output_type": "stream",
     "text": [
      "Welcome to the Monty Carlo PI program!\n",
      "\n",
      "Please enter a number of points (or the letter \"q\" to quit): q\n",
      "Thank you for choosing Monty Carlo.\n"
     ]
    }
   ],
   "source": [
    "def pi_MonteCarlo(B, radius):\n",
    "    \n",
    "    import random as r\n",
    "    lots_of_points_x = []\n",
    "    lots_of_points_y = []\n",
    "    \n",
    "    for i in range(0,B):\n",
    "        lots_of_points_x.append(r.uniform(-radius, radius))\n",
    "        lots_of_points_y.append(r.uniform(-radius, radius))\n",
    "    \n",
    "    return([lots_of_points_x, lots_of_points_y])\n",
    "    \n",
    "    \n",
    "def pi_estimation(points, radius):\n",
    "    \n",
    "    n = len(points[0])\n",
    "    distance_origin = [(points[0][i]**2 + points[1][i]**2)**0.5 for i in range(n)]\n",
    "    inside_circle = [True if x<=radius else False for x in distance_origin]\n",
    "    proportion = sum(inside_circle)/n\n",
    "    estimated_pi = proportion*4\n",
    "    \n",
    "    return( estimated_pi )\n",
    "    \n",
    "    \n",
    "def pi_simulation(radius = 1):\n",
    "    \n",
    "    print(\"Welcome to the Monty Carlo PI program!\\n\")\n",
    "    exit = False\n",
    "    \n",
    "    while not(exit):\n",
    "        B = input('Please enter a number of points (or the letter \"q\" to quit): ')\n",
    "        \n",
    "        if B==\"q\":\n",
    "            exit = True\n",
    "            print(\"Thank you for choosing Monty Carlo.\")\n",
    "        \n",
    "        else:\n",
    "            try:\n",
    "                B = int(B)\n",
    "            except ValueError:\n",
    "                print(\"The input is not an integer value!\")\n",
    "            MC_points = pi_MonteCarlo(B, radius)\n",
    "            estimated_pi = pi_estimation(MC_points, radius)\n",
    "            print(\"Using 100 points we (this time) got the following value for pi: {}\".format(estimated_pi))\n",
    "            print(\"This would mean that tau (2xPI) would be: {}\\n\".format(2*estimated_pi))\n",
    "            \n",
    "pi_simulation()\n",
    "    "
   ]
  },
  {
   "cell_type": "markdown",
   "metadata": {},
   "source": [
    "[Hint: You might want to consider the function `input`. Try it out and see what type of value it returns.]"
   ]
  },
  {
   "cell_type": "markdown",
   "metadata": {},
   "source": [
    "b) One feature of Python's simplicity is the possibility to (comparatively) quickly produce code to try out our intuitions. Let's say we want to compare how well our approximation performs, as compared to some gold standard for pi (here: the version in the standard library). Run 100 simulations. How large is the maximum relative error (using the definition above) in this particular run of simulations, if each simulation has $n=10^4$ points? Is it larger or smaller than 5%? Write code that returns this maximum relative error."
   ]
  },
  {
   "cell_type": "code",
   "execution_count": 24,
   "metadata": {
    "scrolled": true
   },
   "outputs": [
    {
     "data": {
      "text/plain": [
       "0.018204987054716005"
      ]
     },
     "execution_count": 24,
     "metadata": {},
     "output_type": "execute_result"
    }
   ],
   "source": [
    "def pi_MC_estimation(B, radius=1):\n",
    "    \n",
    "    lots_of_numbers = pi_MonteCarlo(B, radius)\n",
    "    results = pi_estimation(lots_of_numbers, radius)\n",
    "    return( results )\n",
    "    \n",
    "from math import pi\n",
    "simulations = 100\n",
    "simulation_size = 10**4\n",
    "pi_estimations = [pi_MC_estimation(simulation_size) for x in range(simulations)]\n",
    "relative_errors = [abs(x-pi)/pi for x in pi_estimations]\n",
    "\n",
    "max(relative_errors)\n",
    "# It's lower than 5%"
   ]
  },
  {
   "cell_type": "markdown",
   "metadata": {},
   "source": [
    "[Note: This is only to show a quick way of testing out your code in a readable fashion. You might want to try to write it in a pythonic way. But in terms of performance, it is very likely that the true bottleneck will still be the approximation function itself.]"
   ]
  },
  {
   "cell_type": "markdown",
   "metadata": {},
   "source": [
    "## Fault/bugspotting and tests in a very simple setting"
   ]
  },
  {
   "cell_type": "markdown",
   "metadata": {},
   "source": [
    "It is inevitable that we will make mistakes when programming. An important skill is not only to be able to write code in the first place, but also to be able to figure where one would start looking for faults. This also involves being able to make the expectations we have on the program more explicit, and at the very least construct some sets of automatic \"sanity checks\" for the program. The latter will likely not be something done for every piece of code you write, but it is highly useful for code that might be reused or is hard to understand (due either to programming reasons, or because the underlying mathemetics is dense). When rewriting or optimising code, having such tests are also highly useful to provide hints that the changes haven't broken the code."
   ]
  },
  {
   "cell_type": "markdown",
   "metadata": {},
   "source": [
    "**Task**: The following program is supposed to return the sum of the squares of numbers $0,...,n$."
   ]
  },
  {
   "cell_type": "code",
   "execution_count": 25,
   "metadata": {},
   "outputs": [],
   "source": [
    "# Do not modify this code! You'll fix it later.\n",
    "\n",
    "def update_result(result, i):\n",
    "    result = result + i*i\n",
    "    return result\n",
    "\n",
    "def sum_squares(n):\n",
    "    result = 0\n",
    "    for i in range(n):\n",
    "        result = update_result(n, result)"
   ]
  },
  {
   "cell_type": "markdown",
   "metadata": {},
   "source": [
    "a) What mistakes have the programmer made when trying to solve the problem? Name the mistakes in coding or thinking about the issue that you notice (regardless of if they affect the end result). In particular, write down what is wrong (not just \"line X should read ...\"; fixing the code comes later). Feel free to make a copy of the code (pressing `b` in a notebook creates a new cell below) and try it out, add relevant print statements, assertions or anything else that might help. Note down how you spotted the faults."
   ]
  },
  {
   "cell_type": "code",
   "execution_count": 26,
   "metadata": {},
   "outputs": [
    {
     "name": "stdout",
     "output_type": "stream",
     "text": [
      "None\n"
     ]
    }
   ],
   "source": [
    "# The function update_result it is only used in the sum of squares function --> It could be a good idea to define\n",
    "# it inside the sum_squares function or to directly include its part of the code in the for cycle of the \n",
    "# sum_squares function. \n",
    "\n",
    "# Moreover the way update_result is written may confund the other programmers:\n",
    "# since it is the sum of squares, the name of the output variable should have been something like \"sum_of_squares\" \n",
    "# and instead of computing the square with i*i, writing i**2 would have been more clear.\n",
    "\n",
    "# In sum_squares various mistakes have been done: the  function does not return anything (therefore the output \n",
    "# None), the arguments of the update_result function have been swapped, the for cycle goes until (n-1), not\n",
    "# n itself, and intead of the counter variable i the variable n was used instead\n",
    "\n",
    "# Finally none of the functions check for the correctness of the input, which may lead to unclear problems: \n",
    "# an input impossible to convert in integer will result in an error, but negative/float/complex numbers may bring\n",
    "# to an unexpected output.\n",
    "\n",
    "print(sum_squares(10))"
   ]
  },
  {
   "cell_type": "markdown",
   "metadata": {},
   "source": [
    "b) Write a few simple assertions that should pass if the code was correct. Don't forget to include the *why* of the test, preferably in the error message provided in the `AssertionError` if the test fails."
   ]
  },
  {
   "cell_type": "code",
   "execution_count": 27,
   "metadata": {
    "scrolled": false
   },
   "outputs": [
    {
     "ename": "AssertionError",
     "evalue": "It sould return 55",
     "output_type": "error",
     "traceback": [
      "\u001b[0;31m---------------------------------------------------------------------------\u001b[0m",
      "\u001b[0;31mAssertionError\u001b[0m                            Traceback (most recent call last)",
      "\u001b[0;32m<ipython-input-27-a5710ccb07e2>\u001b[0m in \u001b[0;36m<module>\u001b[0;34m\u001b[0m\n\u001b[1;32m     16\u001b[0m     \u001b[0mprint\u001b[0m\u001b[0;34m(\u001b[0m\u001b[0;34m\"--- test_sum_squares finished successfully\"\u001b[0m\u001b[0;34m)\u001b[0m\u001b[0;34m\u001b[0m\u001b[0;34m\u001b[0m\u001b[0m\n\u001b[1;32m     17\u001b[0m \u001b[0;34m\u001b[0m\u001b[0m\n\u001b[0;32m---> 18\u001b[0;31m \u001b[0mtest_sum_squares\u001b[0m\u001b[0;34m(\u001b[0m\u001b[0;34m)\u001b[0m\u001b[0;34m\u001b[0m\u001b[0;34m\u001b[0m\u001b[0m\n\u001b[0m",
      "\u001b[0;32m<ipython-input-27-a5710ccb07e2>\u001b[0m in \u001b[0;36mtest_sum_squares\u001b[0;34m()\u001b[0m\n\u001b[1;32m     12\u001b[0m \u001b[0;34m\u001b[0m\u001b[0m\n\u001b[1;32m     13\u001b[0m     \u001b[0;32mfor\u001b[0m \u001b[0marg\u001b[0m\u001b[0;34m,\u001b[0m \u001b[0moutput\u001b[0m\u001b[0;34m,\u001b[0m \u001b[0merror_msg\u001b[0m \u001b[0;32min\u001b[0m \u001b[0mtests\u001b[0m\u001b[0;34m:\u001b[0m\u001b[0;34m\u001b[0m\u001b[0;34m\u001b[0m\u001b[0m\n\u001b[0;32m---> 14\u001b[0;31m         \u001b[0;32massert\u001b[0m \u001b[0msum_squares\u001b[0m\u001b[0;34m(\u001b[0m\u001b[0marg\u001b[0m\u001b[0;34m)\u001b[0m \u001b[0;34m==\u001b[0m \u001b[0moutput\u001b[0m\u001b[0;34m,\u001b[0m \u001b[0merror_msg\u001b[0m\u001b[0;34m\u001b[0m\u001b[0;34m\u001b[0m\u001b[0m\n\u001b[0m\u001b[1;32m     15\u001b[0m \u001b[0;34m\u001b[0m\u001b[0m\n\u001b[1;32m     16\u001b[0m     \u001b[0mprint\u001b[0m\u001b[0;34m(\u001b[0m\u001b[0;34m\"--- test_sum_squares finished successfully\"\u001b[0m\u001b[0;34m)\u001b[0m\u001b[0;34m\u001b[0m\u001b[0;34m\u001b[0m\u001b[0m\n",
      "\u001b[0;31mAssertionError\u001b[0m: It sould return 55"
     ]
    }
   ],
   "source": [
    "def test_sum_squares():\n",
    "    \n",
    "    # Format: ( input, expected output, error message )\n",
    "    # You may replace these with namedtuples if you want to.\n",
    "    \n",
    "    tests = (\n",
    "        (5, 55, \"Test message: It should return 55\"),\n",
    "        (3, 14, \"Test message: It should return 14\"),\n",
    "        (-9, None, \"Test message: The value in the input is negative!\"),\n",
    "        (\"a\", None, \"Test message: The value in the input is a character!\")\n",
    "    )\n",
    "    \n",
    "    for arg, output, error_msg in tests:\n",
    "        assert sum_squares(arg) == output, error_msg\n",
    "    \n",
    "    print(\"--- test_sum_squares finished successfully\")\n",
    "        \n",
    "test_sum_squares()"
   ]
  },
  {
   "cell_type": "markdown",
   "metadata": {},
   "source": [
    "[Note: Might there be any corner/edge cases here?]"
   ]
  },
  {
   "cell_type": "markdown",
   "metadata": {},
   "source": [
    "c) Write a correct version of the code, which conforms to the specification."
   ]
  },
  {
   "cell_type": "code",
   "execution_count": 32,
   "metadata": {},
   "outputs": [
    {
     "name": "stdout",
     "output_type": "stream",
     "text": [
      "The input is a negative number!\n",
      "Coercion to a integer value of input failed: it's of type <class 'str'>.\n",
      "--- test_sum_squares finished successfully\n"
     ]
    }
   ],
   "source": [
    "def sum_squares(n):\n",
    "    \n",
    "    # Test correctness of input\n",
    "    try:\n",
    "        n = int(n)\n",
    "    except:\n",
    "        print(\"Coercion to a integer value of input failed: it's of {}.\".format(type(n)))\n",
    "        return(None)\n",
    "    if n<0:\n",
    "        print(\"The input is a negative number!\")\n",
    "        return(None)\n",
    "        \n",
    "    # Compute the actual sum of squares\n",
    "    sum_of_squares = 0\n",
    "    for number in range(n+1):\n",
    "        sum_of_squares += number**2\n",
    "        \n",
    "    return(sum_of_squares)\n",
    "\n",
    "test_sum_squares()   # It should pass all the tests!"
   ]
  },
  {
   "cell_type": "markdown",
   "metadata": {},
   "source": [
    "[Note: This is also a rather primitive testing strategy, but it is sometimes enough. If we wanted to provide more advanced testing facilities, we might eg use a proper unit test framework, or use tools to do property based testing. This, as well as formal verification, is outside the scope of this course.\n",
    "\n",
    "Those interested in testing might want to consult the web page for the IDA course [TDDD04 Software testing](https://www.ida.liu.se/~TDDD04/) or the somewhat abbreviation-heavy book by [Ammann & Offutt](https://cs.gmu.edu/~offutt/softwaretest/), which apparently also features video lectures.]"
   ]
  },
  {
   "cell_type": "markdown",
   "metadata": {},
   "source": [
    "## Polymorphic behaviour (via duck typing)"
   ]
  },
  {
   "cell_type": "markdown",
   "metadata": {},
   "source": [
    "In Python we often write functions that can handle several different types of data. A common pattern is writing code which is expected to work with several types of collections of data, for instance. This expectation is however in the mind of the programmer (at least without type annotations), and not something that the interpreter will enforce until runtime. This provides a lot of flexibility, but also requires us to understand what our code means for the different kinds of input. Below we try this out, and in particular return to previously known control structures."
   ]
  },
  {
   "cell_type": "markdown",
   "metadata": {},
   "source": [
    "a) Write a function `last_idx` that takes two arguments `seq` and `elem` and returns the index of the last occurrence of the element `elem` in the iterable `seq`. If the sequence doesn't contain the element, return -1. (You may not use built-ins like .find() here.)"
   ]
  },
  {
   "cell_type": "code",
   "execution_count": 30,
   "metadata": {},
   "outputs": [
    {
     "data": {
      "text/plain": [
       "dict_values(['random', 'prova', 'prova2'])"
      ]
     },
     "execution_count": 30,
     "metadata": {},
     "output_type": "execute_result"
    }
   ],
   "source": [
    "prova = {\"mew\":\"random\", \"A\":\"prova\", \"B\":\"prova2\"}\n",
    "prova.values()"
   ]
  },
  {
   "cell_type": "code",
   "execution_count": 62,
   "metadata": {},
   "outputs": [
    {
     "name": "stdout",
     "output_type": "stream",
     "text": [
      "The input is a dictionary: the function will return either '-1' or '+1' in case elem can be found in seq.\n",
      "-1\n",
      "3\n",
      "54\n",
      "The input is a dictionary: the function will return either '-1' or '+1' in case elem can be found in seq.\n",
      "1\n"
     ]
    },
    {
     "ename": "ValueError",
     "evalue": "The lenght of elem is greater than the length of seq.",
     "output_type": "error",
     "traceback": [
      "\u001b[0;31m---------------------------------------------------------------------------\u001b[0m",
      "\u001b[0;31mValueError\u001b[0m                                Traceback (most recent call last)",
      "\u001b[0;32m<ipython-input-62-9c0b1839a6cd>\u001b[0m in \u001b[0;36m<module>\u001b[0;34m\u001b[0m\n\u001b[1;32m     70\u001b[0m print(last_idx(\"Ring\",\n\u001b[1;32m     71\u001b[0m                \"\"\"One Ring to rule them all, One Ring to find them,\n\u001b[0;32m---> 72\u001b[0;31m                   One Ring to bring them all and in the darkness bind them\"\"\"))\n\u001b[0m",
      "\u001b[0;32m<ipython-input-62-9c0b1839a6cd>\u001b[0m in \u001b[0;36mlast_idx\u001b[0;34m(seq, elem)\u001b[0m\n\u001b[1;32m     48\u001b[0m                     \u001b[0;31m# Otherwise keep going without changes\u001b[0m\u001b[0;34m\u001b[0m\u001b[0;34m\u001b[0m\u001b[0;34m\u001b[0m\u001b[0m\n\u001b[1;32m     49\u001b[0m             \u001b[0;32melse\u001b[0m\u001b[0;34m:\u001b[0m\u001b[0;34m\u001b[0m\u001b[0;34m\u001b[0m\u001b[0m\n\u001b[0;32m---> 50\u001b[0;31m                 \u001b[0;32mraise\u001b[0m \u001b[0mValueError\u001b[0m\u001b[0;34m(\u001b[0m\u001b[0;34m\"The lenght of elem is greater than the length of seq.\"\u001b[0m\u001b[0;34m)\u001b[0m\u001b[0;34m\u001b[0m\u001b[0;34m\u001b[0m\u001b[0m\n\u001b[0m\u001b[1;32m     51\u001b[0m         \u001b[0;32melse\u001b[0m\u001b[0;34m:\u001b[0m\u001b[0;34m\u001b[0m\u001b[0;34m\u001b[0m\u001b[0m\n\u001b[1;32m     52\u001b[0m             \u001b[0;32mraise\u001b[0m \u001b[0mTypeError\u001b[0m\u001b[0;34m(\u001b[0m\u001b[0;34m\"seq is a string, but elem is of {}\"\u001b[0m\u001b[0;34m.\u001b[0m\u001b[0mformat\u001b[0m\u001b[0;34m(\u001b[0m\u001b[0mtype\u001b[0m\u001b[0;34m(\u001b[0m\u001b[0melem\u001b[0m\u001b[0;34m)\u001b[0m\u001b[0;34m)\u001b[0m\u001b[0;34m)\u001b[0m\u001b[0;34m\u001b[0m\u001b[0;34m\u001b[0m\u001b[0m\n",
      "\u001b[0;31mValueError\u001b[0m: The lenght of elem is greater than the length of seq."
     ]
    }
   ],
   "source": [
    "def last_idx(seq, elem):\n",
    "    \n",
    "    # \"seq\" must be an iterable --> Check if it actually is. \"elem\" on the other hand can be of any type.\n",
    "    # The process of finding the correct index changes based on the type of seq.\n",
    "    # Check what is the type of the input:\n",
    "    seq_str, seq_list, seq_dict = False, False, False\n",
    "    if isinstance(seq, str):\n",
    "        seq_str = True\n",
    "    elif isinstance(seq, list) | isinstance(seq, tuple):\n",
    "        seq_list = True\n",
    "    elif isinstance(seq, dict):\n",
    "        seq_dict = True\n",
    "        print(\"The input is a dictionary: the function will return either '-1' or '+1' in case elem\",\n",
    "              \"can be found in seq.\")\n",
    "    else:\n",
    "        TypeError(\"The input 'seq' must be iterable, but is of {}\".format(type(seq)))\n",
    "        return(None)\n",
    "    \n",
    "    # The input is iterable --> Proceed in the research of the index of elem\n",
    "    # In order to find the last occurrence we shall start from the end\n",
    "    n = len(seq)\n",
    "    # Found is our output: if not changed means that elem was not present in seq\n",
    "    found = -1\n",
    "    \n",
    "    # If it is a list/tuple --> Check for every element (backwards) the identity\n",
    "    if seq_list:\n",
    "        for i in range(n-1,-1,-1):\n",
    "            # Found it! Save index and break loop\n",
    "            if seq[i]==elem:\n",
    "                found = i\n",
    "                break\n",
    "            # Otherwise keep going without changes\n",
    "            \n",
    "    # If it is a str --> Check if elem is string: if not return -1, else check len(elem)>=len(seq)\n",
    "    #                    and see if (and where) substrings of seq is exctely equal to elem\n",
    "    elif seq_str:\n",
    "        # Is elem a string?\n",
    "        if isinstance(elem, str):\n",
    "            len_elem = len(elem)\n",
    "            # Is elem shorter than seq?\n",
    "            if len_elem <= n:\n",
    "                for i in range(n-len_elem,-1,-1):\n",
    "                    # Is the substring of seq matching elem?\n",
    "                    if seq[i:(i+len_elem)]==elem:\n",
    "                        # It is! Save position and break loop\n",
    "                        found = i\n",
    "                        break\n",
    "                    # Otherwise keep going without changes\n",
    "            else:\n",
    "                raise ValueError(\"The lenght of elem is greater than the length of seq.\")\n",
    "        else:\n",
    "            raise TypeError(\"seq is a string, but elem is of {}\".format(type(elem)))\n",
    "                        \n",
    "    # If it is a dict --> Extract the values and see if elem is in their list; found will be equal to 1,\n",
    "    #                     meaning that the value actually exist but there is no order into them\n",
    "    elif seq_dict:\n",
    "        if elem in seq.values():\n",
    "            found = 1\n",
    "\n",
    "    return(found)\n",
    "\n",
    "\n",
    "\n",
    "print(last_idx({\"A\":\"A\"}, \"s\"))\n",
    "print(last_idx([\"a\", 7, (5,6), 7, \"b\"], 7))\n",
    "print(last_idx(\"One Ring to rule them all, One Ring to find them, \" +\n",
    "               \"One Ring to bring them all and in the darkness bind them\", \"Ring\"))\n",
    "print(last_idx({\"test\":1, \"testest\":2}, 2))\n",
    "# Expected error\n",
    "print(last_idx(\"Ring\",\n",
    "               \"\"\"One Ring to rule them all, One Ring to find them,\n",
    "                  One Ring to bring them all and in the darkness bind them\"\"\"))\n"
   ]
  },
  {
   "cell_type": "markdown",
   "metadata": {},
   "source": [
    "b) What does your function require of the input? In particular, your answer should include if it would work with a string, a list or a dictionary. In the latter case, what would `elem` be matched against?"
   ]
  },
  {
   "cell_type": "code",
   "execution_count": null,
   "metadata": {},
   "outputs": [],
   "source": [
    "# The function should work only when seq is an iterable object. No checks are necesarry for elem.\n",
    "\n",
    "# If seq is a list/tuple the function simply loops backwards and check for each item the identity with elem\n",
    "# If found it exit the loop and return the correct index.\n",
    "\n",
    "# If seq is a string the function check that also elem is a string and if its length is less or equal to\n",
    "# the one of seq: in that case it loops backwards on seq, starting from the index corresponding to the\n",
    "# (length of seq - length of elem) and check if elem is equal to the corresponding substring of the same\n",
    "# length of elem in seq (see function itself and comments).\n",
    "\n",
    "# If seq is a dictionary we decided to check the existence of elem in its values. Since they are not ordered, \n",
    "# the function will simply return +1 if elem is found; a message explaining the issue will also be printed \n",
    "# on screen."
   ]
  },
  {
   "cell_type": "markdown",
   "metadata": {},
   "source": [
    "c) Add some `assert`-style tests that your code should satisfy. For each test, provide a description of what it tests, and why. That can be made as part of the assert statement itself."
   ]
  },
  {
   "cell_type": "code",
   "execution_count": 61,
   "metadata": {},
   "outputs": [
    {
     "data": {
      "text/plain": [
       "54"
      ]
     },
     "execution_count": 61,
     "metadata": {},
     "output_type": "execute_result"
    }
   ],
   "source": [
    "last_idx(\"One Ring to rule them all, One Ring to find them, \" +\n",
    "           \"One Ring to bring them all and in the darkness bind them\", \"Ring\")"
   ]
  },
  {
   "cell_type": "code",
   "execution_count": 65,
   "metadata": {},
   "outputs": [
    {
     "name": "stdout",
     "output_type": "stream",
     "text": [
      "The input is a dictionary: the function will return either '-1' or '+1' in case elem can be found in seq.\n",
      "--- test_last_idx finished successfully\n"
     ]
    }
   ],
   "source": [
    "def test_last_idx():\n",
    "    \n",
    "    # Format: ( (seq, elem), expected output, error message )\n",
    "    # You may replace these with namedtuples if you want to.\n",
    "    \n",
    "    tests = ( \n",
    "        ( ([1,2,3,2], 2), 3, \"last_idx should return last index, for sequences with several occurrences\"),\n",
    "          \n",
    "        ( (\"One Ring to rule them all, One Ring to find them, \" +\n",
    "           \"One Ring to bring them all and in the darkness bind them\", \"Ring\"),\n",
    "           54, \"In strings should return last index, for sequences with several occurrences\"),\n",
    "        \n",
    "        ( ({\"test\":1, \"testest\":2}, 2), 1, \"In dictionaries should return +1 if value is found\"),\n",
    "        \n",
    "        ( ([1,2,3,4,5], \"a\"), -1, \"When elem absent in seq the function should return -1\")\n",
    "        \n",
    "        # Add more test cases here.\n",
    "    )\n",
    "    \n",
    "    for args, output, error_msg in tests:\n",
    "        assert last_idx(*args) == output, error_msg     # last_idx takes two arguments. We unpack the tuple.\n",
    "    \n",
    "    print(\"--- test_last_idx finished successfully\")\n",
    "        \n",
    "test_last_idx()"
   ]
  },
  {
   "cell_type": "markdown",
   "metadata": {},
   "source": [
    "The fact that a program doesn't crash when given a certain input doesn't necessarily ensure that the results are what  we expect. Thus we need to get a feel for how eg iteration over different types of data behaves, in order to understand how our function behaves."
   ]
  },
  {
   "cell_type": "markdown",
   "metadata": {},
   "source": [
    "d) Can we use `last_idx` with a text file? What would the program try to match `elem` against? What would the return value signify (eg number of words from the start of the file, lines from the start of the file, bytes read...)?"
   ]
  },
  {
   "cell_type": "code",
   "execution_count": 90,
   "metadata": {},
   "outputs": [
    {
     "name": "stdout",
     "output_type": "stream",
     "text": [
      "81\n"
     ]
    }
   ],
   "source": [
    "with open(\"students.txt\", \"r\") as f:\n",
    "    file = f.read()\n",
    "    print(last_idx(file, \"Male\"))\n",
    "    \n",
    "    \"\"\"\n",
    "    list_lines = file.split(\"\\n\\n\")\n",
    "    for line in list_lines:\n",
    "        last_idx(list_lines, \"Male\")\"\"\"\n",
    "    \n",
    "# There are several ways to approach this problem. If we simply give to the function the output of the text file,\n",
    "# without any further edit, the function will return the index of the last occurrence of the word in elem from\n",
    "# the very start of the file.\n",
    "\n",
    "# However if we decide to loop trough each line the function will return each time the last occurrence of the\n",
    "# word in elem for each line."
   ]
  },
  {
   "cell_type": "markdown",
   "metadata": {},
   "source": [
    "[Hint: Try it out! Open a file like in lab 1, using a `with` statement, and pass the file handle to the function. What is the easiest way for you to check what the function is comparing?]"
   ]
  },
  {
   "cell_type": "markdown",
   "metadata": {},
   "source": [
    "### Attribution\n",
    "\n",
    "Lab created by Anders Märak Leffler (2019), using some material by Johan Falkenjack. Feel free to reuse the material, but do so with attribution. License [CC-BY-SA 4.0](https://creativecommons.org/licenses/by-sa/4.0/)."
   ]
  }
 ],
 "metadata": {
  "kernelspec": {
   "display_name": "Python 3",
   "language": "python",
   "name": "python3"
  },
  "language_info": {
   "codemirror_mode": {
    "name": "ipython",
    "version": 3
   },
   "file_extension": ".py",
   "mimetype": "text/x-python",
   "name": "python",
   "nbconvert_exporter": "python",
   "pygments_lexer": "ipython3",
   "version": "3.7.1"
  }
 },
 "nbformat": 4,
 "nbformat_minor": 2
}
