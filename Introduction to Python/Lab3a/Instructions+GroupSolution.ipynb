{
 "cells": [
  {
   "cell_type": "markdown",
   "metadata": {},
   "source": [
    "# Lab 3A: Introductory Object-oriented Programming in Python\n"
   ]
  },
  {
   "cell_type": "markdown",
   "metadata": {},
   "source": [
    "__Student:__ Stefano Toffol (steto820)\n",
    "\n",
    "__Student:__ Mim Kemal Tekin (mimte666)"
   ]
  },
  {
   "cell_type": "markdown",
   "metadata": {},
   "source": [
    "# 2. Introduction"
   ]
  },
  {
   "cell_type": "markdown",
   "metadata": {},
   "source": [
    "## Object-oriented Programming"
   ]
  },
  {
   "cell_type": "markdown",
   "metadata": {},
   "source": [
    "The point of Object-oriented Programming is to support encapsulation and the DRY (Don't Repeat Yourself) principle without things getting out of hand. Often, software architects (those high-level programmers who are responsible for how large systems are designed on a technical level) talk about Object-oriented design or Object-oriented analysis. The point of this is to identify the necessary _objects_ in a system. An object in this sense is not exactly the same as a Python object but rather a somewhat higher level logical unit which can reasonably be thought of as an independent component within the system. These high level objects might then be further subdivided into smaller and smaller objects and at a some level the responsibility shifts from the system architect to the team or individual developer working on a specific component. Thus, Object-oriented thinking is necessary for anyone developing code which will be integrated with a larger system, for instance a data scientist implementing analytics tools."
   ]
  },
  {
   "cell_type": "markdown",
   "metadata": {},
   "source": [
    "## OOP in Python"
   ]
  },
  {
   "cell_type": "markdown",
   "metadata": {},
   "source": [
    "Python implements the Object-oriented paradigm to a somewhat larger degree than the Functional paradigm. However, there are features considered necessary for _strict_ object-oriented programming missing from Python. Mainly, we are talking about data protection. Not in a software security sense, but in the sense of encapsulation. There is no simple way to strictly control access to member variables in Python. This does not affect this lab in any way but is worth remembering if one has worked in a language such as Java previously."
   ]
  },
  {
   "cell_type": "markdown",
   "metadata": {},
   "source": [
    "# 3. Simple instance tests in Python"
   ]
  },
  {
   "cell_type": "markdown",
   "metadata": {},
   "source": [
    "Note: some of these questions will be extremely simple, and some might prove trickier. Don't expect that the answer needs to be hard."
   ]
  },
  {
   "cell_type": "code",
   "execution_count": 1,
   "metadata": {},
   "outputs": [],
   "source": [
    "class Person:\n",
    "    def __init__(self, name):\n",
    "        self.name = name\n",
    "        self.age = 0            # Age should be non-negative.\n",
    "        \n",
    "    def get_age(self):\n",
    "        \"\"\"Return the Person's age, a non-negative number.\"\"\"\n",
    "        return self.age\n",
    "    \n",
    "    def return_five(self):\n",
    "        \"\"\"Return 5. Dummy function.\"\"\"\n",
    "        return 5\n",
    "\n",
    "Jackal = Person \n",
    "\n",
    "president = Person(\"Jeb\")\n",
    "psec = Jackal(\"CJ Cregg\")"
   ]
  },
  {
   "cell_type": "markdown",
   "metadata": {},
   "source": [
    "a) Change the age of the `president` to 65 (`psec` should be unaffected)."
   ]
  },
  {
   "cell_type": "code",
   "execution_count": 2,
   "metadata": {},
   "outputs": [
    {
     "name": "stdout",
     "output_type": "stream",
     "text": [
      "65\n",
      "Jeb\n",
      "CJ Cregg\n"
     ]
    }
   ],
   "source": [
    "# We access directly to the age attribute and we modify it\n",
    "president.age = 65\n",
    "\n",
    "# New age of the president\n",
    "print(president.get_age())\n",
    "\n",
    "# Name unchanged...\n",
    "print(president.name)\n",
    "# ... as well as \"psec\"\n",
    "print(psec.name)"
   ]
  },
  {
   "cell_type": "markdown",
   "metadata": {},
   "source": [
    "[Note: This mode of operation is sometimes considered poor OOP. We will remedy this later.]"
   ]
  },
  {
   "cell_type": "markdown",
   "metadata": {},
   "source": [
    "b) How many `Person` instances are there? One, two or three?"
   ]
  },
  {
   "cell_type": "code",
   "execution_count": 3,
   "metadata": {},
   "outputs": [
    {
     "name": "stdout",
     "output_type": "stream",
     "text": [
      "<class 'type'>\n",
      "<class '__main__.Person'>\n",
      "<class '__main__.Person'>\n"
     ]
    }
   ],
   "source": [
    "# We have defined a total of three variables: \"Jackal\", \"president\" and \"psec\"\n",
    "# However the first one is just a pointer to the class function \"Person\", \n",
    "# which makes it NOT an instance of type Person.\n",
    "\n",
    "print(type(Jackal))     # Class \"type\" (metaclass for which the class \"Person\" are instances)\n",
    "print(type(president))  # Person class (+1)\n",
    "print(type(psec))       # Person class (+2)\n",
    "\n",
    "# In total we only have 2 person classes.\n"
   ]
  },
  {
   "cell_type": "markdown",
   "metadata": {},
   "source": [
    "c) Consider the following code snippets. What do you think that they will return, and why? Discuss amongst yourselves. After that, run the code and explain the output. You only need to write down your explanation of the output."
   ]
  },
  {
   "cell_type": "code",
   "execution_count": 4,
   "metadata": {},
   "outputs": [
    {
     "data": {
      "text/plain": [
       "False"
      ]
     },
     "execution_count": 4,
     "metadata": {},
     "output_type": "execute_result"
    }
   ],
   "source": [
    "\"Jeb\" is Person"
   ]
  },
  {
   "cell_type": "code",
   "execution_count": 5,
   "metadata": {
    "scrolled": true
   },
   "outputs": [
    {
     "data": {
      "text/plain": [
       "False"
      ]
     },
     "execution_count": 5,
     "metadata": {},
     "output_type": "execute_result"
    }
   ],
   "source": [
    "president is Person"
   ]
  },
  {
   "cell_type": "code",
   "execution_count": 6,
   "metadata": {},
   "outputs": [],
   "source": [
    "# The string \"Jeb\"'s never been defined by itself, but exclusively as attribute of the Person instance \"president\"\n",
    "# Therefore Python will create on the fly the string \"Jeb\", which is just a string. \n",
    "# The expression will hence return False.\n",
    "\n",
    "# president was created as an instance of type Person, so one may expect the second expression to return True.\n",
    "# However what the expression does is actually checking if the variable called \"president\" is pointing to the\n",
    "# definition of the class Person _itself_. In other word the only way the expression above return True is that\n",
    "# the objects on the left side of the evaluation is either Person itself or Jackal, which points to the class\n",
    "# Person. In conclusion we expect a False in return."
   ]
  },
  {
   "cell_type": "markdown",
   "metadata": {},
   "source": [
    "d) How would you go about checking whether or not the value bound to the name `president` is-a `Person`?"
   ]
  },
  {
   "cell_type": "code",
   "execution_count": 7,
   "metadata": {},
   "outputs": [
    {
     "data": {
      "text/plain": [
       "True"
      ]
     },
     "execution_count": 7,
     "metadata": {},
     "output_type": "execute_result"
    }
   ],
   "source": [
    "type(president) is Person"
   ]
  },
  {
   "cell_type": "markdown",
   "metadata": {},
   "source": [
    "# 4. Subclasses"
   ]
  },
  {
   "cell_type": "markdown",
   "metadata": {},
   "source": [
    "a) Create class `Employee`, a subclass of `Person` with data attributes (fields) \n",
    "* `__work_days_accrued`\n",
    "* `__daily_salary`. \n",
    "\n",
    "These should be *the only* data attributes which you write in your class definition. In particular, you may not duplicate `name` and `age`.\n",
    "\n",
    "There should be methods\n",
    "* `work` which increments the numer of work days accrued.\n",
    "* `expected_payout` which just returns the expected payout for the employee based on the accrued work days and daily salary (but without doing any resets).\n",
    "* `payout` which returns the accrued salary and resets the number of work days accrued. The `payout` function may not perform any calculations itself."
   ]
  },
  {
   "cell_type": "code",
   "execution_count": 8,
   "metadata": {},
   "outputs": [
    {
     "name": "stdout",
     "output_type": "stream",
     "text": [
      "--- Setting up test cases.\n",
      "--- Testing payout and expected_payout properties.\n",
      "OK\n",
      "--- Testing non-data-accessing calls to superclass methods.\n",
      "OK\n",
      "--- Testing data that should be set up by initialiser call.\n",
      "OK\n"
     ]
    }
   ],
   "source": [
    "# NOTE: since the initializer from person required name and age as argument we actually need to mention them\n",
    "\n",
    "class Employee(Person):\n",
    "    def __init__(self, name, work_days_accrued = 0, daily_salary = 15):\n",
    "        super().__init__(name)\n",
    "        #Person.__init__(self, name)\n",
    "        self.__work_days_accrued = work_days_accrued\n",
    "        self.__daily_salary = daily_salary\n",
    "        \n",
    "    def work(self):\n",
    "        self.__work_days_accrued += 1\n",
    "        return( None )\n",
    "        \n",
    "    def expected_payout(self):\n",
    "        return( self.__work_days_accrued * self.__daily_salary )\n",
    "    \n",
    "    def payout(self):\n",
    "        monthly_payout = self.expected_payout()\n",
    "        self.__work_days_accrued = 0\n",
    "        return ( monthly_payout )\n",
    "\n",
    "\n",
    "# Ready-made tests.\n",
    "print(\"--- Setting up test cases.\")\n",
    "cleaner = Employee(name = \"Scruffy\")  # Should have daily_salary 15.\n",
    "josh = Employee(name = \"Josh\", daily_salary = 1000)\n",
    "toby = Employee(name = \"Toby\", daily_salary = 9999)\n",
    "\n",
    "josh.work()\n",
    "josh.work()\n",
    "toby.work()\n",
    "toby.work()\n",
    "toby.work()\n",
    "cleaner.work()\n",
    "\n",
    "print(\"--- Testing payout and expected_payout properties.\")\n",
    "assert cleaner.expected_payout() == 15, \"default salary should be 15\"\n",
    "assert josh.expected_payout() == 1000*2\n",
    "assert josh.payout() == 1000*2\n",
    "assert josh.expected_payout() == 0, \"salary should be reset afterwards\"\n",
    "assert toby.payout() == 9999*3, \"toby and josh instances should be independent.\"\n",
    "print(\"OK\")\n",
    "\n",
    "print(\"--- Testing non-data-accessing calls to superclass methods.\")\n",
    "assert josh.return_five() == 5, \"Person.return_five should be accessible\"\n",
    "print(\"OK\")\n",
    "\n",
    "print(\"--- Testing data that should be set up by initialiser call.\")\n",
    "assert josh.get_age() == 0, \"superclass method should be callable, values should not be missing.\"\n",
    "josh.age = 9\n",
    "assert josh.get_age() == 9, \"superclass method should be callable\"\n",
    "print(\"OK\")"
   ]
  },
  {
   "cell_type": "markdown",
   "metadata": {},
   "source": [
    "b) Which public data attributes (fields) does an `Employee` have? Can you access the age of an employee directly (without some transformation of the name)? The daily salary?"
   ]
  },
  {
   "cell_type": "code",
   "execution_count": 9,
   "metadata": {},
   "outputs": [
    {
     "name": "stdout",
     "output_type": "stream",
     "text": [
      "Josh\n",
      "9\n"
     ]
    }
   ],
   "source": [
    "# I can have access directly to the attributes of the superclass Person only.\n",
    "# This includes both age (which is set to 0 by default in Person) and name. \n",
    "# The attributes from Employee itself instead where defined privately (double underscore).\n",
    "# For this reason they are visible to the user (josh.__ + \"tab\" will make the attribute appear)\n",
    "# but they are not accessible in any way (function get and set need to be implemented)\n",
    "\n",
    "print(josh.name)\n",
    "print(josh.age)\n",
    "#print(josh.__daily_salary)"
   ]
  },
  {
   "cell_type": "markdown",
   "metadata": {},
   "source": [
    "c) Create another subclass of `Person`. This should be called `Student`. Students have the method `work`, which only increases their age by 1/365. Students start out at age 7 (not 0, as persons). You may not modify the `Person` class."
   ]
  },
  {
   "cell_type": "code",
   "execution_count": 10,
   "metadata": {},
   "outputs": [
    {
     "name": "stdout",
     "output_type": "stream",
     "text": [
      "7\n",
      "7.002739726027397\n"
     ]
    }
   ],
   "source": [
    "class Student(Person):\n",
    "    def __init__(self, name):\n",
    "        super().__init__(name)\n",
    "        # super().__init__(name)\n",
    "        self.age = 7\n",
    "        \n",
    "    def work(self):\n",
    "        self.age += 1/365\n",
    "\n",
    "studious_student = Student(name = \"Mike\")\n",
    "assert studious_student.age == 7\n",
    "print(studious_student.age)\n",
    "studious_student.work()\n",
    "print(studious_student.age)"
   ]
  },
  {
   "cell_type": "markdown",
   "metadata": {},
   "source": [
    "# 5. Multiple inheritance"
   ]
  },
  {
   "cell_type": "markdown",
   "metadata": {},
   "source": [
    "a) Create a subclass `TeachingAssistant`, which so far only contains a constructor. A teaching-assistant is both a Student and an Employee. TA:s daily salaries are always 1."
   ]
  },
  {
   "cell_type": "code",
   "execution_count": 11,
   "metadata": {},
   "outputs": [],
   "source": [
    "class TeachingAssistant(Student, Employee):\n",
    "    def __init__(self, name, work_days_accrued = 0, daily_salary = 1):\n",
    "        Employee.__init__(self, name, work_days_accrued, daily_salary)\n",
    "        Student.__init__(self, name)\n",
    "        self.age = 7\n",
    "        \n",
    "        \n",
    "Gigio = TeachingAssistant(name = \"Gigio Bagigio\")"
   ]
  },
  {
   "cell_type": "markdown",
   "metadata": {},
   "source": [
    "b) How would you test if `severus` below is (some kind of) a `Person`? Note that he is (all TA:s are Persons!), and your test should return `True`."
   ]
  },
  {
   "cell_type": "code",
   "execution_count": 12,
   "metadata": {},
   "outputs": [
    {
     "name": "stdout",
     "output_type": "stream",
     "text": [
      "[<class '__main__.Student'>, <class '__main__.Employee'>, <class '__main__.Person'>, <class 'object'>, <class '__main__.Person'>, <class 'object'>, <class 'object'>, <class 'object'>]\n",
      "----------------------------------\n",
      "Test: is severus a person?\n"
     ]
    },
    {
     "data": {
      "text/plain": [
       "True"
      ]
     },
     "execution_count": 12,
     "metadata": {},
     "output_type": "execute_result"
    }
   ],
   "source": [
    "severus = TeachingAssistant(name = \"Severus\")\n",
    "\n",
    "\n",
    "# Since the parent classes of TeachingAssistant are not Person itself, we have to create a function \n",
    "# that recursively looks at all parents classes of all the classes available for the input object.\n",
    "\n",
    "def get_parent_classes(cls):\n",
    "    c = list(cls.__bases__)  # .__bases__ returns \"the tuple of base classes of a class object\"\n",
    "    \n",
    "    # For each class of the list we recursively call the function itself\n",
    "    for base in c:\n",
    "        c.extend(get_parent_classes(base))\n",
    "    return c\n",
    "\n",
    "\n",
    "# Let's display the result of the function\n",
    "print(get_parent_classes(type(severus)))\n",
    "\n",
    "# Test: is Person one of the classes of \"severus\"?\n",
    "print(\"----------------------------------\")\n",
    "print(\"Test: is severus a person?\")\n",
    "Person in get_parent_classes(type(severus))\n",
    "\n",
    "\n",
    "\n",
    "\n",
    "\n",
    "# -------------------------------------------------------------------------------------------------------------\n",
    "# IS INSTANCE IS ENOUGH!\n",
    "# -------------------------------------------------------------------------------------------------------------\n",
    "\n",
    "isinstance(severus, Person)"
   ]
  },
  {
   "cell_type": "markdown",
   "metadata": {},
   "source": [
    "d) Call the `work` method of a TA object, such as `severus`. What happens? Does their age increase? Their accrued salary? Both? Why is this, in your implementation? [Different groups might have slightly different results here, even if their solutions are correct. Discuss your solution.]"
   ]
  },
  {
   "cell_type": "code",
   "execution_count": 13,
   "metadata": {},
   "outputs": [
    {
     "name": "stdout",
     "output_type": "stream",
     "text": [
      "7\n",
      "0\n",
      "7.002739726027397\n",
      "0\n"
     ]
    }
   ],
   "source": [
    "# The class TeachingAssistant was defined as a subclass of (Student, Employee), in this order.\n",
    "# Since the method work was defined in both parent classes, only one implementation can survive\n",
    "# in the children class. Python evaluets the classes fron left to right, meaning that if a method\n",
    "# is declared with tha same name in more than one parent class, the version that will \"survive\"\n",
    "# in the children class is belonging from the class most on the left of the tuple.\n",
    "# Therefore we expect that the work() method from Student will be the one actually implemented\n",
    "# in the TeachingAssistant class (age will change, not accrued salary).\n",
    "\n",
    "# Show age and accrued salary before the work function\n",
    "print(severus.age)\n",
    "print(severus.expected_payout())\n",
    "\n",
    "# Call the method work\n",
    "severus.work()\n",
    "\n",
    "# Show the two variables again. Which one(s) changed?\n",
    "print(severus.age)\n",
    "print(severus.expected_payout())\n",
    "\n",
    "# With our implementations of the classes the behaviour is the one we expected: Student class redefined\n",
    "# the method work, overwriting the one from Employee. Therefore what it actually affects is the age of\n",
    "# the object."
   ]
  },
  {
   "cell_type": "markdown",
   "metadata": {},
   "source": [
    "[Hint: You might want to inspect the `.age` and `.work_days_accrued` attributes of the object. Or simply add a print statement to the work functions that would show you if they were called.]"
   ]
  },
  {
   "cell_type": "markdown",
   "metadata": {},
   "source": [
    "e) Rewrite the `TeachingAssistant` class definition so that eg `severus.work()` will both increase the age and the expected payout."
   ]
  },
  {
   "cell_type": "code",
   "execution_count": 26,
   "metadata": {},
   "outputs": [
    {
     "name": "stdout",
     "output_type": "stream",
     "text": [
      "7\n",
      "0\n",
      "7.002739726027397\n",
      "1\n"
     ]
    }
   ],
   "source": [
    "class TeachingAssistant(Employee, Student):\n",
    "    def __init__(self, name, work_days_accrued = 0, daily_salary = 1):\n",
    "        Student.__init__(self, name)\n",
    "        Employee.__init__(self, name, work_days_accrued, daily_salary)\n",
    "        self.age = 7\n",
    "        \n",
    "    #def work(self):\n",
    "    #    super(TeachingAssistant, self).work()\n",
    "    \n",
    "    def work(self):\n",
    "        Employee.work(self)\n",
    "        Student.work(self)\n",
    "    \n",
    "\n",
    "    \n",
    "severus = TeachingAssistant(name = \"Severus\")\n",
    "\n",
    "# Show age and accrued salary before the work function\n",
    "print(severus.age)\n",
    "print(severus.expected_payout())\n",
    "\n",
    "# Call the method work\n",
    "severus.work()\n",
    "\n",
    "# Show the two variables again. Now both changed!\n",
    "print(severus.age)\n",
    "print(severus.expected_payout())"
   ]
  },
  {
   "cell_type": "markdown",
   "metadata": {},
   "source": [
    "# 6. Further encapsulation, and properties"
   ]
  },
  {
   "cell_type": "markdown",
   "metadata": {},
   "source": [
    "a) How would you rewrite the `Person` class so that we can remove `get_age` and provide `.age` as a getter-only property? Use the `@property` syntax. You may rename member attributes."
   ]
  },
  {
   "cell_type": "code",
   "execution_count": 85,
   "metadata": {},
   "outputs": [
    {
     "data": {
      "text/plain": [
       "0"
      ]
     },
     "execution_count": 85,
     "metadata": {},
     "output_type": "execute_result"
    }
   ],
   "source": [
    "class Person:\n",
    "    def __init__(self, name, age = 0):\n",
    "        self.name = name\n",
    "        self.age = age    # Age should be non-negative.\n",
    "        \n",
    "    @property\n",
    "    def age(self):\n",
    "        \"\"\"Return the Person's age, a non-negative number.\"\"\"\n",
    "        return self.__age\n",
    "    \n",
    "    @age.setter\n",
    "    def age(self, age):\n",
    "        if age < 0:\n",
    "            raise ValueError(\"The age cannot be negative!\")\n",
    "        elif age > 100:\n",
    "            self.__age = 100\n",
    "        else:\n",
    "            self.__age = age\n",
    "    \n",
    "    \n",
    "    def return_five(self):\n",
    "        \"\"\"Return 5. Dummy function.\"\"\"\n",
    "        return 5\n",
    "\n",
    "president = Person(\"Jeb\")\n",
    "president.age"
   ]
  },
  {
   "cell_type": "markdown",
   "metadata": {},
   "source": [
    "b) Try to set `president.age` to 100. What happens?"
   ]
  },
  {
   "cell_type": "code",
   "execution_count": 86,
   "metadata": {},
   "outputs": [
    {
     "data": {
      "text/plain": [
       "100"
      ]
     },
     "execution_count": 86,
     "metadata": {},
     "output_type": "execute_result"
    }
   ],
   "source": [
    "president.age = 100\n",
    "president.age\n",
    "\n",
    "# It works"
   ]
  },
  {
   "cell_type": "markdown",
   "metadata": {},
   "source": [
    "c) Now we've modified the `Person` class. What kind of problems do you suspect might come from this when looking at the child classes (without modifying them!)? Give a statement, a sensible line of code, below which demonstrates this."
   ]
  },
  {
   "cell_type": "code",
   "execution_count": 87,
   "metadata": {},
   "outputs": [],
   "source": [
    "class Employee(Person):\n",
    "    def __init__(self, name, work_days_accrued = 0, daily_salary = 15):\n",
    "        super().__init__(name)\n",
    "        #Person.__init__(self, name)\n",
    "        self.__work_days_accrued = work_days_accrued\n",
    "        self.__daily_salary = daily_salary\n",
    "        \n",
    "    def work(self):\n",
    "        self.__work_days_accrued += 1\n",
    "        return( None )\n",
    "        \n",
    "    def expected_payout(self):\n",
    "        return( self.__work_days_accrued * self.__daily_salary )\n",
    "    \n",
    "    def payout(self):\n",
    "        monthly_payout = self.expected_payout()\n",
    "        self.__work_days_accrued = 0\n",
    "        return ( monthly_payout )\n",
    "    \n",
    "    \n",
    "class Student(Person):\n",
    "    def __init__(self, name):\n",
    "        super().__init__(name)\n",
    "        # super().__init__(name)\n",
    "        self.age = 7\n",
    "        \n",
    "    def work(self):\n",
    "        self.age += 1/365\n",
    "        \n",
    "        \n",
    "\n",
    "class TeachingAssistant(Student, Employee):\n",
    "    def __init__(self, name, work_days_accrued = 0, daily_salary = 1):\n",
    "        Employee.__init__(self, name, work_days_accrued, daily_salary)\n",
    "        Student.__init__(self, name)\n",
    "        self.age = 7"
   ]
  },
  {
   "cell_type": "code",
   "execution_count": 88,
   "metadata": {},
   "outputs": [
    {
     "name": "stdout",
     "output_type": "stream",
     "text": [
      "0\n",
      "15\n",
      "\n",
      "7\n",
      "7.002739726027397\n",
      "\n",
      "7\n",
      "0\n",
      "7.002739726027397\n",
      "0\n"
     ]
    }
   ],
   "source": [
    "gigio_bagigio = Employee(name = \"Gigio Bagigio\")\n",
    "gigetto_bagigetto = Student(name = \"Gigetto Bagigetto\")\n",
    "gigio_master = TeachingAssistant(name = \"Gigio master\")\n",
    "\n",
    "print(gigio_bagigio.expected_payout())\n",
    "gigio_bagigio.work()\n",
    "print(gigio_bagigio.expected_payout())\n",
    "\n",
    "print(\"\")\n",
    "\n",
    "print(gigetto_bagigetto.age)\n",
    "gigetto_bagigetto.work()\n",
    "print(gigetto_bagigetto.age)\n",
    "\n",
    "print(\"\")\n",
    "\n",
    "print(gigio_master.age)\n",
    "print(gigio_master.expected_payout())\n",
    "gigio_master.work()\n",
    "print(gigio_master.age)\n",
    "print(gigio_master.expected_payout())"
   ]
  },
  {
   "cell_type": "markdown",
   "metadata": {},
   "source": [
    "Note: above we changed the public interface of a class, which some other classes or behaviours had come to rely on. "
   ]
  },
  {
   "cell_type": "markdown",
   "metadata": {},
   "source": [
    "d) Let's say that we previously had the implicit contract \"ages are non-negative numbers\". This was an idea in the mind of the programmer, but had not implemented in code. Cut-and-paste your modified solution, and add a setter for `age` which enforces this (again, using the decorator `@` syntax). If the age is negative (or something where the comparison fails), a `ValueError` should be raised."
   ]
  },
  {
   "cell_type": "code",
   "execution_count": 89,
   "metadata": {},
   "outputs": [
    {
     "ename": "ValueError",
     "evalue": "The age cannot be negative!",
     "output_type": "error",
     "traceback": [
      "\u001b[0;31m---------------------------------------------------------------------------\u001b[0m",
      "\u001b[0;31mValueError\u001b[0m                                Traceback (most recent call last)",
      "\u001b[0;32m<ipython-input-89-7c4b223cb9df>\u001b[0m in \u001b[0;36m<module>\u001b[0;34m\u001b[0m\n\u001b[0;32m----> 1\u001b[0;31m \u001b[0mpresident\u001b[0m\u001b[0;34m.\u001b[0m\u001b[0mage\u001b[0m \u001b[0;34m=\u001b[0m \u001b[0;34m-\u001b[0m\u001b[0;36m100\u001b[0m\u001b[0;34m\u001b[0m\u001b[0;34m\u001b[0m\u001b[0m\n\u001b[0m",
      "\u001b[0;32m<ipython-input-85-9e3b87bea148>\u001b[0m in \u001b[0;36mage\u001b[0;34m(self, age)\u001b[0m\n\u001b[1;32m     12\u001b[0m     \u001b[0;32mdef\u001b[0m \u001b[0mage\u001b[0m\u001b[0;34m(\u001b[0m\u001b[0mself\u001b[0m\u001b[0;34m,\u001b[0m \u001b[0mage\u001b[0m\u001b[0;34m)\u001b[0m\u001b[0;34m:\u001b[0m\u001b[0;34m\u001b[0m\u001b[0;34m\u001b[0m\u001b[0m\n\u001b[1;32m     13\u001b[0m         \u001b[0;32mif\u001b[0m \u001b[0mage\u001b[0m \u001b[0;34m<\u001b[0m \u001b[0;36m0\u001b[0m\u001b[0;34m:\u001b[0m\u001b[0;34m\u001b[0m\u001b[0;34m\u001b[0m\u001b[0m\n\u001b[0;32m---> 14\u001b[0;31m             \u001b[0;32mraise\u001b[0m \u001b[0mValueError\u001b[0m\u001b[0;34m(\u001b[0m\u001b[0;34m\"The age cannot be negative!\"\u001b[0m\u001b[0;34m)\u001b[0m\u001b[0;34m\u001b[0m\u001b[0;34m\u001b[0m\u001b[0m\n\u001b[0m\u001b[1;32m     15\u001b[0m         \u001b[0;32melif\u001b[0m \u001b[0mage\u001b[0m \u001b[0;34m>\u001b[0m \u001b[0;36m100\u001b[0m\u001b[0;34m:\u001b[0m\u001b[0;34m\u001b[0m\u001b[0;34m\u001b[0m\u001b[0m\n\u001b[1;32m     16\u001b[0m             \u001b[0mself\u001b[0m\u001b[0;34m.\u001b[0m\u001b[0m__age\u001b[0m \u001b[0;34m=\u001b[0m \u001b[0;36m100\u001b[0m\u001b[0;34m\u001b[0m\u001b[0;34m\u001b[0m\u001b[0m\n",
      "\u001b[0;31mValueError\u001b[0m: The age cannot be negative!"
     ]
    }
   ],
   "source": [
    "president.age = -100"
   ]
  },
  {
   "cell_type": "markdown",
   "metadata": {},
   "source": [
    "Cf the raising of ValueErrors in lab 2A."
   ]
  },
  {
   "cell_type": "markdown",
   "metadata": {},
   "source": [
    "e) Given this addition of a somewhat restrictive setter, do the problems with the subclasses that you encountered above disappear? Does this make sense?"
   ]
  },
  {
   "cell_type": "code",
   "execution_count": null,
   "metadata": {},
   "outputs": [],
   "source": [
    "# Your answer."
   ]
  },
  {
   "cell_type": "markdown",
   "metadata": {},
   "source": [
    "General note: If you use Python as a scripting language, having only taken this course, implementing deep or complex structures with multiple inheritances is unlikely to be your first task. What you should recall is that (i) you can do this, (ii) how you can do this technically, (iii) that Python will give you a lot of leeway and (iv) that what you expose in the code matters if someone may later come to rely on it. Especially if the documentation is somewhat lacking, and where contracts are not made explicit in a way that the system will enforce (eg ages should be non-negative). This last part is possibly the most important."
   ]
  },
  {
   "cell_type": "markdown",
   "metadata": {},
   "source": [
    "# Honourable mentions"
   ]
  },
  {
   "cell_type": "markdown",
   "metadata": {},
   "source": [
    "This lab by no means treats all useful concepts in OOP or Python. You may want to look up\n",
    "* Abstract Classes and abc (see the module `abc`, and the more specialised `abc` in the specialised `collections`).\n",
    "* The concept of \"goose typing\".\n",
    "* The concept of mixins.\n",
    "Etc."
   ]
  },
  {
   "cell_type": "markdown",
   "metadata": {},
   "source": [
    "## Acknowledgments"
   ]
  },
  {
   "cell_type": "markdown",
   "metadata": {},
   "source": [
    "This lab in 732A74 is by Anders Märak Leffler (2019). The introductory text is by Johan Falkenjack (2018).\n",
    "\n",
    "Licensed under [CC-BY-SA 4.0](https://creativecommons.org/licenses/by-sa/4.0/)."
   ]
  }
 ],
 "metadata": {
  "anaconda-cloud": {},
  "kernelspec": {
   "display_name": "Python 3",
   "language": "python",
   "name": "python3"
  },
  "language_info": {
   "codemirror_mode": {
    "name": "ipython",
    "version": 3
   },
   "file_extension": ".py",
   "mimetype": "text/x-python",
   "name": "python",
   "nbconvert_exporter": "python",
   "pygments_lexer": "ipython3",
   "version": "3.7.1"
  }
 },
 "nbformat": 4,
 "nbformat_minor": 2
}
