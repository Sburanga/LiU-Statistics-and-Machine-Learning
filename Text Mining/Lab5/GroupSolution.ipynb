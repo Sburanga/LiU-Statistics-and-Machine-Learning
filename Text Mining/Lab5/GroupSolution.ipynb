{
 "cells": [
  {
   "cell_type": "markdown",
   "metadata": {},
   "source": [
    "# L5: Information extraction"
   ]
  },
  {
   "cell_type": "markdown",
   "metadata": {},
   "source": [
    "Information extraction (IE) is the task of identifying named entities and semantic relations between these entities in text data. In this lab we will focus on two sub-tasks in IE, **named entity recognition** (identifying mentions of entities) and **entity linking** (matching these mentions to entities in a knowledge base)."
   ]
  },
  {
   "cell_type": "markdown",
   "metadata": {},
   "source": [
    "We start by loading spaCy:"
   ]
  },
  {
   "cell_type": "code",
   "execution_count": 1,
   "metadata": {},
   "outputs": [],
   "source": [
    "import spacy\n",
    "\n",
    "nlp = spacy.load(\"en_core_web_sm\")"
   ]
  },
  {
   "cell_type": "markdown",
   "metadata": {},
   "source": [
    "The data that we will be using has been tokenized following the conventions of the [Penn Treebank](ftp://ftp.cis.upenn.edu/pub/treebank/public_html/tokenization.html), and we need to prevent spaCy from using its own tokenizer on top of this. We therefore override spaCy&rsquo;s tokenizer with one that simply splits on space."
   ]
  },
  {
   "cell_type": "code",
   "execution_count": 2,
   "metadata": {},
   "outputs": [],
   "source": [
    "from spacy.tokens import Doc\n",
    "\n",
    "class WhitespaceTokenizer(object):\n",
    "    def __init__(self, vocab):\n",
    "        self.vocab = vocab\n",
    "\n",
    "    def __call__(self, text):\n",
    "        return Doc(self.vocab, words=text.split(\" \"))\n",
    "\n",
    "nlp.tokenizer = WhitespaceTokenizer(nlp.vocab)"
   ]
  },
  {
   "cell_type": "markdown",
   "metadata": {},
   "source": [
    "## Data set"
   ]
  },
  {
   "cell_type": "markdown",
   "metadata": {},
   "source": [
    "The main data set for this lab is a collection of news wire articles in which mentions of named entities have been annotated with page names from the [English Wikipedia](https://en.wikipedia.org/wiki/). The next code cell loads the training and the development parts of the data into Pandas data frames."
   ]
  },
  {
   "cell_type": "code",
   "execution_count": 3,
   "metadata": {},
   "outputs": [],
   "source": [
    "import bz2\n",
    "import csv\n",
    "import pandas as pd\n",
    "\n",
    "with bz2.open(\"ner-train.tsv.bz2\", 'rt', encoding=\"utf8\") as source:\n",
    "    df_train = pd.read_csv(source, sep='\\t', quoting=csv.QUOTE_NONE)\n",
    "\n",
    "with bz2.open(\"ner-dev.tsv.bz2\", 'rt', encoding=\"utf8\") as source:\n",
    "    df_dev = pd.read_csv(source, sep='\\t', quoting=csv.QUOTE_NONE)"
   ]
  },
  {
   "cell_type": "markdown",
   "metadata": {},
   "source": [
    "Each row in these two data frames corresponds to one mention of a named entity and has five columns:\n",
    "\n",
    "1. a unique identifier for the sentence containing the entity mention\n",
    "2. the pre-tokenized sentence, with tokens separated by spaces\n",
    "3. the start position of the token span containing the entity mention\n",
    "4. the end position of the token span (exclusive, as in Python list indexing)\n",
    "5. the entity label; either a Wikipedia page name or the generic label `--NME--`\n",
    "\n",
    "The following cell prints the first five samples from the training data:"
   ]
  },
  {
   "cell_type": "code",
   "execution_count": 4,
   "metadata": {},
   "outputs": [
    {
     "data": {
      "text/html": [
       "<div>\n",
       "<style scoped>\n",
       "    .dataframe tbody tr th:only-of-type {\n",
       "        vertical-align: middle;\n",
       "    }\n",
       "\n",
       "    .dataframe tbody tr th {\n",
       "        vertical-align: top;\n",
       "    }\n",
       "\n",
       "    .dataframe thead th {\n",
       "        text-align: right;\n",
       "    }\n",
       "</style>\n",
       "<table border=\"1\" class=\"dataframe\">\n",
       "  <thead>\n",
       "    <tr style=\"text-align: right;\">\n",
       "      <th></th>\n",
       "      <th>sentence_id</th>\n",
       "      <th>sentence</th>\n",
       "      <th>beg</th>\n",
       "      <th>end</th>\n",
       "      <th>label</th>\n",
       "    </tr>\n",
       "  </thead>\n",
       "  <tbody>\n",
       "    <tr>\n",
       "      <th>0</th>\n",
       "      <td>0000-000</td>\n",
       "      <td>EU rejects German call to boycott British lamb .</td>\n",
       "      <td>0</td>\n",
       "      <td>1</td>\n",
       "      <td>--NME--</td>\n",
       "    </tr>\n",
       "    <tr>\n",
       "      <th>1</th>\n",
       "      <td>0000-000</td>\n",
       "      <td>EU rejects German call to boycott British lamb .</td>\n",
       "      <td>2</td>\n",
       "      <td>3</td>\n",
       "      <td>Germany</td>\n",
       "    </tr>\n",
       "    <tr>\n",
       "      <th>2</th>\n",
       "      <td>0000-000</td>\n",
       "      <td>EU rejects German call to boycott British lamb .</td>\n",
       "      <td>6</td>\n",
       "      <td>7</td>\n",
       "      <td>United_Kingdom</td>\n",
       "    </tr>\n",
       "    <tr>\n",
       "      <th>3</th>\n",
       "      <td>0000-001</td>\n",
       "      <td>Peter Blackburn</td>\n",
       "      <td>0</td>\n",
       "      <td>2</td>\n",
       "      <td>--NME--</td>\n",
       "    </tr>\n",
       "    <tr>\n",
       "      <th>4</th>\n",
       "      <td>0000-002</td>\n",
       "      <td>BRUSSELS 1996-08-22</td>\n",
       "      <td>0</td>\n",
       "      <td>1</td>\n",
       "      <td>Brussels</td>\n",
       "    </tr>\n",
       "  </tbody>\n",
       "</table>\n",
       "</div>"
      ],
      "text/plain": [
       "  sentence_id                                          sentence  beg  end  \\\n",
       "0    0000-000  EU rejects German call to boycott British lamb .    0    1   \n",
       "1    0000-000  EU rejects German call to boycott British lamb .    2    3   \n",
       "2    0000-000  EU rejects German call to boycott British lamb .    6    7   \n",
       "3    0000-001                                   Peter Blackburn    0    2   \n",
       "4    0000-002                               BRUSSELS 1996-08-22    0    1   \n",
       "\n",
       "            label  \n",
       "0         --NME--  \n",
       "1         Germany  \n",
       "2  United_Kingdom  \n",
       "3         --NME--  \n",
       "4        Brussels  "
      ]
     },
     "execution_count": 4,
     "metadata": {},
     "output_type": "execute_result"
    }
   ],
   "source": [
    "df_train.head()"
   ]
  },
  {
   "cell_type": "markdown",
   "metadata": {},
   "source": [
    "In this sample, we see that the first sentence is annotated with three entity mentions:\n",
    "\n",
    "* the span 0–1 &lsquo;EU&rsquo; is annotated as a mention but only labelled with the generic `--NME--`\n",
    "* the span 2–3 &lsquo;German&rsquo; is annotated with the page [Germany](http://en.wikipedia.org/wiki/Germany)\n",
    "* the span 6–7 &lsquo;British&rsquo; is annotated with the page [United_Kingdom](http://en.wikipedia.org/wiki/United_Kingdom)"
   ]
  },
  {
   "cell_type": "markdown",
   "metadata": {},
   "source": [
    "## Problem 1: Evaluation measures"
   ]
  },
  {
   "cell_type": "markdown",
   "metadata": {},
   "source": [
    "To warm up, we ask you to write code to print the three measures that you will be using for evaluation:"
   ]
  },
  {
   "cell_type": "code",
   "execution_count": 5,
   "metadata": {},
   "outputs": [],
   "source": [
    "import numpy as np\n",
    "import pandas as pd"
   ]
  },
  {
   "cell_type": "code",
   "execution_count": 6,
   "metadata": {},
   "outputs": [],
   "source": [
    "def evaluation_report(gold, pred):\n",
    "    \"\"\"Print precision, recall, and F1 score.\n",
    "    \n",
    "    Args:\n",
    "        gold: The set with the gold-standard values.\n",
    "        pred: The set with the predicted values.\n",
    "    \n",
    "    Returns:\n",
    "        Nothing, but prints the precision, recall, and F1 values computed\n",
    "        based on the specified sets.\n",
    "    \"\"\"\n",
    "    TP = len(gold.intersection(pred))    # Number of true positives\n",
    "    precision = TP/len(pred)\n",
    "    recall = TP/len(gold)\n",
    "    f1 = 2*precision*recall / (precision + recall)\n",
    "    \n",
    "    print(\"Precision = {:.4f} || Recall = {:.4f} || F1 Score = {:.4f}\".format(precision, recall, f1))"
   ]
  },
  {
   "cell_type": "markdown",
   "metadata": {},
   "source": [
    "To test your code, you can run the following cell:"
   ]
  },
  {
   "cell_type": "code",
   "execution_count": 7,
   "metadata": {},
   "outputs": [
    {
     "name": "stdout",
     "output_type": "stream",
     "text": [
      "Precision = 0.6000 || Recall = 1.0000 || F1 Score = 0.7500\n"
     ]
    }
   ],
   "source": [
    "evaluation_report(set(range(3)), set(range(5)))"
   ]
  },
  {
   "cell_type": "markdown",
   "metadata": {},
   "source": [
    "This should give you a precision of 60%, a recall of 100%, and an F1-value of 75%."
   ]
  },
  {
   "cell_type": "markdown",
   "metadata": {},
   "source": [
    "## Problem 2: Span recognition"
   ]
  },
  {
   "cell_type": "markdown",
   "metadata": {},
   "source": [
    "One of the first tasks that an information extraction system has to solve is to locate and classify (mentions of) named entities, such as persons and organizations. Here we will tackle the simpler task of recognizing **spans** of tokens that contain an entity mention, without the actual entity label.\n",
    "\n",
    "The English language model in spaCy features a full-fledged [named entity recognizer](https://spacy.io/usage/linguistic-features#named-entities) that identifies a variety of entities, and can be updated with new entity types by the user. Your task in this problem is to evaluate the performance of this component when predicting entity spans in the development data.\n",
    "\n",
    "Start by implementing a generator function that yields the gold-standard spans in a given data frame.\n",
    "\n",
    "**Hint:** The Pandas method [`itertuples()`](https://pandas.pydata.org/pandas-docs/version/0.17.0/generated/pandas.DataFrame.itertuples.html) is useful when iterating over the rows in a DataFrame."
   ]
  },
  {
   "cell_type": "code",
   "execution_count": 8,
   "metadata": {},
   "outputs": [],
   "source": [
    "def gold_spans(df):\n",
    "    \"\"\"Yield the gold-standard mention spans in a data frame.\n",
    "\n",
    "    Args:\n",
    "        df: A data frame.\n",
    "\n",
    "    Yields:\n",
    "        The gold-standard mention spans in the specified data frame as\n",
    "        triples consisting of the sentence id, start position, and end\n",
    "        position of each span.\n",
    "    \"\"\"\n",
    "    for i,s_id,sent,beg,end,label in df.itertuples():\n",
    "        yield (s_id, beg, end)"
   ]
  },
  {
   "cell_type": "markdown",
   "metadata": {},
   "source": [
    "To test your code, you can count the spans yielded by your function. When called on the development data, you should get a total of 5,917 unique triples. The first triple and the last triple should be\n",
    "\n",
    "    ('0946-000', 2, 3)\n",
    "    ('1161-010', 1, 3)  "
   ]
  },
  {
   "cell_type": "code",
   "execution_count": 9,
   "metadata": {},
   "outputs": [
    {
     "name": "stdout",
     "output_type": "stream",
     "text": [
      "First triple: ('0946-000', 2, 3) \n",
      "Last triple: ('1161-010', 1, 3)\n"
     ]
    }
   ],
   "source": [
    "print(\"First triple: {} \\nLast triple: {}\".format(list(gold_spans(df_dev))[0], list(gold_spans(df_dev))[-1]))"
   ]
  },
  {
   "cell_type": "code",
   "execution_count": 10,
   "metadata": {},
   "outputs": [
    {
     "name": "stdout",
     "output_type": "stream",
     "text": [
      "Number of unique triples = 5917\n"
     ]
    }
   ],
   "source": [
    "spans_dev_gold = set(gold_spans(df_dev))\n",
    "print(\"Number of unique triples = {}\".format(len(spans_dev_gold)))"
   ]
  },
  {
   "cell_type": "markdown",
   "metadata": {},
   "source": [
    "Your next task is to write code that calls spaCy to predict the named entities in the development data, and to evaluate the accuracy of these predictions in terms of precision, recall, and F1. Print these scores using the function that you wrote for Problem&nbsp;1."
   ]
  },
  {
   "cell_type": "code",
   "execution_count": 11,
   "metadata": {},
   "outputs": [],
   "source": [
    "def get_spacy_ner(df):\n",
    "    ner = []\n",
    "    current_sid = \"\"\n",
    "    with nlp.disable_pipes(\"tagger\", \"parser\"):\n",
    "        for _,s_id,sentence,_,_,_ in df.itertuples():\n",
    "            if s_id != current_sid:\n",
    "                sent_nlp = nlp(sentence)\n",
    "                for ent in sent_nlp.ents:\n",
    "                    ner.append((s_id, ent.start, ent.end))\n",
    "                current_sid = s_id\n",
    "    return ner\n",
    "\n",
    "spacy_ner = get_spacy_ner(df_dev)"
   ]
  },
  {
   "cell_type": "code",
   "execution_count": 12,
   "metadata": {},
   "outputs": [
    {
     "data": {
      "text/plain": [
       "8038"
      ]
     },
     "execution_count": 12,
     "metadata": {},
     "output_type": "execute_result"
    }
   ],
   "source": [
    "len(spacy_ner)"
   ]
  },
  {
   "cell_type": "code",
   "execution_count": 13,
   "metadata": {},
   "outputs": [
    {
     "name": "stdout",
     "output_type": "stream",
     "text": [
      "Precision = 0.5153 || Recall = 0.7000 || F1 Score = 0.5936\n"
     ]
    }
   ],
   "source": [
    "evaluation_report(set(gold_spans(df_dev)), spacy_ner)"
   ]
  },
  {
   "cell_type": "markdown",
   "metadata": {},
   "source": [
    "## Problem 3: Error analysis"
   ]
  },
  {
   "cell_type": "markdown",
   "metadata": {},
   "source": [
    "As you were able to see in Problem&nbsp;2, the span accuracy of the named entity recognizer is far from perfect. In particular, only slightly more than half of the predicted spans are correct according to the gold standard. Your next task is to analyse this result in more detail.\n",
    "\n",
    "Write code that prints the false positives and the false negatives from the automatic prediction. Have a look at the output. What are your observations? How could you improve the result? Discuss these questions in a short text."
   ]
  },
  {
   "cell_type": "code",
   "execution_count": 14,
   "metadata": {},
   "outputs": [],
   "source": [
    "# Function to join strings with comma\n",
    "def merge_se(x):\n",
    "    return \", \".join(x[\"start_end\"].astype(str))\n",
    "\n",
    "# Function to compare gold standard and predictions to create consolidated DataFrame of errors\n",
    "def get_errors(df, gold, pred):\n",
    "    # Find false positives and negatives\n",
    "    fp = set(pred).difference(gold)\n",
    "    fn = set(gold).difference(pred)\n",
    "    # tp = set(gold).intersection(pred)\n",
    "    \n",
    "    # Create sentence id: sentence dictionary \n",
    "    sentence_dict = {}\n",
    "    for i,s_id,sentence,beg,end,label in df.itertuples():\n",
    "        if s_id not in sentence_dict:\n",
    "            sentence_dict[s_id] = sentence.split()\n",
    "    \n",
    "    # Create DataFrames for FP and FN entities\n",
    "    fp = [(s_id, \" \".join(sentence_dict[s_id][start:end])) for s_id, start, end in fp]\n",
    "    fn = [(s_id, \" \".join(sentence_dict[s_id][start:end])) for s_id, start, end in fn]        \n",
    "    fp_df = pd.DataFrame(fp, columns=[\"sentence_id\", \"start_end\"]).groupby(\"sentence_id\").apply(merge_se).to_frame(\"FP\")\n",
    "    fp_df.reset_index(level=0, inplace=True)\n",
    "    fn_df = pd.DataFrame(fn, columns=[\"sentence_id\", \"start_end\"]).groupby(\"sentence_id\").apply(merge_se).to_frame(\"FN\")\n",
    "    fn_df.reset_index(level=0, inplace=True)\n",
    "    \n",
    "    # Join DataFrames\n",
    "    errors_df = fp_df.set_index('sentence_id').join(fn_df.set_index('sentence_id'), how=\"outer\")\n",
    "    errors_merged_df = df_dev[[\"sentence_id\",\"sentence\"]].drop_duplicates().set_index('sentence_id').join(errors_df, how=\"right\")\n",
    "    errors_merged_df.reset_index(level=errors_merged_df.index.names, inplace=True)\n",
    "\n",
    "    return errors_merged_df"
   ]
  },
  {
   "cell_type": "code",
   "execution_count": 15,
   "metadata": {},
   "outputs": [],
   "source": [
    "error_analysis = get_errors(df_dev, set(gold_spans(df_dev)), spacy_ner)"
   ]
  },
  {
   "cell_type": "code",
   "execution_count": 16,
   "metadata": {},
   "outputs": [
    {
     "data": {
      "text/html": [
       "<div>\n",
       "<style scoped>\n",
       "    .dataframe tbody tr th:only-of-type {\n",
       "        vertical-align: middle;\n",
       "    }\n",
       "\n",
       "    .dataframe tbody tr th {\n",
       "        vertical-align: top;\n",
       "    }\n",
       "\n",
       "    .dataframe thead th {\n",
       "        text-align: right;\n",
       "    }\n",
       "</style>\n",
       "<table border=\"1\" class=\"dataframe\">\n",
       "  <thead>\n",
       "    <tr style=\"text-align: right;\">\n",
       "      <th></th>\n",
       "      <th>sentence_id</th>\n",
       "      <th>sentence</th>\n",
       "      <th>FP</th>\n",
       "      <th>FN</th>\n",
       "    </tr>\n",
       "  </thead>\n",
       "  <tbody>\n",
       "    <tr>\n",
       "      <th>1</th>\n",
       "      <td>0946-002</td>\n",
       "      <td>West Indian all-rounder Phil Simmons took four...</td>\n",
       "      <td>four, Friday, 38, two days, 39</td>\n",
       "      <td>NaN</td>\n",
       "    </tr>\n",
       "    <tr>\n",
       "      <th>2</th>\n",
       "      <td>0946-004</td>\n",
       "      <td>After bowling Somerset out for 83 on the openi...</td>\n",
       "      <td>83, the opening morning, 83, first, 296, 94, t...</td>\n",
       "      <td>NaN</td>\n",
       "    </tr>\n",
       "    <tr>\n",
       "      <th>3</th>\n",
       "      <td>0946-005</td>\n",
       "      <td>Trailing by 213 , Somerset got a solid start t...</td>\n",
       "      <td>second, 213, 174</td>\n",
       "      <td>NaN</td>\n",
       "    </tr>\n",
       "    <tr>\n",
       "      <th>4</th>\n",
       "      <td>0946-007</td>\n",
       "      <td>Hussain , considered surplus to England 's one...</td>\n",
       "      <td>82, one-day, his first championship century of...</td>\n",
       "      <td>NaN</td>\n",
       "    </tr>\n",
       "    <tr>\n",
       "      <th>5</th>\n",
       "      <td>0946-008</td>\n",
       "      <td>By the close Yorkshire had turned that into a ...</td>\n",
       "      <td>24, four, 48, 119, five</td>\n",
       "      <td>Such</td>\n",
       "    </tr>\n",
       "  </tbody>\n",
       "</table>\n",
       "</div>"
      ],
      "text/plain": [
       "  sentence_id                                           sentence  \\\n",
       "1    0946-002  West Indian all-rounder Phil Simmons took four...   \n",
       "2    0946-004  After bowling Somerset out for 83 on the openi...   \n",
       "3    0946-005  Trailing by 213 , Somerset got a solid start t...   \n",
       "4    0946-007  Hussain , considered surplus to England 's one...   \n",
       "5    0946-008  By the close Yorkshire had turned that into a ...   \n",
       "\n",
       "                                                  FP    FN  \n",
       "1                     four, Friday, 38, two days, 39   NaN  \n",
       "2  83, the opening morning, 83, first, 296, 94, t...   NaN  \n",
       "3                                   second, 213, 174   NaN  \n",
       "4  82, one-day, his first championship century of...   NaN  \n",
       "5                            24, four, 48, 119, five  Such  "
      ]
     },
     "execution_count": 16,
     "metadata": {},
     "output_type": "execute_result"
    }
   ],
   "source": [
    "error_analysis.loc[error_analysis[\"FP\"].notna(),].loc[1:5,:]"
   ]
  },
  {
   "cell_type": "code",
   "execution_count": 17,
   "metadata": {},
   "outputs": [
    {
     "data": {
      "text/html": [
       "<div>\n",
       "<style scoped>\n",
       "    .dataframe tbody tr th:only-of-type {\n",
       "        vertical-align: middle;\n",
       "    }\n",
       "\n",
       "    .dataframe tbody tr th {\n",
       "        vertical-align: top;\n",
       "    }\n",
       "\n",
       "    .dataframe thead th {\n",
       "        text-align: right;\n",
       "    }\n",
       "</style>\n",
       "<table border=\"1\" class=\"dataframe\">\n",
       "  <thead>\n",
       "    <tr style=\"text-align: right;\">\n",
       "      <th></th>\n",
       "      <th>sentence_id</th>\n",
       "      <th>sentence</th>\n",
       "      <th>FP</th>\n",
       "      <th>FN</th>\n",
       "    </tr>\n",
       "  </thead>\n",
       "  <tbody>\n",
       "    <tr>\n",
       "      <th>150</th>\n",
       "      <td>0958-027</td>\n",
       "      <td>CLEVELAND AT TEXAS</td>\n",
       "      <td>NaN</td>\n",
       "      <td>CLEVELAND</td>\n",
       "    </tr>\n",
       "    <tr>\n",
       "      <th>151</th>\n",
       "      <td>0958-029</td>\n",
       "      <td>BOSTON AT OAKLAND</td>\n",
       "      <td>NaN</td>\n",
       "      <td>OAKLAND</td>\n",
       "    </tr>\n",
       "    <tr>\n",
       "      <th>152</th>\n",
       "      <td>0958-030</td>\n",
       "      <td>BALTIMORE AT SEATTLE</td>\n",
       "      <td>NaN</td>\n",
       "      <td>SEATTLE</td>\n",
       "    </tr>\n",
       "    <tr>\n",
       "      <th>153</th>\n",
       "      <td>0958-034</td>\n",
       "      <td>MONTREAL 71 61 .538 12</td>\n",
       "      <td>71 61</td>\n",
       "      <td>MONTREAL</td>\n",
       "    </tr>\n",
       "    <tr>\n",
       "      <th>154</th>\n",
       "      <td>0958-035</td>\n",
       "      <td>FLORIDA 64 70 .478 20</td>\n",
       "      <td>20, 64 70</td>\n",
       "      <td>FLORIDA</td>\n",
       "    </tr>\n",
       "    <tr>\n",
       "      <th>...</th>\n",
       "      <td>...</td>\n",
       "      <td>...</td>\n",
       "      <td>...</td>\n",
       "      <td>...</td>\n",
       "    </tr>\n",
       "    <tr>\n",
       "      <th>2005</th>\n",
       "      <td>1161-001</td>\n",
       "      <td>DHAKA 1996-08-31</td>\n",
       "      <td>NaN</td>\n",
       "      <td>DHAKA</td>\n",
       "    </tr>\n",
       "    <tr>\n",
       "      <th>2006</th>\n",
       "      <td>1161-002</td>\n",
       "      <td>Shares on the Dhaka Stock Exchange ( DSE ) may...</td>\n",
       "      <td>the Dhaka Stock Exchange, Friday weekend</td>\n",
       "      <td>Dhaka Stock Exchange, DSE</td>\n",
       "    </tr>\n",
       "    <tr>\n",
       "      <th>2007</th>\n",
       "      <td>1161-005</td>\n",
       "      <td>Broker Khurshid Alam said : \" The market senti...</td>\n",
       "      <td>Broker Khurshid Alam</td>\n",
       "      <td>Khurshid Alam</td>\n",
       "    </tr>\n",
       "    <tr>\n",
       "      <th>2008</th>\n",
       "      <td>1161-007</td>\n",
       "      <td>Brokers said blue chips like IDLC , Bangladesh...</td>\n",
       "      <td>NaN</td>\n",
       "      <td>IDLC</td>\n",
       "    </tr>\n",
       "    <tr>\n",
       "      <th>2010</th>\n",
       "      <td>1161-010</td>\n",
       "      <td>-- Dhaka Newsroom 880-2-506363</td>\n",
       "      <td>-- Dhaka Newsroom 880-2-506363</td>\n",
       "      <td>Dhaka Newsroom</td>\n",
       "    </tr>\n",
       "  </tbody>\n",
       "</table>\n",
       "<p>1133 rows × 4 columns</p>\n",
       "</div>"
      ],
      "text/plain": [
       "     sentence_id                                           sentence  \\\n",
       "150     0958-027                                 CLEVELAND AT TEXAS   \n",
       "151     0958-029                                  BOSTON AT OAKLAND   \n",
       "152     0958-030                               BALTIMORE AT SEATTLE   \n",
       "153     0958-034                             MONTREAL 71 61 .538 12   \n",
       "154     0958-035                              FLORIDA 64 70 .478 20   \n",
       "...          ...                                                ...   \n",
       "2005    1161-001                                   DHAKA 1996-08-31   \n",
       "2006    1161-002  Shares on the Dhaka Stock Exchange ( DSE ) may...   \n",
       "2007    1161-005  Broker Khurshid Alam said : \" The market senti...   \n",
       "2008    1161-007  Brokers said blue chips like IDLC , Bangladesh...   \n",
       "2010    1161-010                     -- Dhaka Newsroom 880-2-506363   \n",
       "\n",
       "                                            FP                         FN  \n",
       "150                                        NaN                  CLEVELAND  \n",
       "151                                        NaN                    OAKLAND  \n",
       "152                                        NaN                    SEATTLE  \n",
       "153                                      71 61                   MONTREAL  \n",
       "154                                  20, 64 70                    FLORIDA  \n",
       "...                                        ...                        ...  \n",
       "2005                                       NaN                      DHAKA  \n",
       "2006  the Dhaka Stock Exchange, Friday weekend  Dhaka Stock Exchange, DSE  \n",
       "2007                      Broker Khurshid Alam              Khurshid Alam  \n",
       "2008                                       NaN                       IDLC  \n",
       "2010            -- Dhaka Newsroom 880-2-506363             Dhaka Newsroom  \n",
       "\n",
       "[1133 rows x 4 columns]"
      ]
     },
     "execution_count": 17,
     "metadata": {},
     "output_type": "execute_result"
    }
   ],
   "source": [
    "error_analysis.loc[error_analysis[\"FN\"].notna(),].loc[150:,:]"
   ]
  },
  {
   "cell_type": "markdown",
   "metadata": {},
   "source": [
    "#### Error analysis and NER improvements\n",
    "\n",
    "1. We observe many FP which are numbers (sometimes in words); words like \"first\", \"second\", etc; years; dates; day of week; amounts of money; quantities of measurements like metres, litres, etc. These are general entities which are identified by Spacy but are not present in our gold standard. By not predicting these false positives, we can improve our prediction quality. This can be easily achieved by ignoring these entities and not including them in our predictions. They have the following labels: \"DATE\", \"TIME\", \"PERCENT\", \"MONEY\", \"ORDINAL\", \"CARDINAL\", \"QUANTITY\" and \"LAW\". This results in a 17.78 percentage points increase in F1 score to 0.7714.\n",
    "2. We see some cases where an entity occurs within quotes or has 's at the end or has \"--\" at the beginning which are included in the span by Spacy but not so in the gold standard. We can specifically check for these cases and adjust the spans accordingly. This results in a further 0.71 percentage points increase in F1 score to 0.7785.\n",
    "3. We also see some false negatives which occur because Spacy includes \"the\" as part of the span of an entity. For example, Spacy predicts \"the Dhaka Stock Exchange\" as an entity but the gold standard contains only \"Dhaka Stock Exchange\". We check if entities start with \"the\" and adjust the span accordingly. This results in a further 2.45 percentage points increase in F1 score to 0.8030."
   ]
  },
  {
   "cell_type": "markdown",
   "metadata": {},
   "source": [
    "Now, use the insights from your error analysis to improve the automated prediction that you implemented in Problem&nbsp;2. While the best way to do this would be to [update spaCy&rsquo;s NER model](https://spacy.io/usage/linguistic-features#updating) using domain-specific training data, for this lab it suffices to write code to pre-process the data and/or post-process the output produced by spaCy. You should be able to improve the F1 score from Problem&nbsp;2 by at last 15 percentage points."
   ]
  },
  {
   "cell_type": "code",
   "execution_count": 126,
   "metadata": {},
   "outputs": [
    {
     "name": "stdout",
     "output_type": "stream",
     "text": [
      "Precision = 0.8971 || Recall = 0.7267 || F1 Score = 0.8030\n"
     ]
    }
   ],
   "source": [
    "import re\n",
    "\n",
    "def get_spacy_ner_2(df):\n",
    "    ner = []\n",
    "    current_sid = \"\"\n",
    "    with nlp.disable_pipes(\"tagger\", \"parser\"):\n",
    "        for i,s_id,sentence,beg,end,label in df.itertuples():\n",
    "            \n",
    "            if s_id != current_sid:\n",
    "                sent_nlp = nlp(sentence)\n",
    "                for ent in sent_nlp.ents:\n",
    "                    if not ent.label_ in [\"DATE\", \"TIME\", \"PERCENT\", \"MONEY\", \"ORDINAL\", \"CARDINAL\", \"QUANTITY\", \"LAW\"]:\n",
    "                        ner_obj = (s_id, ent.start, ent.end)\n",
    "                        \n",
    "                        if ent.text.startswith(\"\\\" \") and ent.text.endswith(\" \\\"\"):\n",
    "                            ner_obj = (ner_obj[0], ner_obj[1]+1, ner_obj[2]-1)\n",
    "                        elif ent.text.startswith(\"\\\" \"):\n",
    "                            ner_obj = (ner_obj[0], ner_obj[1]+1, ner_obj[2])\n",
    "                        elif ent.text.endswith(\" \\\"\"):\n",
    "                            ner_obj = (ner_obj[0], ner_obj[1], ner_obj[2]-1)\n",
    "                        \n",
    "                        if ent.text.endswith(\" \\'s\"):\n",
    "                            ner_obj = (ner_obj[0], ner_obj[1], ner_obj[2]-1)\n",
    "                            \n",
    "                        if ent.text.startswith(\"-- \"):\n",
    "                            ner_obj = (ner_obj[0], ner_obj[1]+1, ner_obj[2])\n",
    "                            \n",
    "                        if ent.text.startswith(\"the \"):\n",
    "                            ner_obj = (ner_obj[0], ner_obj[1]+1, ner_obj[2])\n",
    "                        \n",
    "                        ner.append(ner_obj)\n",
    "                current_sid = s_id\n",
    "    return ner\n",
    "\n",
    "spacy_ner_improved = get_spacy_ner_2(df_dev)\n",
    "evaluation_report(set(gold_spans(df_dev)), spacy_ner_improved)"
   ]
  },
  {
   "cell_type": "markdown",
   "metadata": {},
   "source": [
    "Show that you achieve the performance goal by reporting the evaluation measures that you implemented in Problem&nbsp;1."
   ]
  },
  {
   "cell_type": "markdown",
   "metadata": {},
   "source": [
    "Before going on, we ask you to store the outputs of the improved named entity recognizer on the development data in a new data frame. This new frame should have the same layout as the original data frame for the development data that you loaded above, but should contain the predicted start and end positions for each token span. As the `label` of each span, you can use the special value `--NME--`."
   ]
  },
  {
   "cell_type": "code",
   "execution_count": 105,
   "metadata": {},
   "outputs": [
    {
     "data": {
      "text/plain": [
       "{'--NME--'}"
      ]
     },
     "execution_count": 105,
     "metadata": {},
     "output_type": "execute_result"
    }
   ],
   "source": [
    "set(spacy_imp_spans[\"label\"])"
   ]
  },
  {
   "cell_type": "code",
   "execution_count": 90,
   "metadata": {},
   "outputs": [
    {
     "data": {
      "text/plain": [
       "True"
      ]
     },
     "execution_count": 90,
     "metadata": {},
     "output_type": "execute_result"
    }
   ],
   "source": [
    "\"US\" in unique_kb_mentions"
   ]
  },
  {
   "cell_type": "code",
   "execution_count": 19,
   "metadata": {},
   "outputs": [
    {
     "data": {
      "text/html": [
       "<div>\n",
       "<style scoped>\n",
       "    .dataframe tbody tr th:only-of-type {\n",
       "        vertical-align: middle;\n",
       "    }\n",
       "\n",
       "    .dataframe tbody tr th {\n",
       "        vertical-align: top;\n",
       "    }\n",
       "\n",
       "    .dataframe thead th {\n",
       "        text-align: right;\n",
       "    }\n",
       "</style>\n",
       "<table border=\"1\" class=\"dataframe\">\n",
       "  <thead>\n",
       "    <tr style=\"text-align: right;\">\n",
       "      <th></th>\n",
       "      <th>sentence_id</th>\n",
       "      <th>sentence</th>\n",
       "      <th>beg</th>\n",
       "      <th>end</th>\n",
       "      <th>label</th>\n",
       "    </tr>\n",
       "  </thead>\n",
       "  <tbody>\n",
       "    <tr>\n",
       "      <th>0</th>\n",
       "      <td>0946-000</td>\n",
       "      <td>CRICKET - LEICESTERSHIRE TAKE OVER AT TOP AFTE...</td>\n",
       "      <td>0</td>\n",
       "      <td>3</td>\n",
       "      <td>--NME--</td>\n",
       "    </tr>\n",
       "    <tr>\n",
       "      <th>1</th>\n",
       "      <td>0946-001</td>\n",
       "      <td>LONDON 1996-08-30</td>\n",
       "      <td>0</td>\n",
       "      <td>1</td>\n",
       "      <td>--NME--</td>\n",
       "    </tr>\n",
       "    <tr>\n",
       "      <th>2</th>\n",
       "      <td>0946-002</td>\n",
       "      <td>West Indian all-rounder Phil Simmons took four...</td>\n",
       "      <td>0</td>\n",
       "      <td>2</td>\n",
       "      <td>--NME--</td>\n",
       "    </tr>\n",
       "    <tr>\n",
       "      <th>3</th>\n",
       "      <td>0946-002</td>\n",
       "      <td>West Indian all-rounder Phil Simmons took four...</td>\n",
       "      <td>3</td>\n",
       "      <td>5</td>\n",
       "      <td>--NME--</td>\n",
       "    </tr>\n",
       "    <tr>\n",
       "      <th>4</th>\n",
       "      <td>0946-002</td>\n",
       "      <td>West Indian all-rounder Phil Simmons took four...</td>\n",
       "      <td>12</td>\n",
       "      <td>13</td>\n",
       "      <td>--NME--</td>\n",
       "    </tr>\n",
       "    <tr>\n",
       "      <th>...</th>\n",
       "      <td>...</td>\n",
       "      <td>...</td>\n",
       "      <td>...</td>\n",
       "      <td>...</td>\n",
       "      <td>...</td>\n",
       "    </tr>\n",
       "    <tr>\n",
       "      <th>4788</th>\n",
       "      <td>1161-007</td>\n",
       "      <td>Brokers said blue chips like IDLC , Bangladesh...</td>\n",
       "      <td>7</td>\n",
       "      <td>9</td>\n",
       "      <td>--NME--</td>\n",
       "    </tr>\n",
       "    <tr>\n",
       "      <th>4789</th>\n",
       "      <td>1161-007</td>\n",
       "      <td>Brokers said blue chips like IDLC , Bangladesh...</td>\n",
       "      <td>10</td>\n",
       "      <td>12</td>\n",
       "      <td>--NME--</td>\n",
       "    </tr>\n",
       "    <tr>\n",
       "      <th>4790</th>\n",
       "      <td>1161-007</td>\n",
       "      <td>Brokers said blue chips like IDLC , Bangladesh...</td>\n",
       "      <td>13</td>\n",
       "      <td>15</td>\n",
       "      <td>--NME--</td>\n",
       "    </tr>\n",
       "    <tr>\n",
       "      <th>4791</th>\n",
       "      <td>1161-009</td>\n",
       "      <td>The DSE all share price index closed 2.73 poin...</td>\n",
       "      <td>1</td>\n",
       "      <td>2</td>\n",
       "      <td>--NME--</td>\n",
       "    </tr>\n",
       "    <tr>\n",
       "      <th>4792</th>\n",
       "      <td>1161-010</td>\n",
       "      <td>-- Dhaka Newsroom 880-2-506363</td>\n",
       "      <td>1</td>\n",
       "      <td>4</td>\n",
       "      <td>--NME--</td>\n",
       "    </tr>\n",
       "  </tbody>\n",
       "</table>\n",
       "<p>4793 rows × 5 columns</p>\n",
       "</div>"
      ],
      "text/plain": [
       "     sentence_id                                           sentence  beg  end  \\\n",
       "0       0946-000  CRICKET - LEICESTERSHIRE TAKE OVER AT TOP AFTE...    0    3   \n",
       "1       0946-001                                  LONDON 1996-08-30    0    1   \n",
       "2       0946-002  West Indian all-rounder Phil Simmons took four...    0    2   \n",
       "3       0946-002  West Indian all-rounder Phil Simmons took four...    3    5   \n",
       "4       0946-002  West Indian all-rounder Phil Simmons took four...   12   13   \n",
       "...          ...                                                ...  ...  ...   \n",
       "4788    1161-007  Brokers said blue chips like IDLC , Bangladesh...    7    9   \n",
       "4789    1161-007  Brokers said blue chips like IDLC , Bangladesh...   10   12   \n",
       "4790    1161-007  Brokers said blue chips like IDLC , Bangladesh...   13   15   \n",
       "4791    1161-009  The DSE all share price index closed 2.73 poin...    1    2   \n",
       "4792    1161-010                     -- Dhaka Newsroom 880-2-506363    1    4   \n",
       "\n",
       "        label  \n",
       "0     --NME--  \n",
       "1     --NME--  \n",
       "2     --NME--  \n",
       "3     --NME--  \n",
       "4     --NME--  \n",
       "...       ...  \n",
       "4788  --NME--  \n",
       "4789  --NME--  \n",
       "4790  --NME--  \n",
       "4791  --NME--  \n",
       "4792  --NME--  \n",
       "\n",
       "[4793 rows x 5 columns]"
      ]
     },
     "execution_count": 19,
     "metadata": {},
     "output_type": "execute_result"
    }
   ],
   "source": [
    "# DataFrame of sentences and IDs\n",
    "unique_sent_df = df_dev[[\"sentence_id\",\"sentence\"]].drop_duplicates().set_index('sentence_id')\n",
    "\n",
    "# DataFrame of post-processed Spacy NER predictions\n",
    "spacy_imp_spans = pd.DataFrame(spacy_ner_improved, columns=[\"sentence_id\", \"beg\", \"end\"]).set_index('sentence_id')\n",
    "\n",
    "# Join DataFrames to get DataFrame similar to gold standard\n",
    "spacy_imp_spans = unique_sent_df.join(spacy_imp_spans, how=\"inner\")\n",
    "spacy_imp_spans.reset_index(level=spacy_imp_spans.index.names, inplace=True)\n",
    "spacy_imp_spans[\"label\"] = \"--NME--\"\n",
    "spacy_imp_spans"
   ]
  },
  {
   "cell_type": "markdown",
   "metadata": {},
   "source": [
    "## Problem 4: Entity linking"
   ]
  },
  {
   "cell_type": "markdown",
   "metadata": {},
   "source": [
    "Now that we have a method for predicting mention spans, we turn to the task of **entity linking**, which amounts to predicting the knowledge base entity that is referenced by a given mention. In our case, for each span we want to predict the Wikipedia page that this mention references.\n",
    "\n",
    "Start by extending the generator function that you implemented in Problem&nbsp;2 to labelled spans."
   ]
  },
  {
   "cell_type": "code",
   "execution_count": 20,
   "metadata": {},
   "outputs": [],
   "source": [
    "def gold_mentions(df):\n",
    "    \"\"\"Yield the gold-standard mentions in a data frame.\n",
    "\n",
    "    Args:\n",
    "        df: A data frame.\n",
    "\n",
    "    Yields:\n",
    "        The gold-standard mention spans in the specified data frame as\n",
    "        quadruples consisting of the sentence id, start position, end\n",
    "        position and entity label of each span.\n",
    "    \"\"\"\n",
    "    # TODO: Replace the next line with your own code\n",
    "    for _,s_id,_,beg,end,label in df.itertuples():\n",
    "        yield (s_id, beg, end, label)"
   ]
  },
  {
   "cell_type": "markdown",
   "metadata": {},
   "source": [
    "A naive baseline for entity linking on our data set is to link each mention span to the Wikipedia page name that we get when we join the tokens in the span by underscores, as is standard in Wikipedia page names. Suppose, for example, that a span contains the two tokens\n",
    "\n",
    "    Jimi Hendrix\n",
    "\n",
    "The baseline Wikipedia page name for this span would be\n",
    "\n",
    "    Jimi_Hendrix\n",
    "\n",
    "Implement this naive baseline and evaluate its performance. Print the evaluation measures that you implemented in Problem&nbsp;1."
   ]
  },
  {
   "cell_type": "markdown",
   "metadata": {},
   "source": [
    "<div class=\"alert alert-warning\">\n",
    "    Here and in the remainder of this lab, you should base your entity predictions on the predicted spans that you computed in Problem&nbsp;3.\n",
    "</div>"
   ]
  },
  {
   "cell_type": "code",
   "execution_count": 21,
   "metadata": {},
   "outputs": [],
   "source": [
    "spacy_improved_labels = [(s_id, beg, end, \"_\".join(sent.split()[beg:end])) for \n",
    "                         i,s_id,sent,beg,end,label in spacy_imp_spans.itertuples()]"
   ]
  },
  {
   "cell_type": "code",
   "execution_count": 22,
   "metadata": {},
   "outputs": [
    {
     "name": "stdout",
     "output_type": "stream",
     "text": [
      "Precision = 0.3326 || Recall = 0.2694 || F1 Score = 0.2977\n"
     ]
    }
   ],
   "source": [
    "evaluation_report(set(gold_mentions(df_dev)), spacy_improved_labels)"
   ]
  },
  {
   "cell_type": "markdown",
   "metadata": {},
   "source": [
    "## Problem 5: Extending the training data using the knowledge base"
   ]
  },
  {
   "cell_type": "markdown",
   "metadata": {},
   "source": [
    "State-of-the-art approaches to entity linking exploit information in knowledge bases. In our case, where Wikipedia is the knowledge base, one particularly useful type of information are links to other Wikipedia pages. In particular, we can interpret the anchor texts (the highlighted texts that you click on when you click on a link) as mentions of the entities (pages) that they link to. This allows us to harvest long lists over mention–entity pairings.\n",
    "\n",
    "The following cell loads a data frame summarizing anchor texts and page references harvested from the first paragraphs of the English Wikipedia. The data frame also contains all entity mentions in the training data (but not the development or the test data)."
   ]
  },
  {
   "cell_type": "code",
   "execution_count": 23,
   "metadata": {},
   "outputs": [],
   "source": [
    "with bz2.open(\"kb.tsv.bz2\", 'rt', encoding=\"utf8\") as source:\n",
    "    df_kb = pd.read_csv(source, sep='\\t', quoting=csv.QUOTE_NONE)"
   ]
  },
  {
   "cell_type": "markdown",
   "metadata": {},
   "source": [
    "To understand what information is available in this data, the following cell shows the entry for the anchor text `Sweden`."
   ]
  },
  {
   "cell_type": "code",
   "execution_count": 24,
   "metadata": {},
   "outputs": [
    {
     "data": {
      "text/html": [
       "<div>\n",
       "<style scoped>\n",
       "    .dataframe tbody tr th:only-of-type {\n",
       "        vertical-align: middle;\n",
       "    }\n",
       "\n",
       "    .dataframe tbody tr th {\n",
       "        vertical-align: top;\n",
       "    }\n",
       "\n",
       "    .dataframe thead th {\n",
       "        text-align: right;\n",
       "    }\n",
       "</style>\n",
       "<table border=\"1\" class=\"dataframe\">\n",
       "  <thead>\n",
       "    <tr style=\"text-align: right;\">\n",
       "      <th></th>\n",
       "      <th>mention</th>\n",
       "      <th>entity</th>\n",
       "      <th>prob</th>\n",
       "    </tr>\n",
       "  </thead>\n",
       "  <tbody>\n",
       "    <tr>\n",
       "      <th>17436</th>\n",
       "      <td>Sweden</td>\n",
       "      <td>Sweden</td>\n",
       "      <td>0.985768</td>\n",
       "    </tr>\n",
       "    <tr>\n",
       "      <th>17437</th>\n",
       "      <td>Sweden</td>\n",
       "      <td>Sweden_national_football_team</td>\n",
       "      <td>0.014173</td>\n",
       "    </tr>\n",
       "    <tr>\n",
       "      <th>17438</th>\n",
       "      <td>Sweden</td>\n",
       "      <td>Sweden_men's_national_ice_hockey_team</td>\n",
       "      <td>0.000059</td>\n",
       "    </tr>\n",
       "  </tbody>\n",
       "</table>\n",
       "</div>"
      ],
      "text/plain": [
       "      mention                                 entity      prob\n",
       "17436  Sweden                                 Sweden  0.985768\n",
       "17437  Sweden          Sweden_national_football_team  0.014173\n",
       "17438  Sweden  Sweden_men's_national_ice_hockey_team  0.000059"
      ]
     },
     "execution_count": 24,
     "metadata": {},
     "output_type": "execute_result"
    }
   ],
   "source": [
    "df_kb.loc[df_kb[\"mention\"] == \"Sweden\"]"
   ]
  },
  {
   "cell_type": "markdown",
   "metadata": {},
   "source": [
    "As you can see, each row of the data frame contains a pair $(m, e)$ of a mention $m$ and an entity $e$, as well as the conditional probability $P(e|m)$ for mention $m$ referring to entity $e$. These probabilities were estimated based on the frequencies of mention–entity pairs in the knowledge base. The example shows that the anchor text &lsquo;Sweden&rsquo; is most often used to refer to the entity [Sweden](http://en.wikipedia.org/wiki/Sweden), but in a few cases also to refer to Sweden&rsquo;s national football and ice hockey teams. Note that references are sorted in decreasing order of probability, so that the most probable pairing stands first.\n",
    "\n",
    "Implement an entity linking method that resolves each mention to the most probable entity in the data frame. If the mention is not included in the data frame, you can predict the generic label `--NME--`. Print the precision, recall, and F1 of your method using the function that you implemented for Problem&nbsp;1."
   ]
  },
  {
   "cell_type": "code",
   "execution_count": 25,
   "metadata": {},
   "outputs": [
    {
     "name": "stdout",
     "output_type": "stream",
     "text": [
      "Precision = 0.6914 || Recall = 0.5601 || F1 Score = 0.6189\n"
     ]
    }
   ],
   "source": [
    "# TODO: Write code here to implement the \"most probable entity\" method.\n",
    "def mp_entity(labelled_tuples):\n",
    "    mp_entity_labels = []\n",
    "    for s_id, beg, end, label in labelled_tuples:\n",
    "        # Find entities corresponding to mention\n",
    "        candidate_mentions = df_kb.loc[df_kb[\"mention\"] == label.replace(\"_\", \" \")]\n",
    "        \n",
    "        # Find most probable entity among the candidates\n",
    "        if candidate_mentions.shape[0] == 0:\n",
    "            mpe = \"--NME--\"\n",
    "        else:\n",
    "            mpe = candidate_mentions.reset_index().loc[0, \"entity\"]\n",
    "        mp_entity_labels.append((s_id, beg, end, mpe))\n",
    "    \n",
    "    return mp_entity_labels\n",
    "\n",
    "most_probable_labels = mp_entity(spacy_improved_labels)\n",
    "evaluation_report(set(gold_mentions(df_dev)), most_probable_labels)"
   ]
  },
  {
   "cell_type": "markdown",
   "metadata": {},
   "source": [
    "## Problem 6: Context-sensitive disambiguation"
   ]
  },
  {
   "cell_type": "markdown",
   "metadata": {},
   "source": [
    "Consider the entity mention &lsquo;Lincoln&rsquo;. The most probable entity for this mention turns out to be [Lincoln, Nebraska](http://en.wikipedia.org/Lincoln,_Nebraska); but in pages about American history, we would be better off to predict [Abraham Lincoln](http://en.wikipedia.org/Abraham_Lincoln). This suggests that we should try to disambiguate between different entity references based on the textual context on the page from which the mention was taken. Your task in this last problem is to implement this idea.\n",
    "\n",
    "Set up a dictionary that contains, for each mention $m$ that can refer to more than one entity $e$, a separate Naive Bayes classifier to predict the correct entity $e$, given the textual context of the mention. As the prior probabilities of the classifier, choose the probabilities $P(e|m)$ that you used in Problem&nbsp;5. To let you estimate the context-specific probabilities, we have compiled a data set with mention contexts:"
   ]
  },
  {
   "cell_type": "code",
   "execution_count": 26,
   "metadata": {},
   "outputs": [],
   "source": [
    "with bz2.open(\"contexts.tsv.bz2\") as source:\n",
    "    df_contexts = pd.read_csv(source, sep='\\t', quoting=csv.QUOTE_NONE)"
   ]
  },
  {
   "cell_type": "markdown",
   "metadata": {},
   "source": [
    "This data frame contains, for each ambiguous mention $m$ and each knowledge base entity $e$ to which this mention can refer, up to 100 randomly selected contexts in which $m$ is used to refer to $e$. For this data, a **context** is defined as a bag of words containing the mention itself, as well as the 5 tokens to the left and the 5 tokens to the right of the mention. Here are a few examples:"
   ]
  },
  {
   "cell_type": "code",
   "execution_count": 27,
   "metadata": {},
   "outputs": [
    {
     "data": {
      "text/html": [
       "<div>\n",
       "<style scoped>\n",
       "    .dataframe tbody tr th:only-of-type {\n",
       "        vertical-align: middle;\n",
       "    }\n",
       "\n",
       "    .dataframe tbody tr th {\n",
       "        vertical-align: top;\n",
       "    }\n",
       "\n",
       "    .dataframe thead th {\n",
       "        text-align: right;\n",
       "    }\n",
       "</style>\n",
       "<table border=\"1\" class=\"dataframe\">\n",
       "  <thead>\n",
       "    <tr style=\"text-align: right;\">\n",
       "      <th></th>\n",
       "      <th>mention</th>\n",
       "      <th>entity</th>\n",
       "      <th>context</th>\n",
       "    </tr>\n",
       "  </thead>\n",
       "  <tbody>\n",
       "    <tr>\n",
       "      <th>0</th>\n",
       "      <td>1970</td>\n",
       "      <td>UEFA_Champions_League</td>\n",
       "      <td>Cup twice the first in 1970 and the second in ...</td>\n",
       "    </tr>\n",
       "    <tr>\n",
       "      <th>1</th>\n",
       "      <td>1970</td>\n",
       "      <td>FIFA_World_Cup</td>\n",
       "      <td>America 1975 and during the 1970 and 1978 Worl...</td>\n",
       "    </tr>\n",
       "    <tr>\n",
       "      <th>2</th>\n",
       "      <td>1990 World Cup</td>\n",
       "      <td>1990_FIFA_World_Cup</td>\n",
       "      <td>Manolo represented Spain at the 1990 World Cup</td>\n",
       "    </tr>\n",
       "    <tr>\n",
       "      <th>3</th>\n",
       "      <td>1990 World Cup</td>\n",
       "      <td>1990_FIFA_World_Cup</td>\n",
       "      <td>Hašek represented Czechoslovakia at the 1990 W...</td>\n",
       "    </tr>\n",
       "    <tr>\n",
       "      <th>4</th>\n",
       "      <td>1990 World Cup</td>\n",
       "      <td>1990_FIFA_World_Cup</td>\n",
       "      <td>renovations in 1989 for the 1990 World Cup The...</td>\n",
       "    </tr>\n",
       "  </tbody>\n",
       "</table>\n",
       "</div>"
      ],
      "text/plain": [
       "          mention                 entity  \\\n",
       "0            1970  UEFA_Champions_League   \n",
       "1            1970         FIFA_World_Cup   \n",
       "2  1990 World Cup    1990_FIFA_World_Cup   \n",
       "3  1990 World Cup    1990_FIFA_World_Cup   \n",
       "4  1990 World Cup    1990_FIFA_World_Cup   \n",
       "\n",
       "                                             context  \n",
       "0  Cup twice the first in 1970 and the second in ...  \n",
       "1  America 1975 and during the 1970 and 1978 Worl...  \n",
       "2     Manolo represented Spain at the 1990 World Cup  \n",
       "3  Hašek represented Czechoslovakia at the 1990 W...  \n",
       "4  renovations in 1989 for the 1990 World Cup The...  "
      ]
     },
     "execution_count": 27,
     "metadata": {},
     "output_type": "execute_result"
    }
   ],
   "source": [
    "df_contexts.head()"
   ]
  },
  {
   "cell_type": "code",
   "execution_count": 28,
   "metadata": {},
   "outputs": [
    {
     "data": {
      "text/html": [
       "<div>\n",
       "<style scoped>\n",
       "    .dataframe tbody tr th:only-of-type {\n",
       "        vertical-align: middle;\n",
       "    }\n",
       "\n",
       "    .dataframe tbody tr th {\n",
       "        vertical-align: top;\n",
       "    }\n",
       "\n",
       "    .dataframe thead th {\n",
       "        text-align: right;\n",
       "    }\n",
       "</style>\n",
       "<table border=\"1\" class=\"dataframe\">\n",
       "  <thead>\n",
       "    <tr style=\"text-align: right;\">\n",
       "      <th></th>\n",
       "      <th>mention</th>\n",
       "      <th>entity</th>\n",
       "      <th>prob</th>\n",
       "    </tr>\n",
       "  </thead>\n",
       "  <tbody>\n",
       "    <tr>\n",
       "      <th>10559</th>\n",
       "      <td>Lincoln</td>\n",
       "      <td>Lincoln,_Nebraska</td>\n",
       "      <td>0.748718</td>\n",
       "    </tr>\n",
       "    <tr>\n",
       "      <th>10560</th>\n",
       "      <td>Lincoln</td>\n",
       "      <td>Abraham_Lincoln</td>\n",
       "      <td>0.220513</td>\n",
       "    </tr>\n",
       "    <tr>\n",
       "      <th>10561</th>\n",
       "      <td>Lincoln</td>\n",
       "      <td>Lincoln_City_F.C.</td>\n",
       "      <td>0.030769</td>\n",
       "    </tr>\n",
       "  </tbody>\n",
       "</table>\n",
       "</div>"
      ],
      "text/plain": [
       "       mention             entity      prob\n",
       "10559  Lincoln  Lincoln,_Nebraska  0.748718\n",
       "10560  Lincoln    Abraham_Lincoln  0.220513\n",
       "10561  Lincoln  Lincoln_City_F.C.  0.030769"
      ]
     },
     "execution_count": 28,
     "metadata": {},
     "output_type": "execute_result"
    }
   ],
   "source": [
    "df_kb.loc[df_kb[\"mention\"] == \"Lincoln\"]"
   ]
  },
  {
   "cell_type": "markdown",
   "metadata": {},
   "source": [
    "From this data frame, it is easy to select the data that you need to train the classifiers – the contexts and corresponding entities for all mentions. To illustrate this, the following cell shows how to select all contexts that belong to the mention &lsquo;Lincoln&rsquo;:"
   ]
  },
  {
   "cell_type": "code",
   "execution_count": 29,
   "metadata": {},
   "outputs": [
    {
     "data": {
      "text/plain": [
       "41465    Nebraska Concealed Handgun Permit In Lincoln m...\n",
       "41466    Lazlo restaurants are located in Lincoln and O...\n",
       "41467    California Washington Overland Park Kansas Lin...\n",
       "41468    City Missouri Omaha Nebraska and Lincoln Nebra...\n",
       "41469    by Sandhills Publishing Company in Lincoln Neb...\n",
       "                               ...                        \n",
       "41609                                Lincoln Leyton Orient\n",
       "41610               English division three Swansea Lincoln\n",
       "41611    league membership narrowly edging out Lincoln ...\n",
       "41612                                    Lincoln Cambridge\n",
       "41613                                              Lincoln\n",
       "Name: context, Length: 149, dtype: object"
      ]
     },
     "execution_count": 29,
     "metadata": {},
     "output_type": "execute_result"
    }
   ],
   "source": [
    "df_contexts.context[df_contexts.mention == \"Lincoln\"]"
   ]
  },
  {
   "cell_type": "markdown",
   "metadata": {},
   "source": [
    "Implement the context-sensitive disambiguation method and evaluate its performance. Here are some more hints that may help you along the way:\n",
    "\n",
    "**Hint 1:** The prior probabilities for a Naive Bayes classifier can be specified using the `class_prior` option. You will have to provide the probabilities in the same order as the alphabetically sorted class (entity) names.\n",
    "\n",
    "**Hint 2:** To tune the performance of your method, you can try to tweak the behaviour of the vectorizer (for example, should it apply lowercasing or not?) and the width of the window from which you are extracting context tokens at prediction time.\n",
    "\n",
    "**Hint 3:** Not all mentions in the knowledge base are ambiguous, and therefore not all mentions have context data. If a mention has only one possible entity, pick that one. If a mention has no entity at all, predict the `--NME--` label."
   ]
  },
  {
   "cell_type": "code",
   "execution_count": 80,
   "metadata": {},
   "outputs": [],
   "source": [
    "from sklearn.naive_bayes import MultinomialNB\n",
    "from sklearn.feature_extraction.text import CountVectorizer\n",
    "from sklearn.pipeline import Pipeline\n",
    "from sklearn.base import clone\n",
    "from collections import Counter\n",
    "\n",
    "# MultinomialNaiveBayes model pipeline\n",
    "# binary=True, alpha=0.5 options led to slightly better results\n",
    "cnt_vectorizer = CountVectorizer(lowercase=False, binary=True)\n",
    "mnb = MultinomialNB(alpha=0.5)\n",
    "mnb_pipeline = Pipeline([(\"cnt_vectorizer\", cnt_vectorizer), (\"mnb\", mnb)])\n",
    "\n",
    "mnb_model_dict = {}\n",
    "\n",
    "# Count of entities associated with each mention\n",
    "kb_mentions_counter = Counter(df_kb[\"mention\"])\n",
    "\n",
    "# Mentions to store in dictionary\n",
    "unique_spacy_mentions = set([label.replace(\"_\", \" \") for _, _, _, label in spacy_improved_labels])\n",
    "\n",
    "for mention in unique_spacy_mentions:\n",
    "    if kb_mentions_counter[mention]>1:       # Mention contains multiple associated entities\n",
    "        # Extract entities and contexts corresponding to the mention\n",
    "        candidate_entities = df_kb.loc[df_kb[\"mention\"] == mention]\n",
    "        contexts_mentions = df_contexts.loc[df_contexts.mention == mention]\n",
    "        \n",
    "        # Class priors sorted in alphabetical order of entities\n",
    "        class_order = np.argsort(candidate_entities[\"entity\"]).values\n",
    "        sorted_class_priors = candidate_entities[\"prob\"].values[class_order]\n",
    "        \n",
    "        # Create model using contexts corresponding to the mention\n",
    "        mnb_model_dict[mention] = clone(mnb_pipeline).set_params(mnb__class_prior=sorted_class_priors)\n",
    "        mnb_model_dict[mention].fit(contexts_mentions[\"context\"], contexts_mentions[\"entity\"])\n",
    "        \n",
    "    elif kb_mentions_counter[mention]==1:    # Mention contains only one associated entity\n",
    "        candidate_entities = df_kb.loc[df_kb[\"mention\"] == mention]\n",
    "        mnb_model_dict[mention] = candidate_entities.reset_index().loc[0, \"entity\"]\n",
    "        \n",
    "    elif kb_mentions_counter[mention]==0:    # Mention contains no associated entity\n",
    "        mnb_model_dict[mention] = \"--NME--\""
   ]
  },
  {
   "cell_type": "code",
   "execution_count": 81,
   "metadata": {},
   "outputs": [],
   "source": [
    "# Function to disambiguate mentions and link to entities using a MultinomialNaiveBayes model\n",
    "def context_sensitive_disambiguate(df, labelled_tuples, df_kb, df_contexts):\n",
    "    disamb_entity_labels = []\n",
    "    \n",
    "    # Create a sentence dictionary\n",
    "    sentence_dict = {}\n",
    "    for i,s_id,sentence,beg,end,label in df.itertuples():\n",
    "        if s_id not in sentence_dict:\n",
    "            sentence_dict[s_id] = sentence.split()\n",
    "    \n",
    "    for s_id, beg, end, label in labelled_tuples:\n",
    "        mention = label.replace(\"_\", \" \")\n",
    "        if isinstance(mnb_model_dict[mention], str):\n",
    "            disamb_entity = mnb_model_dict[mention]\n",
    "        else:\n",
    "            context = \" \".join(sentence_dict[s_id][max(0, beg-5):min(len(sentence_dict[s_id]), end+5)])\n",
    "            disamb_entity = mnb_model_dict[mention].predict([context])[0]\n",
    "        \n",
    "        disamb_entity_labels.append((s_id, beg, end, disamb_entity))\n",
    "    \n",
    "    return disamb_entity_labels\n",
    "\n",
    "csd_labels = context_sensitive_disambiguate(df_dev, spacy_improved_labels, df_kb, df_contexts)"
   ]
  },
  {
   "cell_type": "code",
   "execution_count": 82,
   "metadata": {},
   "outputs": [
    {
     "name": "stdout",
     "output_type": "stream",
     "text": [
      "Precision = 0.7087 || Recall = 0.5741 || F1 Score = 0.6344\n"
     ]
    }
   ],
   "source": [
    "evaluation_report(set(gold_mentions(df_dev)), csd_labels)"
   ]
  },
  {
   "cell_type": "markdown",
   "metadata": {},
   "source": [
    "You should expect to see a small (around 1&nbsp;unit) increase in both precision, recall, and F1. Published systems report a larger impact of context-sensitive disambiguation. Feel free to think about what could explain the relatively minor impact that we see here!"
   ]
  },
  {
   "cell_type": "markdown",
   "metadata": {},
   "source": [
    "We see only 1.55 percentage point improvement in F1 score. We think that this maybe because of the amount of data that we use to disambiguate. We have very less data for each mention to train a multinomial naive bayes classifier. Maybe a discriminative model might work better with such less amount of data. Also, the words which help in disambiguation might occur outside the 5 word boundary that we are considering here. "
   ]
  },
  {
   "cell_type": "markdown",
   "metadata": {},
   "source": [
    "**This was the last lab in the Text Mining course. Well done!**"
   ]
  },
  {
   "cell_type": "markdown",
   "metadata": {},
   "source": [
    "<div class=\"alert alert-info\">\n",
    "    Please read the section ‘General information’ on the ‘Labs’ page of the course website before submitting this notebook!\n",
    "</div>"
   ]
  }
 ],
 "metadata": {
  "kernelspec": {
   "display_name": "Python 3",
   "language": "python",
   "name": "python3"
  },
  "language_info": {
   "codemirror_mode": {
    "name": "ipython",
    "version": 3
   },
   "file_extension": ".py",
   "mimetype": "text/x-python",
   "name": "python",
   "nbconvert_exporter": "python",
   "pygments_lexer": "ipython3",
   "version": "3.6.9"
  }
 },
 "nbformat": 4,
 "nbformat_minor": 4
}
