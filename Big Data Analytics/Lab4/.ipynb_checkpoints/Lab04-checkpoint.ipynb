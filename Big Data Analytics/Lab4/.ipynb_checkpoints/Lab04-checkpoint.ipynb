{
 "cells": [
  {
   "cell_type": "code",
   "execution_count": 1,
   "metadata": {},
   "outputs": [],
   "source": [
    "# Importing modules\n",
    "from __future__ import division\n",
    "from math import radians, cos, sin, asin, sqrt, exp\n",
    "from datetime import datetime\n",
    "from pyspark import SparkContext"
   ]
  },
  {
   "cell_type": "code",
   "execution_count": 2,
   "metadata": {},
   "outputs": [],
   "source": [
    "# Crreating Context\n",
    "sc = SparkContext(appName=\"lab_kernel\")"
   ]
  },
  {
   "cell_type": "code",
   "execution_count": 3,
   "metadata": {},
   "outputs": [],
   "source": [
    "# Getting data from external sources and splited each line to words\n",
    "tempreture_readings = sc.textFile(\"short_temp.csv\")\n",
    "temp = tempreture_readings.map(lambda line: line.split(';'))\n",
    "\n",
    "stations = sc.textFile('stations.csv')\n",
    "stat = stations.map(lambda x: x.split(';'))"
   ]
  },
  {
   "cell_type": "code",
   "execution_count": 4,
   "metadata": {},
   "outputs": [],
   "source": [
    "# Distance function (In km)\n",
    "def haversine(lon1, lat1, lon2, lat2):\n",
    "    \"\"\"\n",
    "    Calculate the great circle distance between two points\n",
    "    on the earth (specified in decimal degrees)\n",
    "    \"\"\"\n",
    "    # convert decimal degrees to radians\n",
    "    lon1, lat1, lon2, lat2 = map(radians, [lon1, lat1, lon2, lat2])\n",
    "    # haversine formula\n",
    "    dlon = lon2 - lon1\n",
    "    dlat = lat2 - lat1\n",
    "    a = sin(dlat/2)**2 + cos(lat1) * cos(lat2) * sin(dlon/2)**2\n",
    "    c = 2 * asin(sqrt(a))\n",
    "    km = 6367 * c\n",
    "    return km"
   ]
  },
  {
   "cell_type": "code",
   "execution_count": 5,
   "metadata": {},
   "outputs": [],
   "source": [
    "# datediff function (In days)\n",
    "def datediff(date1,date2):\n",
    "    date_format = \"%Y-%m-%d\"\n",
    "    a = datetime.strptime(date1, date_format)\n",
    "    b = datetime.strptime(date2, date_format)\n",
    "    delta = b - a\n",
    "    return delta.days "
   ]
  },
  {
   "cell_type": "code",
   "execution_count": 92,
   "metadata": {},
   "outputs": [],
   "source": [
    "# timediff function (In hours); time2 in a tuple\n",
    "def timediff(time1,time2):\n",
    "    time_format = \"%H:%M:%S\"\n",
    "    a = datetime.strptime(time1, time_format)\n",
    "    b = [datetime.strptime(t, time_format) for t in time2]\n",
    "    delta = [elem-a for elem in b]\n",
    "    return [elem.seconds/3600 for elem in delta]"
   ]
  },
  {
   "cell_type": "code",
   "execution_count": 97,
   "metadata": {},
   "outputs": [
    {
     "data": {
      "text/plain": [
       "[21.0, 23.0, 1.0]"
      ]
     },
     "execution_count": 97,
     "metadata": {},
     "output_type": "execute_result"
    }
   ],
   "source": [
    "time2 = ['04:00:00','06:00:00','08:00:00']\n",
    "time1 = '07:00:00'\n",
    "timediff(time1, time2)\n",
    "#print(list(map(timediff,time2,time1)))"
   ]
  },
  {
   "cell_type": "code",
   "execution_count": 7,
   "metadata": {},
   "outputs": [],
   "source": [
    "# Smoothing factors\n",
    "h_distance = 1000\n",
    "h_date = 4\n",
    "h_time = 3"
   ]
  },
  {
   "cell_type": "code",
   "execution_count": 8,
   "metadata": {},
   "outputs": [],
   "source": [
    "# Input\n",
    "a = 58.4274 \n",
    "b = 14.826 \n",
    "date = \"2013-07-04\" \n",
    "times = ['04:00:00','06:00:00','08:00:00']\n",
    "for i in range(10,26,2):\n",
    "    times.append('{}:00:00'.format(i))\n",
    "        \n",
    "# Create RDD for the input\n",
    "input_map = map(lambda x: (x,(date,a,b)) ,times)\n",
    "input_RDD = sc.parallelize(input_map)"
   ]
  },
  {
   "cell_type": "code",
   "execution_count": 33,
   "metadata": {},
   "outputs": [],
   "source": [
    "# Extracting Key-Value pairs\n",
    "station_KeyValue = stat.map(lambda x: (x[0],(x[3],x[4])))\n",
    "\n",
    "temp_KeyValue = temp.map(lambda x: ((x[0],x[1],x[2]),x[3]))\n",
    "# Filtering Dataset based on date\n",
    "temp_KeyValue_filtered = temp_KeyValue.filter(lambda x: x[0][1] < date)"
   ]
  },
  {
   "cell_type": "code",
   "execution_count": 36,
   "metadata": {},
   "outputs": [],
   "source": [
    "# We will not join but broadcast the station dataset (small) on the temperature (big)\n",
    "# We will create a copy on each node \n",
    "stat_map = station_KeyValue.collectAsMap()\n",
    "stat_broad = sc.broadcast(stat_map)"
   ]
  },
  {
   "cell_type": "code",
   "execution_count": 51,
   "metadata": {},
   "outputs": [],
   "source": [
    "# Make a join with broadcasting\n",
    "join_broad = temp_KeyValue_filtered.map(lambda t: (t[0], stat_broad.value.get(t[0][0], '-'), t[1]))"
   ]
  },
  {
   "cell_type": "code",
   "execution_count": 52,
   "metadata": {},
   "outputs": [
    {
     "data": {
      "text/plain": [
       "[(('102190', '1955-09-01', '06:00:00'), ('60.3097', '12.6959'), '14.5'),\n",
       " (('102190', '1955-09-01', '12:00:00'), ('60.3097', '12.6959'), '19.8'),\n",
       " (('102190', '1955-09-01', '18:00:00'), ('60.3097', '12.6959'), '15.2'),\n",
       " (('102190', '1955-09-02', '06:00:00'), ('60.3097', '12.6959'), '11.6'),\n",
       " (('102190', '1955-09-02', '12:00:00'), ('60.3097', '12.6959'), '15.8')]"
      ]
     },
     "execution_count": 52,
     "metadata": {},
     "output_type": "execute_result"
    }
   ],
   "source": [
    "join_broad.take(5)"
   ]
  },
  {
   "cell_type": "code",
   "execution_count": 55,
   "metadata": {},
   "outputs": [
    {
     "data": {
      "text/plain": [
       "[('04:00:00', ('2013-07-04', 58.4274, 14.826)),\n",
       " ('06:00:00', ('2013-07-04', 58.4274, 14.826))]"
      ]
     },
     "execution_count": 55,
     "metadata": {},
     "output_type": "execute_result"
    }
   ],
   "source": [
    "input_RDD.take(2)"
   ]
  },
  {
   "cell_type": "code",
   "execution_count": 60,
   "metadata": {},
   "outputs": [
    {
     "ename": "TypeError",
     "evalue": "'RDD' object does not support indexing",
     "output_type": "error",
     "traceback": [
      "\u001b[0;31m---------------------------------------------------------------------------\u001b[0m",
      "\u001b[0;31mTypeError\u001b[0m                                 Traceback (most recent call last)",
      "\u001b[0;32m<ipython-input-60-6949738fda6d>\u001b[0m in \u001b[0;36m<module>\u001b[0;34m\u001b[0m\n\u001b[0;32m----> 1\u001b[0;31m \u001b[0minput_RDD\u001b[0m\u001b[0;34m[\u001b[0m\u001b[0;36m1\u001b[0m\u001b[0;34m]\u001b[0m\u001b[0;34m[\u001b[0m\u001b[0;36m1\u001b[0m\u001b[0;34m]\u001b[0m\u001b[0;34m\u001b[0m\u001b[0;34m\u001b[0m\u001b[0m\n\u001b[0m",
      "\u001b[0;31mTypeError\u001b[0m: 'RDD' object does not support indexing"
     ]
    }
   ],
   "source": [
    "input_RDD[1][1]"
   ]
  },
  {
   "cell_type": "code",
   "execution_count": 62,
   "metadata": {},
   "outputs": [],
   "source": [
    "# Distance Kernel\n",
    "def kernel_dist(data, a, b):\n",
    "    return data.map(lambda x: (x[0], exp(-1*(haversine(float(x[1][0]),float(x[1][1]),a,b)/h_distance)**2)))\n",
    "\n",
    "# Date kernel\n",
    "def kernel_date(data, date):\n",
    "    return data.map(lambda x: (x[0], exp(-1*(datediff(x[0][1],date)/h_date)**2)))\n",
    "\n",
    "# Time Kernel\n",
    "# -- Function\n",
    "def kernel_time(data, input_RDD):\n",
    "    temp_KeyValue_filtered = data.filter(lambda x: x[0][2] < input_RDD[0])\n",
    "    return temp_KeyValue_filtered.map(lambda x: (x[0], exp(-1*(timediff(x[0][2],input_RDD[0])/h_time)**2)))"
   ]
  },
  {
   "cell_type": "code",
   "execution_count": null,
   "metadata": {},
   "outputs": [],
   "source": []
  },
  {
   "cell_type": "code",
   "execution_count": 57,
   "metadata": {},
   "outputs": [],
   "source": [
    "# Combine the kernels: sum\n",
    "def kernel_sum(kernel1, kernel2, kernel3):\n",
    "    return kernel1+kernel2+kernel3\n",
    "\n",
    "# Combine the kernels: product\n",
    "def kernel_prod(kernel1, kernel2, kernel3):\n",
    "    return kernel1*kernel2*kernel3"
   ]
  },
  {
   "cell_type": "code",
   "execution_count": 63,
   "metadata": {},
   "outputs": [],
   "source": [
    "# Compute the kernels:\n",
    "kern_dist = kernel_dist(join_broad, a, b)\n",
    "kern_date = kernel_dist(join_broad, date)"
   ]
  },
  {
   "cell_type": "code",
   "execution_count": 64,
   "metadata": {},
   "outputs": [
    {
     "data": {
      "text/plain": [
       "[(('102190', '1955-09-01', '06:00:00'), 0.9072824587256415),\n",
       " (('102190', '1955-09-01', '12:00:00'), 0.9072824587256415),\n",
       " (('102190', '1955-09-01', '18:00:00'), 0.9072824587256415),\n",
       " (('102190', '1955-09-02', '06:00:00'), 0.9072824587256415),\n",
       " (('102190', '1955-09-02', '12:00:00'), 0.9072824587256415),\n",
       " (('102190', '1955-09-02', '18:00:00'), 0.9072824587256415),\n",
       " (('102190', '1955-09-03', '06:00:00'), 0.9072824587256415),\n",
       " (('102190', '1955-09-03', '12:00:00'), 0.9072824587256415),\n",
       " (('102190', '1955-09-03', '18:00:00'), 0.9072824587256415),\n",
       " (('102190', '1955-09-04', '06:00:00'), 0.9072824587256415)]"
      ]
     },
     "execution_count": 64,
     "metadata": {},
     "output_type": "execute_result"
    }
   ],
   "source": [
    "kern_dist.take(10)"
   ]
  }
 ],
 "metadata": {
  "kernelspec": {
   "display_name": "Python 3",
   "language": "python",
   "name": "python3"
  },
  "language_info": {
   "codemirror_mode": {
    "name": "ipython",
    "version": 3
   },
   "file_extension": ".py",
   "mimetype": "text/x-python",
   "name": "python",
   "nbconvert_exporter": "python",
   "pygments_lexer": "ipython3",
   "version": "3.7.1"
  }
 },
 "nbformat": 4,
 "nbformat_minor": 2
}
