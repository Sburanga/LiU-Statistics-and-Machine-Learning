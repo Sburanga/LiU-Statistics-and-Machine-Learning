{
 "cells": [
  {
   "cell_type": "code",
   "execution_count": null,
   "metadata": {},
   "outputs": [],
   "source": [
    "# Stations in Ostergotland\n",
    "stations = stations_ostergotland.select('StationNO').distinct()\n",
    "\n",
    "# Selecting needed columns and filtering based on year\n",
    "monthly_precipitation = precipitation_readings.select('StationNO','Year','Month','precipitation')\n",
    "monthly_precipitation = monthly_precipitation.filter(\n",
    "    (monthly_precipitation.Year >= 1993) & (monthly_precipitation.Year <= 2016))\n",
    "\n",
    "# Joining stations and monthly_precipitation to get the monthly_precipitation of stations inOstergotland\n",
    "monthly_precipitation_filtered = monthly_precipitation.join(\n",
    "    stations, on = 'StationNO', how = 'inner').select('Year','Month','precipitation')\n",
    "\n",
    "# Monthly average and ordering based on year and then month\n",
    "result = monthly_precipitation_filtered.groupBy('Year','Month').agg(\n",
    "    avg(col('precipitation'))).orderBy('Year','Month',ascending = False)"
   ]
  }
 ],
 "metadata": {
  "kernelspec": {
   "display_name": "Python 3",
   "language": "python",
   "name": "python3"
  },
  "language_info": {
   "codemirror_mode": {
    "name": "ipython",
    "version": 3
   },
   "file_extension": ".py",
   "mimetype": "text/x-python",
   "name": "python",
   "nbconvert_exporter": "python",
   "pygments_lexer": "ipython3",
   "version": "3.7.1"
  }
 },
 "nbformat": 4,
 "nbformat_minor": 2
}
