{
 "cells": [
  {
   "cell_type": "code",
   "execution_count": 1,
   "metadata": {},
   "outputs": [],
   "source": [
    "# Creating Context\n",
    "from pyspark import SparkContext\n",
    "sc = SparkContext(appName= 'lab03')"
   ]
  },
  {
   "cell_type": "code",
   "execution_count": 2,
   "metadata": {},
   "outputs": [],
   "source": [
    "# Creating Session\n",
    "from pyspark.sql import SparkSession, SQLContext\n",
    "spark = SparkSession.builder.getOrCreate()\n",
    "#spark = SQLContext(sc)"
   ]
  },
  {
   "cell_type": "code",
   "execution_count": 3,
   "metadata": {},
   "outputs": [],
   "source": [
    "# Importing Data\n",
    "############ tempreture_readings ############\n",
    "from pyspark.sql.types import StructField,IntegerType, DateType,StringType,StructType,FloatType\n",
    "newDF_temp =[StructField('StationNO',IntegerType(),True),\n",
    "       StructField('date',DateType(),True),\n",
    "       StructField('time',StringType(),True),\n",
    "       StructField('temp',FloatType(),True),\n",
    "       StructField('quality',StringType(),True)\n",
    "       ]\n",
    "finalStruct_temp =StructType(fields=newDF_temp)\n",
    "tempreture_readings = spark.read.csv(\"short_temp.csv\",header=False,sep = ';' ,schema = finalStruct_temp)\n",
    "\n",
    "\n",
    "############ precipitation_readings ############\n",
    "newDF_per =[StructField('StationNO',IntegerType(),True),\n",
    "       StructField('date',DateType(),True),\n",
    "       StructField('time',StringType(),True),\n",
    "       StructField('precipitation',FloatType(),True),\n",
    "       StructField('quality',StringType(),True)\n",
    "       ]\n",
    "finalStruct_per =StructType(fields=newDF_per)\n",
    "precipitation_readings = spark.read.csv(\"precipitation-readings.csv\",header=False,sep = ';' ,schema = finalStruct_per)\n",
    "\n",
    "\n",
    "############ stations_ostergotland ############\n",
    "newDF_station =[StructField('StationNO',IntegerType(),True),\n",
    "       StructField('StationName',StringType(),True),\n",
    "       StructField('height',FloatType(),True),\n",
    "       StructField('lat',FloatType(),True),\n",
    "       StructField('long',FloatType(),True),\n",
    "       StructField('fromDate',DateType(),True),\n",
    "       StructField('toDate',DateType(),True),\n",
    "       StructField('elevation',StringType(),True)\n",
    "       ]\n",
    "finalStruct_station =StructType(fields=newDF_station)\n",
    "stations_ostergotland = spark.read.csv(\"stations-Ostergotland.csv\",header=False,sep = ';', schema = finalStruct_station)"
   ]
  },
  {
   "cell_type": "code",
   "execution_count": 4,
   "metadata": {},
   "outputs": [],
   "source": [
    "# Creating Year, Month and Day columns\n",
    "from pyspark.sql.functions import year, month, dayofmonth\n",
    "\n",
    "tempreture_readings = tempreture_readings.withColumn('Year', year('date'))\n",
    "tempreture_readings = tempreture_readings.withColumn('Month', month('date'))\n",
    "tempreture_readings = tempreture_readings.withColumn('day', dayofmonth('date'))\n",
    "\n",
    "\n",
    "precipitation_readings = precipitation_readings.withColumn('Year', year('date'))\n",
    "precipitation_readings = precipitation_readings.withColumn('Month', month('date'))\n",
    "precipitation_readings = precipitation_readings.withColumn('day', dayofmonth('date'))"
   ]
  },
  {
   "cell_type": "markdown",
   "metadata": {},
   "source": [
    "Question 1"
   ]
  },
  {
   "cell_type": "code",
   "execution_count": 5,
   "metadata": {},
   "outputs": [],
   "source": [
    "############ Max temp in each year ordered by max(temp) ############\n",
    "Year_maxTemp = tempreture_readings.select('Year','temp').filter(\n",
    "     # Filter based on the year\n",
    "    (tempreture_readings.Year>= 1950) & (tempreture_readings.Year <= 2014)).groupBy(\n",
    "     # Group by station and Year\n",
    "     'Year').max(\n",
    "     # Max of temp\n",
    "    'temp').orderBy('max(temp)',ascending = False)\n",
    "\n",
    "\n",
    "############ Min temp in each year ordered by min(temp) ############\n",
    "Year_minTemp = tempreture_readings.select('Year','temp').filter(\n",
    "     # Filter based on the year\n",
    "    (tempreture_readings.Year>= 1950) & (tempreture_readings.Year <= 2014)).groupBy(\n",
    "     # Group by station and Year\n",
    "    'Year').min(\n",
    "     # Min of temp\n",
    "    'temp').orderBy('min(temp)',ascending = False)\n"
   ]
  },
  {
   "cell_type": "markdown",
   "metadata": {},
   "source": [
    "Question 1 part a"
   ]
  },
  {
   "cell_type": "code",
   "execution_count": 6,
   "metadata": {},
   "outputs": [],
   "source": [
    "############ Stations with Max temp in each year ordered by max(temp) ############\n",
    "Year_maxTemp = tempreture_readings.select('Year','temp').filter(\n",
    "     # Filter based on the year\n",
    "    (tempreture_readings.Year>= 1950) & (tempreture_readings.Year <= 2014)).groupBy(\n",
    "     # Group by station and Year\n",
    "     'Year').max(\n",
    "     # Max of temp\n",
    "    'temp').orderBy('max(temp)',ascending = False)\n",
    "\n",
    "# Changing the column name\n",
    "Year_maxTemp = Year_maxTemp.withColumnRenamed('max(temp)','temp')\n",
    "\n",
    "# Station - Year - Temp dataframe\n",
    "station_year_temp = tempreture_readings.select('stationNO','Year','temp').filter(\n",
    "    (tempreture_readings.Year>= 1950) & (tempreture_readings.Year <= 2014))\n",
    "\n",
    "# Joining Year_maxTemp and station_year_temp to add the Station to the Year_maxTemp\n",
    "Station_Year_maxTemp = Year_maxTemp.join(station_year_temp, ['Year','temp'],'left').orderBy(\n",
    "    'temp',ascending = False).distinct()\n",
    "\n",
    "\n",
    "############ Stations with Min temp in each year ordered by min(temp) ############\n",
    "Year_minTemp = tempreture_readings.select('Year','temp').filter(\n",
    "     # Filter based on the year\n",
    "    (tempreture_readings.Year>= 1950) & (tempreture_readings.Year <= 2014)).groupBy(\n",
    "     # Group by station and Year\n",
    "     'Year').min(\n",
    "     # Max of temp\n",
    "    'temp').orderBy('min(temp)',ascending = False)\n",
    "\n",
    "# Changing the column name\n",
    "Year_minTemp = Year_minTemp.withColumnRenamed('min(temp)','temp')\n",
    "\n",
    "# Station - Year - Temp dataframe\n",
    "station_year_temp = tempreture_readings.select('stationNO','Year','temp').filter(\n",
    "    (tempreture_readings.Year>= 1950) & (tempreture_readings.Year <= 2014))\n",
    "\n",
    "# Joining Year_maxTemp and station_year_temp to add the Station to the Year_maxTemp\n",
    "Station_Year_minTemp = Year_minTemp.join(station_year_temp, ['Year','temp'],'left').orderBy(\n",
    "    'temp',ascending = False).distinct()\n"
   ]
  },
  {
   "cell_type": "markdown",
   "metadata": {},
   "source": [
    "Question 2 with API"
   ]
  },
  {
   "cell_type": "code",
   "execution_count": 7,
   "metadata": {},
   "outputs": [],
   "source": [
    "Y_M_temp = tempreture_readings.select('Year','Month','stationNO','temp')\n",
    "Y_M_temp = Y_M_temp.filter((Y_M_temp.Year >= 1950) & (Y_M_temp.Year <= 2014) & (Y_M_temp.temp > 10))\n",
    "\n",
    "# Number of records in each month of each year\n",
    "Y_M_count = Y_M_temp.groupBy('Year','Month').count().orderBy('count',ascending = False)\n",
    "\n",
    "# Number of distinct records in each month of each year\n",
    "Y_M_count_distinct = Y_M_temp.distinct().groupBy('Year','Month').count().orderBy('count',ascending = False)"
   ]
  },
  {
   "cell_type": "markdown",
   "metadata": {},
   "source": [
    "Question 2 with SQL query"
   ]
  },
  {
   "cell_type": "code",
   "execution_count": 8,
   "metadata": {},
   "outputs": [],
   "source": [
    "# Adding table to the Session\n",
    "tempreture_readings.createOrReplaceTempView('tempreture_readings')\n",
    "\n",
    "# Number of records in each month of each year\n",
    "Query = 'SELECT Year, Month, COUNT(*) AS Count FROM tempreture_readings WHERE (temp > 10) AND (Year BETWEEN 1950 AND 2014) GROUP BY Year, Month ORDER BY COUNT(*) DESC'\n",
    "Y_M_count = spark.sql(Query)\n",
    "\n",
    "\n",
    "# Number of distinct records in each month of each year \n",
    "Query_distinct = ' SELECT Year, Month, COUNT(*) AS Count \\n FROM (SELECT DISTINCT Year, Month, stationNO, temp \\n FROM tempreture_readings \\n WHERE (temp >= 10) AND (Year BETWEEN 1950 AND 2014)) \\n GROUP BY Year, Month \\n ORDER BY COUNT(*) DESC'\n",
    "Y_M_count_distinct = spark.sql(Query_distinct)"
   ]
  },
  {
   "cell_type": "markdown",
   "metadata": {},
   "source": [
    "Question 3"
   ]
  },
  {
   "cell_type": "code",
   "execution_count": 9,
   "metadata": {},
   "outputs": [],
   "source": [
    "from pyspark.sql.functions import col, avg\n",
    "\n",
    "Y_M_Station_temp = tempreture_readings.select('Year','Month','stationNO','temp')\n",
    "Y_M_Station_temp = Y_M_Station_temp.filter((Y_M_Station_temp.Year >= 1960) & (Y_M_Station_temp.Year <= 2014))\n",
    "\n",
    "# Monthly Average temp for each Station, ordered by avg(temp)\n",
    "monthly_avg_perStation = Y_M_Station_temp.groupBy(\n",
    "    'Year','Month','stationNO').agg(avg(col('temp'))).orderBy('avg(temp)',ascending = False)"
   ]
  },
  {
   "cell_type": "markdown",
   "metadata": {},
   "source": [
    "Question 4"
   ]
  },
  {
   "cell_type": "code",
   "execution_count": 10,
   "metadata": {},
   "outputs": [],
   "source": [
    "# Selecting needed columns and filtering (tempreture)\n",
    "Station_temp = tempreture_readings.select('stationNO','temp')\n",
    "Station_temp = Station_temp.filter((Station_temp.temp >= 25) & (Station_temp.temp <= 30))\n",
    "\n",
    "# Selecting needed columns and filtering (precipitation)\n",
    "daily_precipitation = precipitation_readings.select('StationNO','Year','Month','Day','precipitation')\n",
    "daily_precipitation = daily_precipitation.filter(\n",
    "    (daily_precipitation.precipitation >= 100) & (daily_precipitation.precipitation <= 200))\n",
    "\n",
    "\n",
    "# MAximum temp for each station\n",
    "station_maxTemp = Station_temp.groupBy('stationNO').max('temp')\n",
    "\n",
    "# Maximum daily percipitation\n",
    "station_maxDailyPercipitation = daily_precipitation.groupBy('StationNO','Year','Month','Day').max('precipitation')\n",
    "\n",
    "\n",
    "result = station_maxTemp.join(\n",
    "    station_maxDailyPercipitation, on = 'StationNO', how = \"inner\").select('StationNO','max(temp)','max(precipitation)').orderBy('StationNO',ascending = False)"
   ]
  },
  {
   "cell_type": "markdown",
   "metadata": {},
   "source": [
    "Question 5"
   ]
  },
  {
   "cell_type": "code",
   "execution_count": 11,
   "metadata": {},
   "outputs": [],
   "source": [
    "# Stations in Ostergotland\n",
    "stations = stations_ostergotland.select('StationNO').distinct()\n",
    "\n",
    "# Selecting needed columns and filtering based on year\n",
    "monthly_precipitation = precipitation_readings.select('StationNO','Year','Month','precipitation')\n",
    "monthly_precipitation = monthly_precipitation.filter(\n",
    "    (monthly_precipitation.Year >= 1993) & (monthly_precipitation.Year <= 2016))\n",
    "\n",
    "# Joining stations and monthly_precipitation to get the monthly_precipitation of stations inOstergotland\n",
    "monthly_precipitation_filtered = monthly_precipitation.join(\n",
    "    stations, on = 'StationNO', how = 'inner').select('Year','Month','precipitation')\n",
    "\n",
    "# Monthly average and ordering based on year and then month\n",
    "result = monthly_precipitation_filtered.groupBy('Year','Month').agg(\n",
    "    avg(col('precipitation'))).orderBy('Year','Month',ascending = False)"
   ]
  },
  {
   "cell_type": "code",
   "execution_count": 12,
   "metadata": {},
   "outputs": [
    {
     "data": {
      "text/plain": [
       "[Row(Year=2016, Month=7, avg(precipitation)=0.0),\n",
       " Row(Year=2016, Month=6, avg(precipitation)=0.07006615228493701),\n",
       " Row(Year=2016, Month=5, avg(precipitation)=0.041570439090269626),\n",
       " Row(Year=2016, Month=4, avg(precipitation)=0.0395152408929266),\n",
       " Row(Year=2016, Month=3, avg(precipitation)=0.028538242021070966)]"
      ]
     },
     "execution_count": 12,
     "metadata": {},
     "output_type": "execute_result"
    }
   ],
   "source": [
    "result.take(5)"
   ]
  },
  {
   "cell_type": "code",
   "execution_count": null,
   "metadata": {},
   "outputs": [],
   "source": [
    "# Stations in Ostergotland\n",
    "stations = stations_ostergotland.select('StationNO').distinct()\n",
    "\n",
    "# Selecting needed columns and filtering based on year\n",
    "monthly_precipitation = precipitation_readings.select('StationNO','Year','Month','precipitation')\n",
    "monthly_precipitation = monthly_precipitation.filter(\n",
    "    (monthly_precipitation.Year >= 1993) & (monthly_precipitation.Year <= 2016))\n",
    "\n",
    "# Joining stations and monthly_precipitation to get the monthly_precipitation of stations inOstergotland\n",
    "monthly_precipitation_filtered = monthly_precipitation.join(\n",
    "    stations, on = 'StationNO', how = 'inner').select('Year','Month','precipitation')\n",
    "\n",
    "# Monthly average and ordering based on year and then month\n",
    "result = monthly_precipitation_filtered.groupBy('Year','Month').agg(\n",
    "    avg(col('precipitation'))).orderBy('Year','Month',ascending = False)"
   ]
  },
  {
   "cell_type": "markdown",
   "metadata": {},
   "source": [
    "Question 6"
   ]
  },
  {
   "cell_type": "code",
   "execution_count": 11,
   "metadata": {},
   "outputs": [],
   "source": [
    "## STEP 1: \n",
    "# Monthly average temp for each station between 1950 and 2014\n",
    "Y_M_Station_temp = tempreture_readings.select('Year','Month','stationNO','temp')\n",
    "Y_M_Station_temp = Y_M_Station_temp.filter((Y_M_Station_temp.Year >= 1950) & (Y_M_Station_temp.Year <= 2014))\n",
    "Y_M_Station_temp = Y_M_Station_temp.join(stations, on = 'StationNO', how = 'inner')\n",
    "\n",
    "\n",
    "# Monthly Average temp for each Station, ordered by avg(temp)\n",
    "monthly_avg_perStation = Y_M_Station_temp.groupBy('Year','Month','stationNO').agg(avg(col('temp')))\n",
    "\n",
    "\n",
    "## STEP 2: \n",
    "# Monthly Average temp for each month of each year\n",
    "monthly_avg = monthly_avg_perStation.groupBy('Year','Month').agg(\n",
    "    avg(col('avg(temp)'))).withColumnRenamed('avg(avg(temp))','monthly_avg')\n",
    "\n",
    "\n",
    "# long term average\n",
    "for_longterm = monthly_avg_perStation.filter(\n",
    "    (monthly_avg_perStation.Year >= 1950) & (monthly_avg_perStation.Year <= 1980))\n",
    "\n",
    "longterm_avg = for_longterm.groupBy('Month').agg(\n",
    "    avg(col('avg(temp)'))).withColumnRenamed('avg(avg(temp))','longterm_avg')\n",
    "\n",
    "## STEP 3:\n",
    "# Joining monthly_avg and longterm_avg on month column\n",
    "result = monthly_avg.join(longterm_avg, on='month', how = 'left')\n",
    "\n",
    "# Calculating the difference and add to dataframe\n",
    "difference = (result.monthly_avg - result.longterm_avg).alias('difference')\n",
    "result = result.select('Year','Month', difference).orderBy('Year','Month',ascending = False)"
   ]
  },
  {
   "cell_type": "code",
   "execution_count": 12,
   "metadata": {},
   "outputs": [],
   "source": [
    "### PLOT\n",
    "plot_df = result.toPandas()"
   ]
  },
  {
   "cell_type": "code",
   "execution_count": 16,
   "metadata": {},
   "outputs": [
    {
     "data": {
      "image/png": "[encoded data removed]",
      "text/plain": [
       "<matplotlib.figure.Figure at 0x1c24ddf6438>"
      ]
     },
     "metadata": {},
     "output_type": "display_data"
    }
   ],
   "source": [
    "import matplotlib.pyplot as plt\n",
    "import pandas as pd\n",
    "\n",
    "plt.plot(plot_df[\"Month\"], plot_df[\"difference\"], \"ro\")\n",
    "plt.ylabel('difference')\n",
    "plt.xlabel('Month')\n",
    "plt.show()"
   ]
  }
 ],
 "metadata": {
  "kernelspec": {
   "display_name": "Python 3",
   "language": "python",
   "name": "python3"
  },
  "language_info": {
   "codemirror_mode": {
    "name": "ipython",
    "version": 3
   },
   "file_extension": ".py",
   "mimetype": "text/x-python",
   "name": "python",
   "nbconvert_exporter": "python",
   "pygments_lexer": "ipython3",
   "version": "3.7.1"
  }
 },
 "nbformat": 4,
 "nbformat_minor": 2
}
